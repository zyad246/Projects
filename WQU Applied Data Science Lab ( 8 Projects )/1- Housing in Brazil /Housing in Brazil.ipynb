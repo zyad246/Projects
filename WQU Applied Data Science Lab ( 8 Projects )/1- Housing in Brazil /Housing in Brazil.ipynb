{
 "cells": [
  {
   "cell_type": "markdown",
   "id": "ce6c48ba",
   "metadata": {
    "deletable": false,
    "editable": false
   },
   "source": [
    "\n",
    "<div class=\"alert alert-info\" role=\"alert\">\n",
    "  <p>\n",
    "    <b>Usage Guidelines</b>\n",
    "  </p>\n",
    "\n",
    "  <p>\n",
    "    This lesson is part of the <b>DS Lab core curriculum</b>. For that reason, this notebook can only be used on your WQU virtual machine.\n",
    "  </p>\n",
    "\n",
    "  <p>\n",
    "    This means:\n",
    "    <ul>\n",
    "      <li><span style=\"color: red\">ⓧ</span> No downloading this notebook.</li>\n",
    "      <li><span style=\"color: red\">ⓧ</span> No re-sharing of this notebook with friends or colleagues.</li>\n",
    "      <li><span style=\"color: red\">ⓧ</span> No downloading the embedded videos in this notebook.</li>\n",
    "      <li><span style=\"color: red\">ⓧ</span> No re-sharing embedded videos with friends or colleagues.</li>\n",
    "      <li><span style=\"color: red\">ⓧ</span> No adding this notebook to public or private repositories.</li>\n",
    "      <li><span style=\"color: red\">ⓧ</span> No uploading this notebook (or screenshots of it) to other websites, including websites for study resources.</li>\n",
    "    </ul>\n",
    "\n",
    "  </p>\n",
    "</div>\n"
   ]
  },
  {
   "cell_type": "markdown",
   "id": "eee06e3b-dfe4-47dc-aba0-4b3dcc994eb3",
   "metadata": {
    "deletable": false,
    "editable": false
   },
   "source": [
    "<font size=\"+3\"><strong>1.5. Housing in Brazil 🇧🇷</strong></font>"
   ]
  },
  {
   "cell_type": "code",
   "execution_count": 5,
   "id": "5b0fa923-ccec-428a-bcd2-1a83a7f4bdee",
   "metadata": {
    "deletable": false,
    "editable": false,
    "init_cell": true,
    "tags": []
   },
   "outputs": [
    {
     "data": {
      "text/html": [
       "\n",
       "<style>\n",
       "  \n",
       "  .checkmark {\n",
       "    width: 56px;\n",
       "    height: 56px;\n",
       "    border-radius: 50%;\n",
       "    display: block;\n",
       "    stroke-width: 2;\n",
       "    stroke: #fff;\n",
       "    stroke-miterlimit: 10;\n",
       "    box-shadow: inset 0px 0px 0px #7ac142;\n",
       "    animation: fill .4s ease-in-out .4s forwards, scale .3s ease-in-out .9s both;\n",
       "  }\n",
       "  \n",
       "  .checkmark__circle {\n",
       "    stroke-dasharray: 166;\n",
       "    stroke-dashoffset: 166;\n",
       "    stroke-width: 2;\n",
       "    stroke-miterlimit: 10;\n",
       "    stroke: #7ac142;\n",
       "    fill: none;\n",
       "    animation: stroke .6s cubic-bezier(0.650, 0.000, 0.450, 1.000) forwards;\n",
       "  }\n",
       "  \n",
       "  .checkmark__check {\n",
       "    transform-origin: 50% 50%;\n",
       "    stroke-dasharray: 48;\n",
       "    stroke-dashoffset: 48;\n",
       "    animation: stroke .3s cubic-bezier(0.650, 0.000, 0.450, 1.000) .8s forwards;\n",
       "  }\n",
       "  \n",
       "  .failmark {\n",
       "    width: 56px;\n",
       "    height: 56px;\n",
       "    border-radius: 50%;\n",
       "    display: block;\n",
       "    stroke-width: 2;\n",
       "    stroke: #fff;\n",
       "    stroke-miterlimit: 10;\n",
       "    box-shadow: inset 0px 0px 0px #F34811;\n",
       "    animation: failfill .4s ease-in-out .4s forwards, scale .3s ease-in-out .9s both;\n",
       "  }\n",
       "  \n",
       "  .failmark__circle {\n",
       "    stroke-dasharray: 166;\n",
       "    stroke-dashoffset: 166;\n",
       "    stroke-width: 2;\n",
       "    stroke-miterlimit: 10;\n",
       "    stroke: #F34811;\n",
       "    fill: none;\n",
       "    animation: stroke .6s cubic-bezier(0.650, 0.000, 0.450, 1.000) forwards;\n",
       "  }\n",
       "  \n",
       "  @keyframes stroke {\n",
       "    100% {\n",
       "      stroke-dashoffset: 0;\n",
       "    }\n",
       "  }\n",
       "  \n",
       "  @keyframes scale {\n",
       "    0%, 100% {\n",
       "      transform: none;\n",
       "    }\n",
       "    50% {\n",
       "      transform: scale3d(1.1, 1.1, 1);\n",
       "    }\n",
       "  }\n",
       "  \n",
       "  @keyframes fill {\n",
       "    100% {\n",
       "      box-shadow: inset 0px 0px 0px 30px #7ac142;\n",
       "    }\n",
       "  }\n",
       "  \n",
       "  @keyframes failfill {\n",
       "    100% {\n",
       "      box-shadow: inset 0px 0px 0px 30px #F34811;\n",
       "    }\n",
       "  }\n",
       "  \n",
       "  \n",
       "  .wqet-result {\n",
       "    width: 450px;\n",
       "    clear: both;\n",
       "  }\n",
       "  \n",
       "  .wqet-result .animation {\n",
       "    float: left;\n",
       "    width: 100px;\n",
       "  }\n",
       "  \n",
       "  .wqet-result .animation .checkmark,\n",
       "  .wqet-result .animation .failmark {\n",
       "    margin: 20px auto 20px auto;\n",
       "  }\n",
       "  \n",
       "  .wqet-result .details {\n",
       "    float: right;\n",
       "    width: 349px;\n",
       "    padding: 28px 0;\n",
       "  }\n",
       "  \n",
       "  .wqet-result .details .title {\n",
       "    font-weight: bold;\n",
       "    font-size: 110%;\n",
       "  }\n",
       "  .wqet-result .details p {\n",
       "    margin: 0;\n",
       "  }\n",
       "</style>\n"
      ],
      "text/plain": [
       "<IPython.core.display.HTML object>"
      ]
     },
     "metadata": {},
     "output_type": "display_data"
    }
   ],
   "source": [
    "import wqet_grader\n",
    "\n",
    "wqet_grader.init(\"Project 1 Assessment\")"
   ]
  },
  {
   "cell_type": "markdown",
   "id": "05c571d0-8b68-4a88-864a-d66d285c2486",
   "metadata": {
    "deletable": false,
    "editable": false
   },
   "source": [
    "In this assignment, you'll work with a dataset of homes for sale in Brazil. Your goal is to determine if there are regional differences in the real estate market. Also, you will look at southern Brazil to see if there is a relationship between home size and price, similar to what you saw with housing in some states in Mexico. "
   ]
  },
  {
   "cell_type": "markdown",
   "id": "bbe04943-1184-4679-8dd8-05435b7968f1",
   "metadata": {
    "deletable": false,
    "editable": false
   },
   "source": [
    "<div class=\"alert alert-block alert-warning\">\n",
    "    <b>Note:</b> There are are 19 graded tasks in this assignment, but you only need to complete 18. Once you've successfully completed 18 tasks, you'll be automatically enrolled in the next project, and this assignment will be closed. This means that you might not be allowed to complete the last task. So if you get an error saying that you've already complete the course, that's good news! Move to project 2. \n",
    "</div>"
   ]
  },
  {
   "cell_type": "markdown",
   "id": "3745f220-01be-4085-85f2-63bff34b5bbd",
   "metadata": {
    "deletable": false,
    "editable": false
   },
   "source": [
    "**Before you start:** Import the libraries you'll use in this notebook: Matplotlib, pandas, and plotly. Be sure to import them under the aliases we've used in this project."
   ]
  },
  {
   "cell_type": "code",
   "execution_count": 1,
   "id": "f6b95bb4-c12b-4574-95e1-af2d0c44ff4b",
   "metadata": {
    "deletable": false
   },
   "outputs": [],
   "source": [
    "# Import Matplotlib, pandas, and plotly\n",
    "import pandas as pd \n",
    "import plotly as ply\n",
    "import matplotlib.pyplot as plt\n",
    "import plotly.express as px"
   ]
  },
  {
   "cell_type": "markdown",
   "id": "079140c1-3da2-43dc-83fc-3ca7bafa6631",
   "metadata": {
    "deletable": false,
    "editable": false
   },
   "source": [
    "# Prepare Data"
   ]
  },
  {
   "cell_type": "markdown",
   "id": "217f4240-d2d1-4ce1-9665-7452046e837f",
   "metadata": {
    "deletable": false,
    "editable": false
   },
   "source": [
    "In this assignment, you'll work with real estate data from Brazil.  In the `data` directory for this project there are two CSV that you need to import and clean, one-by-one."
   ]
  },
  {
   "cell_type": "markdown",
   "id": "6b12417f-57dd-4e0b-82c4-ecf3f13a147c",
   "metadata": {
    "deletable": false,
    "editable": false
   },
   "source": [
    "## Import"
   ]
  },
  {
   "cell_type": "markdown",
   "id": "0699a79b-1113-4561-86d9-1f301547c712",
   "metadata": {
    "deletable": false,
    "editable": false
   },
   "source": [
    "First, you are going to import and clean the data in `data/brasil-real-estate-1.csv`. "
   ]
  },
  {
   "cell_type": "markdown",
   "id": "7024e9ff-45da-4ab5-ac81-0315f5cecb6e",
   "metadata": {
    "deletable": false,
    "editable": false
   },
   "source": [
    "**Task 1.5.1:** Import the CSV file `data/brasil-real-estate-1.csv` into the DataFrame `df1`."
   ]
  },
  {
   "cell_type": "code",
   "execution_count": 3,
   "id": "778216c1-b028-41fb-95b2-386af2535fde",
   "metadata": {
    "deletable": false
   },
   "outputs": [
    {
     "data": {
      "text/html": [
       "<div>\n",
       "<style scoped>\n",
       "    .dataframe tbody tr th:only-of-type {\n",
       "        vertical-align: middle;\n",
       "    }\n",
       "\n",
       "    .dataframe tbody tr th {\n",
       "        vertical-align: top;\n",
       "    }\n",
       "\n",
       "    .dataframe thead th {\n",
       "        text-align: right;\n",
       "    }\n",
       "</style>\n",
       "<table border=\"1\" class=\"dataframe\">\n",
       "  <thead>\n",
       "    <tr style=\"text-align: right;\">\n",
       "      <th></th>\n",
       "      <th>property_type</th>\n",
       "      <th>place_with_parent_names</th>\n",
       "      <th>region</th>\n",
       "      <th>lat-lon</th>\n",
       "      <th>area_m2</th>\n",
       "      <th>price_usd</th>\n",
       "    </tr>\n",
       "  </thead>\n",
       "  <tbody>\n",
       "    <tr>\n",
       "      <th>0</th>\n",
       "      <td>apartment</td>\n",
       "      <td>|Brasil|Alagoas|Maceió|</td>\n",
       "      <td>Northeast</td>\n",
       "      <td>-9.6443051,-35.7088142</td>\n",
       "      <td>110.0</td>\n",
       "      <td>$187,230.85</td>\n",
       "    </tr>\n",
       "    <tr>\n",
       "      <th>1</th>\n",
       "      <td>apartment</td>\n",
       "      <td>|Brasil|Alagoas|Maceió|</td>\n",
       "      <td>Northeast</td>\n",
       "      <td>-9.6430934,-35.70484</td>\n",
       "      <td>65.0</td>\n",
       "      <td>$81,133.37</td>\n",
       "    </tr>\n",
       "    <tr>\n",
       "      <th>2</th>\n",
       "      <td>house</td>\n",
       "      <td>|Brasil|Alagoas|Maceió|</td>\n",
       "      <td>Northeast</td>\n",
       "      <td>-9.6227033,-35.7297953</td>\n",
       "      <td>211.0</td>\n",
       "      <td>$154,465.45</td>\n",
       "    </tr>\n",
       "    <tr>\n",
       "      <th>3</th>\n",
       "      <td>apartment</td>\n",
       "      <td>|Brasil|Alagoas|Maceió|</td>\n",
       "      <td>Northeast</td>\n",
       "      <td>-9.622837,-35.719556</td>\n",
       "      <td>99.0</td>\n",
       "      <td>$146,013.20</td>\n",
       "    </tr>\n",
       "    <tr>\n",
       "      <th>4</th>\n",
       "      <td>apartment</td>\n",
       "      <td>|Brasil|Alagoas|Maceió|</td>\n",
       "      <td>Northeast</td>\n",
       "      <td>-9.654955,-35.700227</td>\n",
       "      <td>55.0</td>\n",
       "      <td>$101,416.71</td>\n",
       "    </tr>\n",
       "  </tbody>\n",
       "</table>\n",
       "</div>"
      ],
      "text/plain": [
       "  property_type  place_with_parent_names     region                 lat-lon  \\\n",
       "0     apartment  |Brasil|Alagoas|Maceió|  Northeast  -9.6443051,-35.7088142   \n",
       "1     apartment  |Brasil|Alagoas|Maceió|  Northeast    -9.6430934,-35.70484   \n",
       "2         house  |Brasil|Alagoas|Maceió|  Northeast  -9.6227033,-35.7297953   \n",
       "3     apartment  |Brasil|Alagoas|Maceió|  Northeast    -9.622837,-35.719556   \n",
       "4     apartment  |Brasil|Alagoas|Maceió|  Northeast    -9.654955,-35.700227   \n",
       "\n",
       "   area_m2    price_usd  \n",
       "0    110.0  $187,230.85  \n",
       "1     65.0   $81,133.37  \n",
       "2    211.0  $154,465.45  \n",
       "3     99.0  $146,013.20  \n",
       "4     55.0  $101,416.71  "
      ]
     },
     "execution_count": 3,
     "metadata": {},
     "output_type": "execute_result"
    }
   ],
   "source": [
    "df1 = pd.read_csv(\"data/brasil-real-estate-1.csv\")\n",
    "df1.head()"
   ]
  },
  {
   "cell_type": "code",
   "execution_count": null,
   "id": "b1aba6df-0d8d-4de6-897e-66073f4f26fe",
   "metadata": {
    "deletable": false,
    "editable": false,
    "tags": []
   },
   "outputs": [],
   "source": [
    "\n",
    "wqet_grader.grade(\"Project 1 Assessment\", \"Task 1.5.1\", df1)"
   ]
  },
  {
   "cell_type": "markdown",
   "id": "77af0776-0c36-4498-9415-e0f75ea438ab",
   "metadata": {
    "deletable": false,
    "editable": false
   },
   "source": [
    "Before you move to the next task, take a moment to inspect `df1` using the `info` and `head` methods. What issues do you see in the data? What cleaning will you need to do before you can conduct your analysis?"
   ]
  },
  {
   "cell_type": "code",
   "execution_count": 9,
   "id": "760d1641-a466-461a-986c-9a25d7079d3f",
   "metadata": {
    "deletable": false
   },
   "outputs": [
    {
     "name": "stdout",
     "output_type": "stream",
     "text": [
      "<class 'pandas.core.frame.DataFrame'>\n",
      "RangeIndex: 12834 entries, 0 to 12833\n",
      "Data columns (total 6 columns):\n",
      " #   Column                   Non-Null Count  Dtype  \n",
      "---  ------                   --------------  -----  \n",
      " 0   property_type            12834 non-null  object \n",
      " 1   place_with_parent_names  12834 non-null  object \n",
      " 2   region                   12834 non-null  object \n",
      " 3   lat-lon                  11551 non-null  object \n",
      " 4   area_m2                  12834 non-null  float64\n",
      " 5   price_usd                12834 non-null  object \n",
      "dtypes: float64(1), object(5)\n",
      "memory usage: 601.7+ KB\n"
     ]
    }
   ],
   "source": [
    "df1.info()"
   ]
  },
  {
   "cell_type": "markdown",
   "id": "02266ebf-0522-42c9-9f62-da7104c9694f",
   "metadata": {
    "deletable": false,
    "editable": false
   },
   "source": [
    "**Task 1.5.2:** Drop all rows with `NaN` values from the DataFrame `df1`."
   ]
  },
  {
   "cell_type": "code",
   "execution_count": 4,
   "id": "51a789a6-cc2b-425e-9aff-33842b22c535",
   "metadata": {
    "deletable": false
   },
   "outputs": [
    {
     "name": "stdout",
     "output_type": "stream",
     "text": [
      "<class 'pandas.core.frame.DataFrame'>\n",
      "Int64Index: 11551 entries, 0 to 12833\n",
      "Data columns (total 6 columns):\n",
      " #   Column                   Non-Null Count  Dtype  \n",
      "---  ------                   --------------  -----  \n",
      " 0   property_type            11551 non-null  object \n",
      " 1   place_with_parent_names  11551 non-null  object \n",
      " 2   region                   11551 non-null  object \n",
      " 3   lat-lon                  11551 non-null  object \n",
      " 4   area_m2                  11551 non-null  float64\n",
      " 5   price_usd                11551 non-null  object \n",
      "dtypes: float64(1), object(5)\n",
      "memory usage: 631.7+ KB\n"
     ]
    }
   ],
   "source": [
    "df1 = df1.dropna()\n",
    "df1.info()"
   ]
  },
  {
   "cell_type": "code",
   "execution_count": null,
   "id": "132dc135-3923-4430-93ff-6a9ff3f5c370",
   "metadata": {
    "deletable": false,
    "editable": false
   },
   "outputs": [],
   "source": [
    "\n",
    "wqet_grader.grade(\"Project 1 Assessment\", \"Task 1.5.2\", df1)"
   ]
  },
  {
   "cell_type": "markdown",
   "id": "d34cf54f-5a8c-48df-9cb5-8a2a3926063f",
   "metadata": {
    "deletable": false,
    "editable": false
   },
   "source": [
    "**Task 1.5.3:** Use the `\"lat-lon\"` column to create two separate columns in `df1`: `\"lat\"` and `\"lon\"`. Make sure that the data type for these new columns is `float`."
   ]
  },
  {
   "cell_type": "code",
   "execution_count": null,
   "id": "ffa284ae-5df3-45a0-a143-cdaf276cbc2f",
   "metadata": {
    "deletable": false
   },
   "outputs": [],
   "source": [
    "df1[[\"lat\", \"lon\"]] = df1[\"lat-lon\"].str.split(\",\", expand=True)\n",
    "\n",
    "# expand ---> increase size of data frame\n",
    "# without replacing \n",
    "\n",
    "df1[\"lat\"] = df1.lat.astype(float)  # change lat and lon from type object(string) to type float\n",
    "df1[\"lon\"] = df1.lon.astype(float)"
   ]
  },
  {
   "cell_type": "code",
   "execution_count": null,
   "id": "15f505e1-2df4-462a-9d71-487a7551688b",
   "metadata": {
    "deletable": false,
    "editable": false
   },
   "outputs": [],
   "source": [
    "\n",
    "wqet_grader.grade(\"Project 1 Assessment\", \"Task 1.5.3\", df1)"
   ]
  },
  {
   "cell_type": "markdown",
   "id": "09545511-b4d8-4057-aa1a-d3d79aa8d5f6",
   "metadata": {
    "deletable": false,
    "editable": false
   },
   "source": [
    "**Task 1.5.4:** Use the `\"place_with_parent_names\"` column to create a `\"state\"` column for `df1`. (Note that the state name always appears after `\"|Brasil|\"` in each string.)"
   ]
  },
  {
   "cell_type": "code",
   "execution_count": null,
   "id": "3a6bb39e-f62d-499d-a83c-7092d4d1679c",
   "metadata": {
    "deletable": false
   },
   "outputs": [],
   "source": [
    "df1[\"state\"] = df1[\"place_with_parent_names\"].str.split(\"|\", expand=True)[2]\n",
    "df1.head()"
   ]
  },
  {
   "cell_type": "code",
   "execution_count": null,
   "id": "c6a49ac1-db70-48b8-b558-90d6dc83bcd5",
   "metadata": {
    "deletable": false,
    "editable": false
   },
   "outputs": [],
   "source": [
    "\n",
    "wqet_grader.grade(\"Project 1 Assessment\", \"Task 1.5.4\", df1)"
   ]
  },
  {
   "cell_type": "markdown",
   "id": "12a7e9d4-445f-41bc-9a3b-0304945b8b7b",
   "metadata": {
    "deletable": false,
    "editable": false
   },
   "source": [
    "**Task 1.5.5:** Transform the `\"price_usd\"` column of `df1` so that all values are floating-point numbers instead of strings. "
   ]
  },
  {
   "cell_type": "code",
   "execution_count": null,
   "id": "d9962e97-7cd2-4944-801e-3e651c5236d9",
   "metadata": {
    "deletable": false
   },
   "outputs": [],
   "source": [
    "df1.dropna(inplace = True)\n",
    "df1[\"price_usd\"]=(\n",
    "  df1[\"price_usd\"].str.replace(\"$\",\"\",regex = False).str.replace(\",\",\"\").astype(float)\n",
    ")\n",
    "df1.info()"
   ]
  },
  {
   "cell_type": "code",
   "execution_count": null,
   "id": "ea3e718b-8186-4332-887b-a4ed8ec2d8d5",
   "metadata": {
    "deletable": false,
    "editable": false
   },
   "outputs": [],
   "source": [
    "\n",
    "wqet_grader.grade(\"Project 1 Assessment\", \"Task 1.5.5\", df1)"
   ]
  },
  {
   "cell_type": "code",
   "execution_count": null,
   "id": "6d097e00-fb67-4654-bb2c-ebf279704737",
   "metadata": {},
   "outputs": [],
   "source": [
    "df1 = df1.drop([\"lat-lon\" , \"place_with_parent_name\"] , axis = \"columns\")\n",
    "df1.head()"
   ]
  },
  {
   "cell_type": "markdown",
   "id": "298b0413-1ea6-4970-b479-d29e2e54d2d0",
   "metadata": {
    "deletable": false,
    "editable": false
   },
   "source": [
    "**Task 1.5.6:** Drop the `\"lat-lon\"` and `\"place_with_parent_names\"` columns from `df1`."
   ]
  },
  {
   "cell_type": "code",
   "execution_count": null,
   "id": "6a8ca1b8-236f-429c-80bc-13a111020bd6",
   "metadata": {
    "deletable": false
   },
   "outputs": [],
   "source": [
    "df1 = df1.drop(['lat-lon','place_with_parent_names'], axis=\"columns\")\n",
    "df1.head()"
   ]
  },
  {
   "cell_type": "code",
   "execution_count": null,
   "id": "cf78917c-de3f-460c-b01b-657de0486c40",
   "metadata": {
    "deletable": false,
    "editable": false
   },
   "outputs": [],
   "source": [
    "\n",
    "wqet_grader.grade(\"Project 1 Assessment\", \"Task 1.5.6\", df1)"
   ]
  },
  {
   "cell_type": "code",
   "execution_count": null,
   "id": "d9f27885-7525-4c68-95c8-9c23d1af9354",
   "metadata": {},
   "outputs": [],
   "source": [
    "df1.info()"
   ]
  },
  {
   "cell_type": "markdown",
   "id": "80c15538-fc5d-43b7-a0ca-4e804cb1ef80",
   "metadata": {
    "deletable": false,
    "editable": false
   },
   "source": [
    "Now that you have cleaned `data/brasil-real-estate-1.csv` and created `df1`, you are going to import and clean the data from the second file, `brasil-real-estate-2.csv`. "
   ]
  },
  {
   "cell_type": "markdown",
   "id": "e9bb61c8-caa2-4cfd-8c9c-3441c2b05ffa",
   "metadata": {
    "deletable": false,
    "editable": false
   },
   "source": [
    "**Task 1.5.7:** Import the CSV file `brasil-real-estate-2.csv` into the DataFrame `df2`."
   ]
  },
  {
   "cell_type": "code",
   "execution_count": null,
   "id": "d3de50f1-b01f-4be9-982f-b189c8e0a069",
   "metadata": {
    "deletable": false
   },
   "outputs": [],
   "source": [
    "df2 = pd.read_csv(\"data/brasil-real-estate-2.csv\")\n",
    "df2.head()"
   ]
  },
  {
   "cell_type": "code",
   "execution_count": null,
   "id": "465b3a3c-00b3-4aa8-a122-4660ef6e9347",
   "metadata": {
    "deletable": false,
    "editable": false
   },
   "outputs": [],
   "source": [
    "\n",
    "wqet_grader.grade(\"Project 1 Assessment\", \"Task 1.5.7\", df2)"
   ]
  },
  {
   "cell_type": "markdown",
   "id": "367018d1-c5e1-4d42-9e54-1f8773b0c4e3",
   "metadata": {
    "deletable": false,
    "editable": false
   },
   "source": [
    "Before you jump to the next task, take a look at `df2` using the `info` and `head` methods. What issues do you see in the data? How is it similar or different from `df1`?"
   ]
  },
  {
   "cell_type": "code",
   "execution_count": null,
   "id": "c6465562-ea0a-435c-9b78-2a63a1d05b5b",
   "metadata": {
    "deletable": false
   },
   "outputs": [],
   "source": []
  },
  {
   "cell_type": "markdown",
   "id": "5e4131b4-257e-450f-bebc-b095daedc04d",
   "metadata": {
    "deletable": false,
    "editable": false
   },
   "source": [
    "**Task 1.5.8:** Use the `\"price_brl\"` column to create a new column named `\"price_usd\"`. (Keep in mind that, when this data was collected in 2015 and 2016, a US dollar cost 3.19 Brazilian reals.)"
   ]
  },
  {
   "cell_type": "code",
   "execution_count": null,
   "id": "f720d64e-29d4-4b22-a44e-c48c52f30813",
   "metadata": {
    "deletable": false
   },
   "outputs": [],
   "source": [
    "df2['price_usd'] = df2['price_brl'] / 3.19 "
   ]
  },
  {
   "cell_type": "code",
   "execution_count": null,
   "id": "a5d3a093-6bfa-408f-b9eb-23f04b6f7653",
   "metadata": {},
   "outputs": [],
   "source": [
    "df2.head()"
   ]
  },
  {
   "cell_type": "code",
   "execution_count": null,
   "id": "4aadd3f5-0665-44ff-b1c4-eb675db897de",
   "metadata": {
    "deletable": false,
    "editable": false
   },
   "outputs": [],
   "source": [
    "\n",
    "wqet_grader.grade(\"Project 1 Assessment\", \"Task 1.5.8\", df2)"
   ]
  },
  {
   "cell_type": "code",
   "execution_count": null,
   "id": "10fdee11-516d-4188-a01d-b378e83ab925",
   "metadata": {},
   "outputs": [],
   "source": []
  },
  {
   "cell_type": "markdown",
   "id": "74edaa87-9043-46e6-a845-bf53d12faa6e",
   "metadata": {
    "deletable": false,
    "editable": false
   },
   "source": [
    "**Task 1.5.9:** Drop the `\"price_brl\"` column from `df2`, as well as any rows that have `NaN` values. "
   ]
  },
  {
   "cell_type": "code",
   "execution_count": null,
   "id": "b608f291-e5c0-4de3-be93-b851acc855a0",
   "metadata": {
    "deletable": false
   },
   "outputs": [],
   "source": [
    "df2 = df2.dropna()\n",
    "df2 = df2.drop('price_brl' , axis = 1)\n",
    "df2.head()"
   ]
  },
  {
   "cell_type": "code",
   "execution_count": null,
   "id": "33813c89-a2ac-46ad-9315-bd68d1b869b5",
   "metadata": {
    "deletable": false,
    "editable": false
   },
   "outputs": [],
   "source": [
    "\n",
    "wqet_grader.grade(\"Project 1 Assessment\", \"Task 1.5.9\", df2)"
   ]
  },
  {
   "cell_type": "markdown",
   "id": "63100093-f5ac-4dfe-9c46-9df3852ad1fc",
   "metadata": {
    "deletable": false,
    "editable": false
   },
   "source": [
    "OK! Now that you've cleaned the data from both CSV files and created `df1` and `df2`, it's time to combine them into a single DataFrame."
   ]
  },
  {
   "cell_type": "markdown",
   "id": "39b81104-a453-4da6-9b91-501a3c612044",
   "metadata": {
    "deletable": false,
    "editable": false
   },
   "source": [
    "**Task 1.5.10:** Concatenate `df1` and `df2` to create a new DataFrame named `df`. "
   ]
  },
  {
   "cell_type": "code",
   "execution_count": null,
   "id": "adb4e051-e652-42e6-973d-51b9f6e23496",
   "metadata": {
    "deletable": false
   },
   "outputs": [],
   "source": [
    "df = pd.concat([df1,df2])\n",
    "print(\"df shape:\", df.shape)"
   ]
  },
  {
   "cell_type": "code",
   "execution_count": null,
   "id": "d4d574b4-374a-489b-9017-dbc1993650ac",
   "metadata": {
    "deletable": false,
    "editable": false
   },
   "outputs": [],
   "source": [
    "\n",
    "wqet_grader.grade(\"Project 1 Assessment\", \"Task 1.5.10\", df)"
   ]
  },
  {
   "cell_type": "markdown",
   "id": "b6bfff3a-4725-4aab-9b3d-6e9a99a58c4d",
   "metadata": {
    "deletable": false,
    "editable": false
   },
   "source": [
    "<div class=\"alert alert-block alert-info\">\n",
    "    <p><b>Frequent Question:</b> I can't pass this question, and I don't know what I've done wrong. 😠 What's happening?</p>\n",
    "    <p><b>Tip:</b> In this assignment, you're working with data that's similar — but not identical — the data used in the lessons. That means that you might need to make adjust the code you used in the lessons to work here. Take a second look at <code>df1</code> after you complete 1.5.6, and make sure you've correctly created the state names.</p>\n",
    "</div>"
   ]
  },
  {
   "cell_type": "markdown",
   "id": "4cccbbd5-5548-4431-822b-26a1a0f7af22",
   "metadata": {
    "deletable": false,
    "editable": false
   },
   "source": [
    "## Explore"
   ]
  },
  {
   "cell_type": "markdown",
   "id": "59186cd8-3917-4fb0-902e-8c73e91e0172",
   "metadata": {
    "deletable": false,
    "editable": false
   },
   "source": [
    "It's time to start exploring your data. In this section, you'll use your new data visualization skills to learn more about the regional differences in the Brazilian real estate market.\n",
    "\n",
    "Complete the code below to create a `scatter_mapbox` showing the location of the properties in `df`.<span style='color: transparent; font-size:1%'>WQU WorldQuant University Applied Data Science Lab QQQQ</span>"
   ]
  },
  {
   "cell_type": "code",
   "execution_count": null,
   "id": "e5563013-2290-46a1-bbb5-2575b1b17207",
   "metadata": {
    "deletable": false
   },
   "outputs": [],
   "source": [
    "fig = px.scatter_mapbox(\n",
    "    df,\n",
    "    lat=\"lat\",\n",
    "    lon=\"lon\",\n",
    "    center={\"lat\": -14.2, \"lon\": -51.9},  # Map will be centered on Brazil\n",
    "    width=600,\n",
    "    height=600,\n",
    "    hover_data=[\"price_usd\"],  # Display price when hovering mouse over house\n",
    ")\n",
    "\n",
    "fig.update_layout(mapbox_style=\"open-street-map\")\n",
    "\n",
    "fig.show()"
   ]
  },
  {
   "cell_type": "markdown",
   "id": "37b8b9e1-2be8-4d18-97f7-0635fb269487",
   "metadata": {
    "deletable": false,
    "editable": false
   },
   "source": [
    "**Task 1.5.11:** Use the `describe` method to create a DataFrame `summary_stats` with the summary statistics for the `\"area_m2\"` and `\"price_usd\"` columns."
   ]
  },
  {
   "cell_type": "code",
   "execution_count": null,
   "id": "3440a823-b9e1-4208-92b6-38edf993fe15",
   "metadata": {
    "deletable": false
   },
   "outputs": [],
   "source": [
    "dfa = df[[\"area_m2\" , \"price_usd\"]]\n",
    "summary_stats = dfa.describe()\n",
    "summary_stats"
   ]
  },
  {
   "cell_type": "code",
   "execution_count": null,
   "id": "cfeced48-fa27-48d9-b62f-ac1e0f198c84",
   "metadata": {
    "deletable": false,
    "editable": false
   },
   "outputs": [],
   "source": [
    "\n",
    "wqet_grader.grade(\"Project 1 Assessment\", \"Task 1.5.11\", summary_stats)"
   ]
  },
  {
   "cell_type": "markdown",
   "id": "47c6f1a1-bd92-424e-aef9-acdb3d11af82",
   "metadata": {
    "deletable": false,
    "editable": false
   },
   "source": [
    "**Task 1.5.12:** Create a histogram of `\"price_usd\"`. Make sure that the x-axis has the label `\"Price [USD]\"`, the y-axis has the label `\"Frequency\"`, and the plot has the title `\"Distribution of Home Prices\"`. Use Matplotlib (`plt`)."
   ]
  },
  {
   "cell_type": "code",
   "execution_count": null,
   "id": "c70eb726-30f1-4be7-b138-c5b9e263dfe9",
   "metadata": {
    "deletable": false
   },
   "outputs": [],
   "source": [
    "# Build histogram\n",
    "plt.hist(df[\"price_usd\"])\n",
    "\n",
    "\n",
    "# Label axes\n",
    "plt.xlabel(\"Price [USD]\")\n",
    "plt.ylabel(\"Frequency\")\n",
    "# Add title\n",
    "plt.title(\"Distribution of Home Prices\")\n",
    "\n",
    "# Don't change the code below 👇\n",
    "plt.savefig(\"images/1-5-12.png\", dpi=150)\n"
   ]
  },
  {
   "cell_type": "code",
   "execution_count": null,
   "id": "43152591-cfe4-4505-8038-a6d002e740f1",
   "metadata": {
    "deletable": false,
    "editable": false
   },
   "outputs": [],
   "source": [
    "with open(\"images/1-5-12.png\", \"rb\") as file:\n",
    "    wqet_grader.grade(\"Project 1 Assessment\", \"Task 1.5.12\", file)"
   ]
  },
  {
   "cell_type": "markdown",
   "id": "85b7220c-d8d0-40db-8e11-33c48f6c0a20",
   "metadata": {
    "deletable": false,
    "editable": false
   },
   "source": [
    "**Task 1.5.13:** Create a horizontal boxplot of `\"area_m2\"`. Make sure that the x-axis has the label `\"Area [sq meters]\"` and the plot has the title `\"Distribution of Home Sizes\"`. Use Matplotlib (`plt`)."
   ]
  },
  {
   "cell_type": "code",
   "execution_count": null,
   "id": "75b2b2d5-58eb-4259-8a86-8eb05516133a",
   "metadata": {
    "deletable": false
   },
   "outputs": [],
   "source": [
    "# Build box plot\n",
    "plt.boxplot(df[\"area_m2\"])\n",
    "\n",
    "\n",
    "# Label x-axis\n",
    "plt.xlabel(\"Area [sq meters]\")\n",
    "\n",
    "# Add title\n",
    "plt.title(\"Distribution of Home Sizes\")\n",
    "\n",
    "# Don't change the code below 👇\n",
    "plt.savefig(\"images/1-5-13.png\", dpi=150)\n"
   ]
  },
  {
   "cell_type": "code",
   "execution_count": null,
   "id": "2f09497a-eb71-4fef-929c-5fc7acf90814",
   "metadata": {
    "deletable": false,
    "editable": false
   },
   "outputs": [],
   "source": [
    "with open(\"images/1-5-13.png\", \"rb\") as file:\n",
    "    wqet_grader.grade(\"Project 1 Assessment\", \"Task 1.5.13\", file)"
   ]
  },
  {
   "cell_type": "markdown",
   "id": "ccd46eb8-ca31-41ad-bfe7-32e30db81b41",
   "metadata": {
    "deletable": false,
    "editable": false
   },
   "source": [
    "**Task 1.5.14:** Use the `groupby` method to create a Series named `mean_price_by_region` that shows the mean home price in each region in Brazil, sorted from smallest to largest."
   ]
  },
  {
   "cell_type": "code",
   "execution_count": null,
   "id": "64d7e89e-c2f3-49bd-8f3d-f8ea338aea41",
   "metadata": {
    "deletable": false
   },
   "outputs": [],
   "source": [
    "mean_price_by_region = df.groupby(\"region\")[\"price_usd\"].mean().sort_values(ascending = True)\n",
    "mean_price_by_region.head()"
   ]
  },
  {
   "cell_type": "code",
   "execution_count": null,
   "id": "59d87909-5a38-426e-b6e5-d56826e2c4d0",
   "metadata": {
    "deletable": false,
    "editable": false
   },
   "outputs": [],
   "source": [
    "\n",
    "wqet_grader.grade(\"Project 1 Assessment\", \"Task 1.5.14\", mean_price_by_region)"
   ]
  },
  {
   "cell_type": "markdown",
   "id": "8745fd92-7c3c-4aff-8766-46e951ccdf0d",
   "metadata": {
    "deletable": false,
    "editable": false
   },
   "source": [
    "**Task 1.5.15:** Use `mean_price_by_region` to create a bar chart. Make sure you label the x-axis as `\"Region\"` and the y-axis as `\"Mean Price [USD]\"`, and give the chart the title `\"Mean Home Price by Region\"`. Use pandas. "
   ]
  },
  {
   "cell_type": "code",
   "execution_count": null,
   "id": "a72a42d1-a47a-47ec-9a7b-dde1949a29a0",
   "metadata": {
    "deletable": false
   },
   "outputs": [],
   "source": [
    "# Build bar chart, label axes, add title\n",
    "mean_price_by_region.plot(\n",
    "   kind = \"bar\",\n",
    "    xlabel= \"Region\",\n",
    "    ylabel=\"Mean Price [USD]\",\n",
    "    title= \"Mean Home Price by Region\"\n",
    ");\n",
    "\n",
    "# Don't change the code below 👇\n",
    "plt.savefig(\"images/1-5-15.png\", dpi=150)\n"
   ]
  },
  {
   "cell_type": "code",
   "execution_count": null,
   "id": "a12e4464-49fe-434c-87a2-2edd1ba376d8",
   "metadata": {
    "deletable": false,
    "editable": false
   },
   "outputs": [],
   "source": [
    "with open(\"images/1-5-15.png\", \"rb\") as file:\n",
    "    wqet_grader.grade(\"Project 1 Assessment\", \"Task 1.5.15\", file)"
   ]
  },
  {
   "cell_type": "markdown",
   "id": "80f35ca2-1bec-4f45-aebe-72218e765be9",
   "metadata": {
    "deletable": false,
    "editable": false
   },
   "source": [
    "<div class=\"alert alert-block alert-info\">\n",
    "    <b>Keep it up!</b> You're halfway through your data exploration. Take one last break and get ready for the final push. 🚀\n",
    "</div>\n",
    "\n",
    "You're now going to shift your focus to the southern region of Brazil, and look at the relationship between home size and price.\n",
    "\n",
    "**Task 1.5.16:** Create a DataFrame `df_south` that contains all the homes from `df` that are in the `\"South\"` region. "
   ]
  },
  {
   "cell_type": "code",
   "execution_count": null,
   "id": "26d30a7a-bb61-4426-94c4-d855b693024d",
   "metadata": {
    "deletable": false
   },
   "outputs": [],
   "source": [
    "df_south = df[df[\"region\"]==\"South\"]\n",
    "df_south.head()"
   ]
  },
  {
   "cell_type": "code",
   "execution_count": null,
   "id": "4f449bf4-4c78-462c-b2d7-f745bd934709",
   "metadata": {
    "deletable": false,
    "editable": false
   },
   "outputs": [],
   "source": [
    "\n",
    "wqet_grader.grade(\"Project 1 Assessment\", \"Task 1.5.16\", df_south)"
   ]
  },
  {
   "cell_type": "markdown",
   "id": "b9703517-9c63-4f06-a82c-bcfdbc0e55d3",
   "metadata": {
    "deletable": false,
    "editable": false
   },
   "source": [
    "**Task 1.5.17:** Use the `value_counts` method to create a Series `homes_by_state` that contains the number of properties in each state in `df_south`. "
   ]
  },
  {
   "cell_type": "code",
   "execution_count": null,
   "id": "639ce59c-14cb-4840-8839-2c4cdd13922a",
   "metadata": {
    "deletable": false
   },
   "outputs": [],
   "source": [
    "homes_by_state = df_south[\"state\"].value_counts()\n",
    "homes_by_state"
   ]
  },
  {
   "cell_type": "code",
   "execution_count": null,
   "id": "25d1b4c9-8e16-4fa1-92d5-06736e88e66d",
   "metadata": {
    "deletable": false,
    "editable": false
   },
   "outputs": [],
   "source": [
    "\n",
    "wqet_grader.grade(\"Project 1 Assessment\", \"Task 1.5.17\", homes_by_state)"
   ]
  },
  {
   "cell_type": "markdown",
   "id": "76ce7c2a-1fac-4626-958a-4b4780d8b63c",
   "metadata": {
    "deletable": false,
    "editable": false
   },
   "source": [
    "**Task 1.5.18:** Create a scatter plot showing price vs. area for the state in `df_south` that has the largest number of properties. Be sure to label the x-axis `\"Area [sq meters]\"` and the y-axis `\"Price [USD]\"`; and use the title `\"<name of state>: Price vs. Area\"`. Use Matplotlib (`plt`)."
   ]
  },
  {
   "cell_type": "markdown",
   "id": "06ca28ff",
   "metadata": {
    "deletable": false,
    "editable": false
   },
   "source": [
    "<div class=\"alert alert-block alert-info\">\n",
    "    <p><b>Tip:</b> You should replace <code>&lt;name of state&gt;</code> with the name of the state that has the largest number of properties.</p>\n",
    "</div>"
   ]
  },
  {
   "cell_type": "code",
   "execution_count": null,
   "id": "1914714d-ff40-4265-9794-e2ae4c5e55da",
   "metadata": {
    "deletable": false
   },
   "outputs": [],
   "source": [
    "# Subset data\n",
    "df_south_rgs = df[df[\"state\"] == \"Rio Grande do Sul\"]\n",
    "\n",
    "# Build scatter plot\n",
    "plt.scatter(x=df_south_rgs[\"area_m2\"] , y=df_south_rgs[\"price_usd\"])\n",
    "\n",
    "\n",
    "# Label axes\n",
    "plt.xlabel(\"Area [sq meters]\")\n",
    "plt.ylabel(\"Price[USD]\")\n",
    "# Add title\n",
    "plt.title(\"Rio Grande do Sul: Price vs. Area\")\n",
    "\n",
    "# Don't change the code below 👇\n",
    "plt.savefig(\"images/1-5-18.png\", dpi=150)\n"
   ]
  },
  {
   "cell_type": "code",
   "execution_count": null,
   "id": "4acc74bc-4f59-4a3a-bcc2-bdc04d5b804a",
   "metadata": {
    "deletable": false,
    "editable": false
   },
   "outputs": [],
   "source": [
    "with open(\"images/1-5-18.png\", \"rb\") as file:\n",
    "    wqet_grader.grade(\"Project 1 Assessment\", \"Task 1.5.18\", file)"
   ]
  },
  {
   "cell_type": "markdown",
   "id": "98d0f678-7bc5-4eba-af4f-5e808ff05b13",
   "metadata": {
    "deletable": false,
    "editable": false
   },
   "source": [
    "**Task 1.5.19:** Create a dictionary `south_states_corr`, where the keys are the names of the three states in the `\"South\"` region of Brazil, and their associated values are the correlation coefficient between `\"area_m2\"` and `\"price_usd\"` in that state.\n",
    "\n",
    "As an example, here's a dictionary with the states and correlation coefficients for the Southeast region. Since you're looking at a different region, the states and coefficients will be different, but the structure of the dictionary will be the same.\n",
    "\n",
    "```python\n",
    "{'Espírito Santo': 0.6311332554173303,\n",
    " 'Minas Gerais': 0.5830029036378931,\n",
    " 'Rio de Janeiro': 0.4554077103515366,\n",
    " 'São Paulo': 0.45882050624839366}\n",
    "```"
   ]
  },
  {
   "cell_type": "code",
   "execution_count": null,
   "id": "4311e89d-827b-4c12-9f3e-fac53b5e6f9e",
   "metadata": {
    "deletable": false
   },
   "outputs": [],
   "source": [
    "south_states_corr = df_south_rgs[\"area_m2\"].corr(df_south_rgs[\"price_usd\"])\n",
    "\n",
    "south_states_corr"
   ]
  },
  {
   "cell_type": "code",
   "execution_count": null,
   "id": "46f522be-74cf-4ee4-be8c-66c7aef1f762",
   "metadata": {
    "deletable": false,
    "editable": false
   },
   "outputs": [],
   "source": [
    "wqet_grader.grade(\"Project 1 Assessment\", \"Task 1.5.19\", south_states_corr)"
   ]
  },
  {
   "cell_type": "markdown",
   "id": "a48da646",
   "metadata": {
    "deletable": false,
    "editable": false
   },
   "source": [
    "---\n",
    "Copyright 2022 WorldQuant University. This\n",
    "content is licensed solely for personal use. Redistribution or\n",
    "publication of this material is strictly prohibited.\n"
   ]
  }
 ],
 "metadata": {
  "kernelspec": {
   "display_name": "Python 3 (ipykernel)",
   "language": "python",
   "name": "python3"
  },
  "language_info": {
   "codemirror_mode": {
    "name": "ipython",
    "version": 3
   },
   "file_extension": ".py",
   "mimetype": "text/x-python",
   "name": "python",
   "nbconvert_exporter": "python",
   "pygments_lexer": "ipython3",
   "version": "3.9.6"
  },
  "toc-autonumbering": false,
  "vscode": {
   "interpreter": {
    "hash": "1aa838312b528b31b4c7961d29e363799be244ea5d189daeb964016c6fd343fc"
   }
  }
 },
 "nbformat": 4,
 "nbformat_minor": 5
}

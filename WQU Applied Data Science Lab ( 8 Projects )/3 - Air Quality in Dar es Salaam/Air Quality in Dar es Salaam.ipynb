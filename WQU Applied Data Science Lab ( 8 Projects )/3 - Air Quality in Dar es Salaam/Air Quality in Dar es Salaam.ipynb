{
 "cells": [
  {
   "cell_type": "markdown",
   "id": "e28c9d17",
   "metadata": {
    "deletable": false,
    "editable": false
   },
   "source": [
    "\n",
    "<div class=\"alert alert-info\" role=\"alert\">\n",
    "  <p>\n",
    "    <b>Usage Guidelines</b>\n",
    "  </p>\n",
    "\n",
    "  <p>\n",
    "    This lesson is part of the <b>DS Lab core curriculum</b>. For that reason, this notebook can only be used on your WQU virtual machine.\n",
    "  </p>\n",
    "\n",
    "  <p>\n",
    "    This means:\n",
    "    <ul>\n",
    "      <li><span style=\"color: red\">ⓧ</span> No downloading this notebook.</li>\n",
    "      <li><span style=\"color: red\">ⓧ</span> No re-sharing of this notebook with friends or colleagues.</li>\n",
    "      <li><span style=\"color: red\">ⓧ</span> No downloading the embedded videos in this notebook.</li>\n",
    "      <li><span style=\"color: red\">ⓧ</span> No re-sharing embedded videos with friends or colleagues.</li>\n",
    "      <li><span style=\"color: red\">ⓧ</span> No adding this notebook to public or private repositories.</li>\n",
    "      <li><span style=\"color: red\">ⓧ</span> No uploading this notebook (or screenshots of it) to other websites, including websites for study resources.</li>\n",
    "    </ul>\n",
    "\n",
    "  </p>\n",
    "</div>\n"
   ]
  },
  {
   "cell_type": "markdown",
   "id": "d28effa8-98dc-459e-9741-dd0ebea44a5b",
   "metadata": {
    "deletable": false,
    "editable": false
   },
   "source": [
    "<font size=\"+3\"><strong>3.5. Air Quality in Dar es Salaam 🇹🇿</strong></font>"
   ]
  },
  {
   "cell_type": "code",
   "execution_count": 2,
   "id": "ec3bc549-1ab5-47bd-ae8e-8ec3d8e4ccac",
   "metadata": {
    "deletable": false,
    "editable": false,
    "init_cell": true
   },
   "outputs": [
    {
     "data": {
      "text/html": [
       "\n",
       "<style>\n",
       "  \n",
       "  .checkmark {\n",
       "    width: 56px;\n",
       "    height: 56px;\n",
       "    border-radius: 50%;\n",
       "    display: block;\n",
       "    stroke-width: 2;\n",
       "    stroke: #fff;\n",
       "    stroke-miterlimit: 10;\n",
       "    box-shadow: inset 0px 0px 0px #7ac142;\n",
       "    animation: fill .4s ease-in-out .4s forwards, scale .3s ease-in-out .9s both;\n",
       "  }\n",
       "  \n",
       "  .checkmark__circle {\n",
       "    stroke-dasharray: 166;\n",
       "    stroke-dashoffset: 166;\n",
       "    stroke-width: 2;\n",
       "    stroke-miterlimit: 10;\n",
       "    stroke: #7ac142;\n",
       "    fill: none;\n",
       "    animation: stroke .6s cubic-bezier(0.650, 0.000, 0.450, 1.000) forwards;\n",
       "  }\n",
       "  \n",
       "  .checkmark__check {\n",
       "    transform-origin: 50% 50%;\n",
       "    stroke-dasharray: 48;\n",
       "    stroke-dashoffset: 48;\n",
       "    animation: stroke .3s cubic-bezier(0.650, 0.000, 0.450, 1.000) .8s forwards;\n",
       "  }\n",
       "  \n",
       "  .failmark {\n",
       "    width: 56px;\n",
       "    height: 56px;\n",
       "    border-radius: 50%;\n",
       "    display: block;\n",
       "    stroke-width: 2;\n",
       "    stroke: #fff;\n",
       "    stroke-miterlimit: 10;\n",
       "    box-shadow: inset 0px 0px 0px #F34811;\n",
       "    animation: failfill .4s ease-in-out .4s forwards, scale .3s ease-in-out .9s both;\n",
       "  }\n",
       "  \n",
       "  .failmark__circle {\n",
       "    stroke-dasharray: 166;\n",
       "    stroke-dashoffset: 166;\n",
       "    stroke-width: 2;\n",
       "    stroke-miterlimit: 10;\n",
       "    stroke: #F34811;\n",
       "    fill: none;\n",
       "    animation: stroke .6s cubic-bezier(0.650, 0.000, 0.450, 1.000) forwards;\n",
       "  }\n",
       "  \n",
       "  @keyframes stroke {\n",
       "    100% {\n",
       "      stroke-dashoffset: 0;\n",
       "    }\n",
       "  }\n",
       "  \n",
       "  @keyframes scale {\n",
       "    0%, 100% {\n",
       "      transform: none;\n",
       "    }\n",
       "    50% {\n",
       "      transform: scale3d(1.1, 1.1, 1);\n",
       "    }\n",
       "  }\n",
       "  \n",
       "  @keyframes fill {\n",
       "    100% {\n",
       "      box-shadow: inset 0px 0px 0px 30px #7ac142;\n",
       "    }\n",
       "  }\n",
       "  \n",
       "  @keyframes failfill {\n",
       "    100% {\n",
       "      box-shadow: inset 0px 0px 0px 30px #F34811;\n",
       "    }\n",
       "  }\n",
       "  \n",
       "  \n",
       "  .wqet-result {\n",
       "    width: 450px;\n",
       "    clear: both;\n",
       "  }\n",
       "  \n",
       "  .wqet-result .animation {\n",
       "    float: left;\n",
       "    width: 100px;\n",
       "  }\n",
       "  \n",
       "  .wqet-result .animation .checkmark,\n",
       "  .wqet-result .animation .failmark {\n",
       "    margin: 20px auto 20px auto;\n",
       "  }\n",
       "  \n",
       "  .wqet-result .details {\n",
       "    float: right;\n",
       "    width: 349px;\n",
       "    padding: 28px 0;\n",
       "  }\n",
       "  \n",
       "  .wqet-result .details .title {\n",
       "    font-weight: bold;\n",
       "    font-size: 110%;\n",
       "  }\n",
       "  .wqet-result .details p {\n",
       "    margin: 0;\n",
       "  }\n",
       "</style>\n"
      ],
      "text/plain": [
       "<IPython.core.display.HTML object>"
      ]
     },
     "metadata": {},
     "output_type": "display_data"
    }
   ],
   "source": [
    "import warnings\n",
    "\n",
    "import wqet_grader\n",
    "\n",
    "warnings.simplefilter(action=\"ignore\", category=FutureWarning)\n",
    "wqet_grader.init(\"Project 3 Assessment\")"
   ]
  },
  {
   "cell_type": "code",
   "execution_count": 3,
   "id": "10115ee7-bdeb-497f-91c3-15abf1da1403",
   "metadata": {
    "deletable": false
   },
   "outputs": [],
   "source": [
    "# Import libraries here\n",
    "import inspect\n",
    "import time\n",
    "from pprint import PrettyPrinter\n",
    "from pymongo import MongoClient\n",
    "import matplotlib.pyplot as plt\n",
    "import pandas as pd\n",
    "import plotly.express as px\n",
    "import seaborn as sns\n",
    "from sklearn.metrics import mean_absolute_error\n",
    "from statsmodels.graphics.tsaplots import plot_acf, plot_pacf\n",
    "from statsmodels.tsa.arima.model import ARIMA\n",
    "from statsmodels.tsa.ar_model import AutoReg"
   ]
  },
  {
   "cell_type": "markdown",
   "id": "5b7bad4e-0aa7-4e91-8dd9-85c2aa6a342a",
   "metadata": {
    "deletable": false,
    "editable": false
   },
   "source": [
    "# Prepare Data"
   ]
  },
  {
   "cell_type": "markdown",
   "id": "cb933d8e-dd2d-46cf-8ecf-5ea6b6725dc5",
   "metadata": {
    "deletable": false,
    "editable": false
   },
   "source": [
    "## Connect"
   ]
  },
  {
   "cell_type": "markdown",
   "id": "09c2fea7-09de-485a-93db-16fadf850c6e",
   "metadata": {
    "deletable": false,
    "editable": false
   },
   "source": [
    "**Task 3.5.1:** Connect to MongoDB server running at host `\"localhost\"` on port `27017`. Then connect to the `\"air-quality\"` database and assign the collection for Dar es Salaam to the variable name `dar`."
   ]
  },
  {
   "cell_type": "code",
   "execution_count": 4,
   "id": "d413ea63-33f3-4502-952f-4bdc6c817248",
   "metadata": {
    "deletable": false
   },
   "outputs": [],
   "source": [
    "client = MongoClient(host=\"localhost\", port=27017)\n",
    "db = client[\"air-quality\"]\n",
    "dar = db[\"dar-es-salaam\"]"
   ]
  },
  {
   "cell_type": "code",
   "execution_count": 5,
   "id": "31ebc20c-a6fe-45f9-a05e-679f42258a60",
   "metadata": {
    "deletable": false,
    "editable": false
   },
   "outputs": [
    {
     "data": {
      "text/html": [
       "\n",
       "    <div class=\"wqet-result\">\n",
       "      <div class=\"animation\">\n",
       "        <svg class=\"checkmark\" xmlns=\"http://www.w3.org/2000/svg\" viewBox=\"0 0 52 52\">\n",
       "          <circle class=\"checkmark__circle\" cx=\"26\" cy=\"26\" r=\"25\" fill=\"none\"/>\n",
       "          <path class=\"checkmark__check\" fill=\"none\" d=\"M14.1 27.2l7.1 7.2 16.7-16.8\"/>\n",
       "        </svg>\n",
       "      </div>\n",
       "      <div class=\"details\">\n",
       "        <p class=\"title\"><p>You = coding 🥷</p></p>\n",
       "        <p>Score: 1</p>\n",
       "      </div>\n",
       "    </div>\n"
      ],
      "text/plain": [
       "<IPython.core.display.HTML object>"
      ]
     },
     "metadata": {},
     "output_type": "display_data"
    }
   ],
   "source": [
    "wqet_grader.grade(\"Project 3 Assessment\", \"Task 3.5.1\", [dar.name])"
   ]
  },
  {
   "cell_type": "markdown",
   "id": "dc252e6b-46cd-46d7-b3ef-35123c026121",
   "metadata": {
    "deletable": false,
    "editable": false
   },
   "source": [
    "## Explore"
   ]
  },
  {
   "cell_type": "markdown",
   "id": "6b5d96fa-1cbf-4510-bf8e-606e4507fedc",
   "metadata": {
    "deletable": false,
    "editable": false
   },
   "source": [
    "**Task 3.5.2:** Determine the numbers assigned to all the sensor sites in the Dar es Salaam collection. Your submission should be a list of integers. <span style='color: transparent; font-size:1%'>WQU WorldQuant University Applied Data Science Lab QQQQ</span>"
   ]
  },
  {
   "cell_type": "code",
   "execution_count": 6,
   "id": "ba705272-ab00-467a-b7a0-da23302c77e1",
   "metadata": {
    "deletable": false
   },
   "outputs": [
    {
     "data": {
      "text/plain": [
       "[23, 11]"
      ]
     },
     "execution_count": 6,
     "metadata": {},
     "output_type": "execute_result"
    }
   ],
   "source": [
    "sites = dar.distinct(\"metadata.site\")\n",
    "sites"
   ]
  },
  {
   "cell_type": "code",
   "execution_count": 7,
   "id": "7311e37a-e4b0-4b0d-9ec8-8a769eea81e9",
   "metadata": {
    "deletable": false,
    "editable": false
   },
   "outputs": [
    {
     "data": {
      "text/html": [
       "\n",
       "    <div class=\"wqet-result\">\n",
       "      <div class=\"animation\">\n",
       "        <svg class=\"checkmark\" xmlns=\"http://www.w3.org/2000/svg\" viewBox=\"0 0 52 52\">\n",
       "          <circle class=\"checkmark__circle\" cx=\"26\" cy=\"26\" r=\"25\" fill=\"none\"/>\n",
       "          <path class=\"checkmark__check\" fill=\"none\" d=\"M14.1 27.2l7.1 7.2 16.7-16.8\"/>\n",
       "        </svg>\n",
       "      </div>\n",
       "      <div class=\"details\">\n",
       "        <p class=\"title\"><p>Way to go!</p></p>\n",
       "        <p>Score: 1</p>\n",
       "      </div>\n",
       "    </div>\n"
      ],
      "text/plain": [
       "<IPython.core.display.HTML object>"
      ]
     },
     "metadata": {},
     "output_type": "display_data"
    }
   ],
   "source": [
    "wqet_grader.grade(\"Project 3 Assessment\", \"Task 3.5.2\", sites)"
   ]
  },
  {
   "cell_type": "markdown",
   "id": "133b2520-25ac-4a16-8c52-706879d68fc9",
   "metadata": {
    "deletable": false,
    "editable": false
   },
   "source": [
    "**Task 3.5.3:** Determine which site in the Dar es Salaam collection has the most sensor readings (of any type, not just PM2.5 readings). You submission `readings_per_site` should be a list of dictionaries that follows this format:\n",
    "\n",
    "```\n",
    "[{'_id': 6, 'count': 70360}, {'_id': 29, 'count': 131852}]\n",
    "```\n",
    "\n",
    "Note that the values here ☝️ are from the Nairobi collection, so your values will look different. "
   ]
  },
  {
   "cell_type": "code",
   "execution_count": 9,
   "id": "805e41eb-5a6d-4acd-a058-dba6f45e681a",
   "metadata": {
    "deletable": false
   },
   "outputs": [
    {
     "data": {
      "text/plain": [
       "[{'_id': 23, 'count': 60020}, {'_id': 11, 'count': 138412}]"
      ]
     },
     "execution_count": 9,
     "metadata": {},
     "output_type": "execute_result"
    }
   ],
   "source": [
    "result = dar.aggregate(\n",
    "[\n",
    "{\"$group\":{\"_id\": \"$metadata.site\", \"count\":{\"$count\":{}}}}\n",
    "]\n",
    ")\n",
    "# readings_per_site = pp.pprint(list(result))\n",
    "readings_per_site = list(result)\n",
    "\n",
    "readings_per_site"
   ]
  },
  {
   "cell_type": "code",
   "execution_count": 10,
   "id": "6c067f63-769c-4917-8f0a-4225c1206bf0",
   "metadata": {
    "deletable": false,
    "editable": false
   },
   "outputs": [
    {
     "data": {
      "text/html": [
       "\n",
       "    <div class=\"wqet-result\">\n",
       "      <div class=\"animation\">\n",
       "        <svg class=\"checkmark\" xmlns=\"http://www.w3.org/2000/svg\" viewBox=\"0 0 52 52\">\n",
       "          <circle class=\"checkmark__circle\" cx=\"26\" cy=\"26\" r=\"25\" fill=\"none\"/>\n",
       "          <path class=\"checkmark__check\" fill=\"none\" d=\"M14.1 27.2l7.1 7.2 16.7-16.8\"/>\n",
       "        </svg>\n",
       "      </div>\n",
       "      <div class=\"details\">\n",
       "        <p class=\"title\"><p>Yes! Keep on rockin'. 🎸That's right.</p></p>\n",
       "        <p>Score: 1</p>\n",
       "      </div>\n",
       "    </div>\n"
      ],
      "text/plain": [
       "<IPython.core.display.HTML object>"
      ]
     },
     "metadata": {},
     "output_type": "display_data"
    }
   ],
   "source": [
    "wqet_grader.grade(\"Project 3 Assessment\", \"Task 3.5.3\", readings_per_site)"
   ]
  },
  {
   "cell_type": "markdown",
   "id": "acc9d59d-7c70-4237-9b7f-b3a32cbec84d",
   "metadata": {
    "deletable": false,
    "editable": false
   },
   "source": [
    "## Import"
   ]
  },
  {
   "cell_type": "markdown",
   "id": "e93b82b8-d28d-4832-ac2f-1f6132c97ea6",
   "metadata": {
    "deletable": false,
    "editable": false
   },
   "source": [
    "**Task 3.5.4:** (5 points) Create a `wrangle` function that will extract the PM2.5 readings from the site that has the most total readings in the Dar es Salaam collection. Your function should do the following steps:\n",
    "\n",
    "1. Localize reading time stamps to the timezone for `\"Africa/Dar_es_Salaam\"`.\n",
    "2. Remove all outlier PM2.5 readings that are above 100. \n",
    "3. Resample the data to provide the mean PM2.5 reading for each hour.\n",
    "4. Impute any missing values using the forward-will method. \n",
    "5. Return a Series `y`. "
   ]
  },
  {
   "cell_type": "code",
   "execution_count": 15,
   "id": "3d074a70-cbe2-48f6-8108-69ccc88bd82a",
   "metadata": {
    "deletable": false
   },
   "outputs": [],
   "source": [
    "def wrangle(collection, resample_rule=\"1H\"):\n",
    "#reading from site 11\n",
    "      results = collection.find(\n",
    "      {\"metadata.site\":11, \"metadata.measurement\": \"P2\"},\n",
    "      projection = {\"P2\":1, \"timestamp\":1, \"_id\":0}\n",
    "       )\n",
    "#read results into DataFrame\n",
    "      df = pd.DataFrame(list(results)).set_index(\"timestamp\")\n",
    "    # Localize timezone\n",
    "      df.index = df.index.tz_localize(\"UTC\").tz_convert(\"Africa/Dar_es_Salaam\")\n",
    "# Remove outliers\n",
    "      df = df[df[\"P2\"] < 100]\n",
    "# Resample and forward-fill\n",
    "      y = df[\"P2\"].resample(resample_rule).mean().fillna(method=\"ffill\")\n",
    "      return y"
   ]
  },
  {
   "cell_type": "markdown",
   "id": "873a97b1-6217-4c4d-ac6c-05db61d37d46",
   "metadata": {
    "deletable": false,
    "editable": false
   },
   "source": [
    "Use your `wrangle` function to query the `dar` collection and return your cleaned results."
   ]
  },
  {
   "cell_type": "code",
   "execution_count": 16,
   "id": "1036624c-e1a0-4529-98bc-2c4be1bb4825",
   "metadata": {
    "deletable": false
   },
   "outputs": [
    {
     "data": {
      "text/plain": [
       "(1704,)"
      ]
     },
     "execution_count": 16,
     "metadata": {},
     "output_type": "execute_result"
    }
   ],
   "source": [
    "y = wrangle(dar)\n",
    "y.shape"
   ]
  },
  {
   "cell_type": "code",
   "execution_count": 17,
   "id": "e2f04d9b-21ca-4426-9283-51709d7e3989",
   "metadata": {
    "deletable": false,
    "editable": false
   },
   "outputs": [
    {
     "data": {
      "text/html": [
       "\n",
       "    <div class=\"wqet-result\">\n",
       "      <div class=\"animation\">\n",
       "        <svg class=\"checkmark\" xmlns=\"http://www.w3.org/2000/svg\" viewBox=\"0 0 52 52\">\n",
       "          <circle class=\"checkmark__circle\" cx=\"26\" cy=\"26\" r=\"25\" fill=\"none\"/>\n",
       "          <path class=\"checkmark__check\" fill=\"none\" d=\"M14.1 27.2l7.1 7.2 16.7-16.8\"/>\n",
       "        </svg>\n",
       "      </div>\n",
       "      <div class=\"details\">\n",
       "        <p class=\"title\"><p>Very impressive.</p></p>\n",
       "        <p>Score: 1</p>\n",
       "      </div>\n",
       "    </div>\n"
      ],
      "text/plain": [
       "<IPython.core.display.HTML object>"
      ]
     },
     "metadata": {},
     "output_type": "display_data"
    }
   ],
   "source": [
    "\n",
    "wqet_grader.grade(\"Project 3 Assessment\", \"Task 3.5.4\", wrangle(dar))"
   ]
  },
  {
   "cell_type": "markdown",
   "id": "3e1d2bd7-87d2-4348-b571-0c23ba73d36c",
   "metadata": {
    "deletable": false,
    "editable": false
   },
   "source": [
    "## Explore Some More"
   ]
  },
  {
   "cell_type": "markdown",
   "id": "017b42ee-0987-419e-ae25-e0d506f3a793",
   "metadata": {
    "deletable": false,
    "editable": false
   },
   "source": [
    "**Task 3.5.5:** Create a time series plot of the readings in `y`. Label your x-axis `\"Date\"` and your y-axis `\"PM2.5 Level\"`. Use the title `\"Dar es Salaam PM2.5 Levels\"`."
   ]
  },
  {
   "cell_type": "code",
   "execution_count": 18,
   "id": "ae7283e6-ad67-4d6f-b169-785082f5eb86",
   "metadata": {
    "deletable": false
   },
   "outputs": [
    {
     "data": {
      "image/png": "[encoded data removed]",
      "text/plain": [
       "<Figure size 1080x432 with 1 Axes>"
      ]
     },
     "metadata": {
      "needs_background": "light"
     },
     "output_type": "display_data"
    }
   ],
   "source": [
    "fig, ax = plt.subplots(figsize=(15, 6))\n",
    "y.plot(kind=\"box\", vert=False, title=\"Dar es Salaam PM2.5 Levels\", ax=ax);\n",
    "plt.xlabel(\"Date\")\n",
    "plt.ylabel(\"PM2.5 Level\")\n",
    "# Don't delete the code below ￿\n",
    "plt.savefig(\"images/3-5-5.png\", dpi=150)\n"
   ]
  },
  {
   "cell_type": "code",
   "execution_count": 19,
   "id": "a489b462-78ed-4cca-8f44-36658bde3e90",
   "metadata": {
    "deletable": false,
    "editable": false
   },
   "outputs": [
    {
     "data": {
      "text/html": [
       "\n",
       "    <div class=\"wqet-result\">\n",
       "      <div class=\"animation\">\n",
       "        <svg class=\"checkmark\" xmlns=\"http://www.w3.org/2000/svg\" viewBox=\"0 0 52 52\">\n",
       "          <circle class=\"checkmark__circle\" cx=\"26\" cy=\"26\" r=\"25\" fill=\"none\"/>\n",
       "          <path class=\"checkmark__check\" fill=\"none\" d=\"M14.1 27.2l7.1 7.2 16.7-16.8\"/>\n",
       "        </svg>\n",
       "      </div>\n",
       "      <div class=\"details\">\n",
       "        <p class=\"title\"><p>Yes! Keep on rockin'. 🎸That's right.</p></p>\n",
       "        <p>Score: 1</p>\n",
       "      </div>\n",
       "    </div>\n"
      ],
      "text/plain": [
       "<IPython.core.display.HTML object>"
      ]
     },
     "metadata": {},
     "output_type": "display_data"
    }
   ],
   "source": [
    "with open(\"images/3-5-5.png\", \"rb\") as file:\n",
    "    wqet_grader.grade(\"Project 3 Assessment\", \"Task 3.5.5\", file)"
   ]
  },
  {
   "cell_type": "markdown",
   "id": "444f2a1a-d764-4eec-a183-8c5c52623828",
   "metadata": {
    "deletable": false,
    "editable": false
   },
   "source": [
    "**Task 3.5.6:** Plot the rolling average of the readings in `y`. Use a window size of `168` (the number of hours in a week). Label your x-axis `\"Date\"` and your y-axis `\"PM2.5 Level\"`. Use the title `\"Dar es Salaam PM2.5 Levels, 7-Day Rolling Average\"`."
   ]
  },
  {
   "cell_type": "code",
   "execution_count": 21,
   "id": "13dc5d5d-bddc-4681-a1af-17b19d41e4fd",
   "metadata": {
    "deletable": false
   },
   "outputs": [
    {
     "data": {
      "image/png": "[encoded data removed]",
      "text/plain": [
       "<Figure size 1080x432 with 1 Axes>"
      ]
     },
     "metadata": {
      "needs_background": "light"
     },
     "output_type": "display_data"
    }
   ],
   "source": [
    "fig, ax = plt.subplots(figsize=(15, 6))\n",
    "y.rolling(168).mean().plot(ax=ax,xlabel=\"Date\", ylabel=\"PM2.5 Level\",title=\"Dares Salaam PM2.5 Levels, 7-Day Rolling Average\");\n",
    "# Don't delete the code below ￿\n",
    "plt.savefig(\"images/3-5-6.png\", dpi=150)\n"
   ]
  },
  {
   "cell_type": "code",
   "execution_count": 22,
   "id": "c1233270-dfc9-436b-8e65-bb189de8f254",
   "metadata": {
    "deletable": false,
    "editable": false
   },
   "outputs": [
    {
     "data": {
      "text/html": [
       "\n",
       "    <div class=\"wqet-result\">\n",
       "      <div class=\"animation\">\n",
       "        <svg class=\"checkmark\" xmlns=\"http://www.w3.org/2000/svg\" viewBox=\"0 0 52 52\">\n",
       "          <circle class=\"checkmark__circle\" cx=\"26\" cy=\"26\" r=\"25\" fill=\"none\"/>\n",
       "          <path class=\"checkmark__check\" fill=\"none\" d=\"M14.1 27.2l7.1 7.2 16.7-16.8\"/>\n",
       "        </svg>\n",
       "      </div>\n",
       "      <div class=\"details\">\n",
       "        <p class=\"title\"><p>You got it. Dance party time! 🕺💃🕺💃</p></p>\n",
       "        <p>Score: 1</p>\n",
       "      </div>\n",
       "    </div>\n"
      ],
      "text/plain": [
       "<IPython.core.display.HTML object>"
      ]
     },
     "metadata": {},
     "output_type": "display_data"
    }
   ],
   "source": [
    "with open(\"images/3-5-6.png\", \"rb\") as file:\n",
    "    wqet_grader.grade(\"Project 3 Assessment\", \"Task 3.5.6\", file)"
   ]
  },
  {
   "cell_type": "markdown",
   "id": "c8845846-aa0f-445e-a24e-349e332993db",
   "metadata": {
    "deletable": false,
    "editable": false
   },
   "source": [
    "**Task 3.5.7:** Create an ACF plot for the data in `y`. Be sure to label the x-axis as `\"Lag [hours]\"` and the y-axis as `\"Correlation Coefficient\"`. Use the title `\"Dar es Salaam PM2.5 Readings, ACF\"`."
   ]
  },
  {
   "cell_type": "code",
   "execution_count": 23,
   "id": "2819b7f1-b7a6-41cc-8b2b-18d334443265",
   "metadata": {
    "deletable": false
   },
   "outputs": [
    {
     "data": {
      "image/png": "[encoded data removed]",
      "text/plain": [
       "<Figure size 1080x432 with 1 Axes>"
      ]
     },
     "metadata": {
      "needs_background": "light"
     },
     "output_type": "display_data"
    }
   ],
   "source": [
    "fig, ax = plt.subplots(figsize=(15, 6))\n",
    "plot_acf(y, ax=ax)\n",
    "plt.xlabel(\"Lag [hours]\")\n",
    "plt.ylabel(\"Correlation Coefficient\")\n",
    "plt.title(\"Dar es Salaam PM2.5 Readings, ACF\");\n",
    "# Don't delete the code below ￿\n",
    "plt.savefig(\"images/3-5-7.png\", dpi=150)"
   ]
  },
  {
   "cell_type": "code",
   "execution_count": 24,
   "id": "852673e4-09bd-4dd0-97f8-5fe28d317b04",
   "metadata": {
    "deletable": false,
    "editable": false
   },
   "outputs": [
    {
     "data": {
      "text/html": [
       "\n",
       "    <div class=\"wqet-result\">\n",
       "      <div class=\"animation\">\n",
       "        <svg class=\"checkmark\" xmlns=\"http://www.w3.org/2000/svg\" viewBox=\"0 0 52 52\">\n",
       "          <circle class=\"checkmark__circle\" cx=\"26\" cy=\"26\" r=\"25\" fill=\"none\"/>\n",
       "          <path class=\"checkmark__check\" fill=\"none\" d=\"M14.1 27.2l7.1 7.2 16.7-16.8\"/>\n",
       "        </svg>\n",
       "      </div>\n",
       "      <div class=\"details\">\n",
       "        <p class=\"title\"><p>Yes! Keep on rockin'. 🎸That's right.</p></p>\n",
       "        <p>Score: 1</p>\n",
       "      </div>\n",
       "    </div>\n"
      ],
      "text/plain": [
       "<IPython.core.display.HTML object>"
      ]
     },
     "metadata": {},
     "output_type": "display_data"
    }
   ],
   "source": [
    "with open(\"images/3-5-7.png\", \"rb\") as file:\n",
    "    wqet_grader.grade(\"Project 3 Assessment\", \"Task 3.5.7\", file)"
   ]
  },
  {
   "cell_type": "markdown",
   "id": "18e5db3e-6768-44ed-b537-b4edddc6ceb9",
   "metadata": {
    "deletable": false,
    "editable": false
   },
   "source": [
    "**Task 3.5.8:** Create an PACF plot for the data in `y`. Be sure to label the x-axis as `\"Lag [hours]\"` and the y-axis as `\"Correlation Coefficient\"`. Use the title `\"Dar es Salaam PM2.5 Readings, PACF\"`."
   ]
  },
  {
   "cell_type": "code",
   "execution_count": 25,
   "id": "5cdf3b91-d56b-445a-b5bc-84b4426be501",
   "metadata": {
    "deletable": false
   },
   "outputs": [
    {
     "data": {
      "image/png": "[encoded data removed]",
      "text/plain": [
       "<Figure size 1080x432 with 1 Axes>"
      ]
     },
     "metadata": {
      "needs_background": "light"
     },
     "output_type": "display_data"
    }
   ],
   "source": [
    "fig, ax = plt.subplots(figsize=(15, 6))\n",
    "plot_pacf(y, ax=ax)\n",
    "plt.xlabel(\"Lag [hours]\")\n",
    "plt.ylabel(\"Correlation Coefficient\")\n",
    "plt.title(\"Dar es Salaam PM2.5 Readings, PACF\");\n",
    "# Don't delete the code below ￿\n",
    "plt.savefig(\"images/3-5-8.png\", dpi=150)"
   ]
  },
  {
   "cell_type": "code",
   "execution_count": 26,
   "id": "edb17a97-8335-4789-bcc5-86982c8f458a",
   "metadata": {
    "deletable": false,
    "editable": false
   },
   "outputs": [
    {
     "data": {
      "text/html": [
       "\n",
       "    <div class=\"wqet-result\">\n",
       "      <div class=\"animation\">\n",
       "        <svg class=\"checkmark\" xmlns=\"http://www.w3.org/2000/svg\" viewBox=\"0 0 52 52\">\n",
       "          <circle class=\"checkmark__circle\" cx=\"26\" cy=\"26\" r=\"25\" fill=\"none\"/>\n",
       "          <path class=\"checkmark__check\" fill=\"none\" d=\"M14.1 27.2l7.1 7.2 16.7-16.8\"/>\n",
       "        </svg>\n",
       "      </div>\n",
       "      <div class=\"details\">\n",
       "        <p class=\"title\"><p>Good work!</p></p>\n",
       "        <p>Score: 1</p>\n",
       "      </div>\n",
       "    </div>\n"
      ],
      "text/plain": [
       "<IPython.core.display.HTML object>"
      ]
     },
     "metadata": {},
     "output_type": "display_data"
    }
   ],
   "source": [
    "with open(\"images/3-5-8.png\", \"rb\") as file:\n",
    "    wqet_grader.grade(\"Project 3 Assessment\", \"Task 3.5.8\", file)"
   ]
  },
  {
   "cell_type": "markdown",
   "id": "c20b2822-0f54-40fc-8e27-7a4af876727a",
   "metadata": {
    "deletable": false,
    "editable": false
   },
   "source": [
    "## Split"
   ]
  },
  {
   "cell_type": "markdown",
   "id": "5f52fc17-b55f-48a4-b029-bfbd9180dde6",
   "metadata": {
    "deletable": false,
    "editable": false
   },
   "source": [
    "**Task 3.5.9:** Split `y` into training and test sets. The first 90% of the data should be in your training set. The remaining 10% should be in the test set."
   ]
  },
  {
   "cell_type": "code",
   "execution_count": 27,
   "id": "fce78c3f-6c47-4115-a223-3aba130ef30e",
   "metadata": {
    "deletable": false
   },
   "outputs": [
    {
     "name": "stdout",
     "output_type": "stream",
     "text": [
      "y_train shape: (1533,)\n",
      "y_test shape: (171,)\n"
     ]
    }
   ],
   "source": [
    "cutoff_test = int(len(y) * 0.90)\n",
    "y_train = y.iloc[:cutoff_test]\n",
    "y_test = y.iloc[cutoff_test:]\n",
    "print(\"y_train shape:\", y_train.shape)\n",
    "print(\"y_test shape:\", y_test.shape)"
   ]
  },
  {
   "cell_type": "code",
   "execution_count": 28,
   "id": "dd00f2e3-a8a1-4b0f-bb2b-cd28db9e2cf5",
   "metadata": {
    "deletable": false,
    "editable": false
   },
   "outputs": [
    {
     "data": {
      "text/html": [
       "\n",
       "    <div class=\"wqet-result\">\n",
       "      <div class=\"animation\">\n",
       "        <svg class=\"checkmark\" xmlns=\"http://www.w3.org/2000/svg\" viewBox=\"0 0 52 52\">\n",
       "          <circle class=\"checkmark__circle\" cx=\"26\" cy=\"26\" r=\"25\" fill=\"none\"/>\n",
       "          <path class=\"checkmark__check\" fill=\"none\" d=\"M14.1 27.2l7.1 7.2 16.7-16.8\"/>\n",
       "        </svg>\n",
       "      </div>\n",
       "      <div class=\"details\">\n",
       "        <p class=\"title\"><p>Python master 😁</p></p>\n",
       "        <p>Score: 1</p>\n",
       "      </div>\n",
       "    </div>\n"
      ],
      "text/plain": [
       "<IPython.core.display.HTML object>"
      ]
     },
     "metadata": {},
     "output_type": "display_data"
    }
   ],
   "source": [
    "\n",
    "wqet_grader.grade(\"Project 3 Assessment\", \"Task 3.5.9a\", y_train)"
   ]
  },
  {
   "cell_type": "code",
   "execution_count": 31,
   "id": "1136ae4e-a3a3-4655-83f2-21dcd62fb9f0",
   "metadata": {
    "deletable": false,
    "editable": false
   },
   "outputs": [
    {
     "data": {
      "text/html": [
       "\n",
       "    <div class=\"wqet-result\">\n",
       "      <div class=\"animation\">\n",
       "        <svg class=\"checkmark\" xmlns=\"http://www.w3.org/2000/svg\" viewBox=\"0 0 52 52\">\n",
       "          <circle class=\"checkmark__circle\" cx=\"26\" cy=\"26\" r=\"25\" fill=\"none\"/>\n",
       "          <path class=\"checkmark__check\" fill=\"none\" d=\"M14.1 27.2l7.1 7.2 16.7-16.8\"/>\n",
       "        </svg>\n",
       "      </div>\n",
       "      <div class=\"details\">\n",
       "        <p class=\"title\"><p>That's the right answer. Keep it up!</p></p>\n",
       "        <p>Score: 1</p>\n",
       "      </div>\n",
       "    </div>\n"
      ],
      "text/plain": [
       "<IPython.core.display.HTML object>"
      ]
     },
     "metadata": {},
     "output_type": "display_data"
    }
   ],
   "source": [
    "\n",
    "wqet_grader.grade(\"Project 3 Assessment\", \"Task 3.5.9b\", y_test)"
   ]
  },
  {
   "cell_type": "markdown",
   "id": "fbe6b15f-d89e-4a8e-a313-72878f459a99",
   "metadata": {
    "deletable": false,
    "editable": false
   },
   "source": [
    "# Build Model"
   ]
  },
  {
   "cell_type": "markdown",
   "id": "3a9c3f11-d663-4788-99d8-84bcf8cbf65d",
   "metadata": {
    "deletable": false,
    "editable": false
   },
   "source": [
    "## Baseline"
   ]
  },
  {
   "cell_type": "markdown",
   "id": "15ed1868-b79b-4c3a-8d5f-5c84c369f3c9",
   "metadata": {
    "deletable": false,
    "editable": false
   },
   "source": [
    "**Task 3.5.10:** Establish the baseline mean absolute error for your model."
   ]
  },
  {
   "cell_type": "code",
   "execution_count": 32,
   "id": "0b1782b1-02ec-4d32-a2d7-f01d31adef2f",
   "metadata": {
    "deletable": false
   },
   "outputs": [
    {
     "name": "stdout",
     "output_type": "stream",
     "text": [
      "Mean P2 Reading: 8.617582545265428\n",
      "Baseline MAE: 4.07658759405218\n"
     ]
    }
   ],
   "source": [
    "y_train_mean = y_train.mean()\n",
    "y_pred_baseline = [y_train_mean] * len(y_train)\n",
    "mae_baseline = mean_absolute_error(y_train, y_pred_baseline)\n",
    "print(\"Mean P2 Reading:\", y_train_mean)\n",
    "print(\"Baseline MAE:\", mae_baseline)"
   ]
  },
  {
   "cell_type": "code",
   "execution_count": 33,
   "id": "36caad84-43ad-47cc-a235-a536c436ee43",
   "metadata": {
    "deletable": false,
    "editable": false
   },
   "outputs": [
    {
     "data": {
      "text/html": [
       "\n",
       "    <div class=\"wqet-result\">\n",
       "      <div class=\"animation\">\n",
       "        <svg class=\"checkmark\" xmlns=\"http://www.w3.org/2000/svg\" viewBox=\"0 0 52 52\">\n",
       "          <circle class=\"checkmark__circle\" cx=\"26\" cy=\"26\" r=\"25\" fill=\"none\"/>\n",
       "          <path class=\"checkmark__check\" fill=\"none\" d=\"M14.1 27.2l7.1 7.2 16.7-16.8\"/>\n",
       "        </svg>\n",
       "      </div>\n",
       "      <div class=\"details\">\n",
       "        <p class=\"title\"><p>Way to go!</p></p>\n",
       "        <p>Score: 1</p>\n",
       "      </div>\n",
       "    </div>\n"
      ],
      "text/plain": [
       "<IPython.core.display.HTML object>"
      ]
     },
     "metadata": {},
     "output_type": "display_data"
    }
   ],
   "source": [
    "wqet_grader.grade(\"Project 3 Assessment\", \"Task 3.5.10\", [mae_baseline])"
   ]
  },
  {
   "cell_type": "markdown",
   "id": "f62c9fbd-d620-4a98-a9aa-bffab485faf0",
   "metadata": {
    "deletable": false,
    "editable": false
   },
   "source": [
    "## Iterate"
   ]
  },
  {
   "cell_type": "markdown",
   "id": "fe5bddd3-86b4-431b-b67b-b6b35223a831",
   "metadata": {
    "deletable": false,
    "editable": false
   },
   "source": [
    "**Task 3.5.11:** You're going to use an AR model to predict PM2.5 readings, but which hyperparameter settings will give you the best performance? Use a `for` loop to train your AR model on using settings for `p` from 1 to 30. Each time you train a new model, calculate its mean absolute error and append the result to the list `maes`. Then store your results in the Series `mae_series`. "
   ]
  },
  {
   "cell_type": "code",
   "execution_count": 35,
   "id": "e9b3a2c4-3cbe-45fd-8a59-a4b475d732df",
   "metadata": {
    "deletable": false
   },
   "outputs": [
    {
     "data": {
      "text/plain": [
       "1    0.947888\n",
       "2    0.933894\n",
       "3    0.920850\n",
       "4    0.920153\n",
       "5    0.919519\n",
       "Name: mae, dtype: float64"
      ]
     },
     "execution_count": 35,
     "metadata": {},
     "output_type": "execute_result"
    }
   ],
   "source": [
    "p_params = range(1, 31)\n",
    "maes = []\n",
    "for p in p_params:\n",
    "    model = AutoReg(y_train,lags=p).fit()\n",
    "#print(f\"Trained AR Model for each {p} in each seconds.\")\n",
    "    y_pred = model.predict().dropna()\n",
    "\n",
    "# # Calculate training MAE\n",
    "    mae = mean_absolute_error(y_train.iloc[p:], y_pred)\n",
    "#Append MAE to list in maes\n",
    "    maes.append(mae)\n",
    "mae_series = pd.Series(maes, name=\"mae\", index=p_params)\n",
    "mae_series.head()\n",
    "#y_pred.isnull().sum()"
   ]
  },
  {
   "cell_type": "code",
   "execution_count": 36,
   "id": "a544f741-0c08-4adb-b8e1-43a813dc5345",
   "metadata": {
    "deletable": false,
    "editable": false
   },
   "outputs": [
    {
     "data": {
      "text/html": [
       "\n",
       "    <div class=\"wqet-result\">\n",
       "      <div class=\"animation\">\n",
       "        <svg class=\"checkmark\" xmlns=\"http://www.w3.org/2000/svg\" viewBox=\"0 0 52 52\">\n",
       "          <circle class=\"checkmark__circle\" cx=\"26\" cy=\"26\" r=\"25\" fill=\"none\"/>\n",
       "          <path class=\"checkmark__check\" fill=\"none\" d=\"M14.1 27.2l7.1 7.2 16.7-16.8\"/>\n",
       "        </svg>\n",
       "      </div>\n",
       "      <div class=\"details\">\n",
       "        <p class=\"title\"><p>Yup. You got it.</p></p>\n",
       "        <p>Score: 1</p>\n",
       "      </div>\n",
       "    </div>\n"
      ],
      "text/plain": [
       "<IPython.core.display.HTML object>"
      ]
     },
     "metadata": {},
     "output_type": "display_data"
    }
   ],
   "source": [
    "\n",
    "wqet_grader.grade(\"Project 3 Assessment\", \"Task 3.5.11\", mae_series)"
   ]
  },
  {
   "cell_type": "markdown",
   "id": "3bed32bc-03f1-459b-ab4a-3427ee9a139c",
   "metadata": {
    "deletable": false,
    "editable": false
   },
   "source": [
    "**Task 3.5.12:** Look through the results in `mae_series` and determine what value for `p` provides the best performance. Then build and train `final_model` using the best hyperparameter value.\n",
    "\n",
    "**Note:** Make sure that you build and train your model in one line of code, and that the data type of `best_model` is `statsmodels.tsa.ar_model.AutoRegResultsWrapper`. "
   ]
  },
  {
   "cell_type": "code",
   "execution_count": 37,
   "id": "83c92e43-b311-4329-8b32-cd0389e81f9f",
   "metadata": {
    "deletable": false
   },
   "outputs": [
    {
     "data": {
      "text/plain": [
       "<statsmodels.tsa.ar_model.AutoRegResultsWrapper at 0x7fac16918dc0>"
      ]
     },
     "execution_count": 37,
     "metadata": {},
     "output_type": "execute_result"
    }
   ],
   "source": [
    "best_p = mae_series.index[5]\n",
    "best_model = AutoReg(y_train, lags=best_p).fit()\n",
    "best_model"
   ]
  },
  {
   "cell_type": "code",
   "execution_count": 38,
   "id": "cace72b2-e3bd-48e1-a314-35af90ca6363",
   "metadata": {
    "deletable": false,
    "editable": false
   },
   "outputs": [
    {
     "data": {
      "text/html": [
       "\n",
       "    <div class=\"wqet-result\">\n",
       "      <div class=\"animation\">\n",
       "        <svg class=\"checkmark\" xmlns=\"http://www.w3.org/2000/svg\" viewBox=\"0 0 52 52\">\n",
       "          <circle class=\"checkmark__circle\" cx=\"26\" cy=\"26\" r=\"25\" fill=\"none\"/>\n",
       "          <path class=\"checkmark__check\" fill=\"none\" d=\"M14.1 27.2l7.1 7.2 16.7-16.8\"/>\n",
       "        </svg>\n",
       "      </div>\n",
       "      <div class=\"details\">\n",
       "        <p class=\"title\"><p>Excellent work.</p></p>\n",
       "        <p>Score: 1</p>\n",
       "      </div>\n",
       "    </div>\n"
      ],
      "text/plain": [
       "<IPython.core.display.HTML object>"
      ]
     },
     "metadata": {},
     "output_type": "display_data"
    }
   ],
   "source": [
    "wqet_grader.grade(\n",
    "    \"Project 3 Assessment\", \"Task 3.5.12\", [isinstance(best_model.model, AutoReg)]\n",
    ")"
   ]
  },
  {
   "cell_type": "markdown",
   "id": "6ba53db5-0b15-4adc-b258-eec2df030401",
   "metadata": {
    "deletable": false,
    "editable": false
   },
   "source": [
    "**Task 3.5.13:** Calculate the training residuals for `best_model` and assign the result to `y_train_resid`. **Note** that your name of your Series should be `\"residuals\"`."
   ]
  },
  {
   "cell_type": "code",
   "execution_count": 39,
   "id": "8f5d1ae9-9fae-4253-b932-bf06911d51a8",
   "metadata": {
    "deletable": false
   },
   "outputs": [
    {
     "data": {
      "text/plain": [
       "timestamp\n",
       "2018-01-01 09:00:00+03:00   -0.411515\n",
       "2018-01-01 10:00:00+03:00   -0.077733\n",
       "2018-01-01 11:00:00+03:00    0.471125\n",
       "2018-01-01 12:00:00+03:00    0.473076\n",
       "2018-01-01 13:00:00+03:00    0.370402\n",
       "Freq: H, Name: residuals, dtype: float64"
      ]
     },
     "execution_count": 39,
     "metadata": {},
     "output_type": "execute_result"
    }
   ],
   "source": [
    "y_train_resid = best_model.resid\n",
    "y_train_resid.name = \"residuals\"\n",
    "y_train_resid.head()"
   ]
  },
  {
   "cell_type": "code",
   "execution_count": 40,
   "id": "b1494245-33aa-4bd6-b8f5-e87a5bbc1a1a",
   "metadata": {
    "deletable": false,
    "editable": false
   },
   "outputs": [
    {
     "data": {
      "text/html": [
       "\n",
       "    <div class=\"wqet-result\">\n",
       "      <div class=\"animation\">\n",
       "        <svg class=\"checkmark\" xmlns=\"http://www.w3.org/2000/svg\" viewBox=\"0 0 52 52\">\n",
       "          <circle class=\"checkmark__circle\" cx=\"26\" cy=\"26\" r=\"25\" fill=\"none\"/>\n",
       "          <path class=\"checkmark__check\" fill=\"none\" d=\"M14.1 27.2l7.1 7.2 16.7-16.8\"/>\n",
       "        </svg>\n",
       "      </div>\n",
       "      <div class=\"details\">\n",
       "        <p class=\"title\"><p>You're making this look easy. 😉</p></p>\n",
       "        <p>Score: 1</p>\n",
       "      </div>\n",
       "    </div>\n"
      ],
      "text/plain": [
       "<IPython.core.display.HTML object>"
      ]
     },
     "metadata": {},
     "output_type": "display_data"
    }
   ],
   "source": [
    "\n",
    "wqet_grader.grade(\"Project 3 Assessment\", \"Task 3.5.13\", y_train_resid.tail(1500))"
   ]
  },
  {
   "cell_type": "markdown",
   "id": "d916c106-af20-43af-994f-381b211bbcd8",
   "metadata": {
    "deletable": false,
    "editable": false
   },
   "source": [
    "**Task 3.5.14:** Create a histogram of `y_train_resid`. Be sure to label the x-axis as `\"Residuals\"` and the y-axis as `\"Frequency\"`. Use the title `\"Best Model, Training Residuals\"`."
   ]
  },
  {
   "cell_type": "code",
   "execution_count": 42,
   "id": "d3f6986e-e7c0-4909-b72b-6fc72cfd1bcb",
   "metadata": {
    "deletable": false
   },
   "outputs": [
    {
     "data": {
      "image/png": "[encoded data removed]",
      "text/plain": [
       "<Figure size 432x288 with 1 Axes>"
      ]
     },
     "metadata": {
      "needs_background": "light"
     },
     "output_type": "display_data"
    }
   ],
   "source": [
    "# Plot histogram of residuals\n",
    "y_train_resid.hist()\n",
    "plt.xlabel(\"Residuals\")\n",
    "plt.ylabel(\"Frequency\")\n",
    "plt.title(\"Best Model, Training Residuals\")\n",
    "# Don't delete the code below ￿\n",
    "plt.savefig(\"images/3-5-14.png\", dpi=150)\n"
   ]
  },
  {
   "cell_type": "code",
   "execution_count": 43,
   "id": "f1750d5a-fd76-4c67-ae1c-1ba2103d167a",
   "metadata": {
    "deletable": false,
    "editable": false
   },
   "outputs": [
    {
     "data": {
      "text/html": [
       "\n",
       "    <div class=\"wqet-result\">\n",
       "      <div class=\"animation\">\n",
       "        <svg class=\"checkmark\" xmlns=\"http://www.w3.org/2000/svg\" viewBox=\"0 0 52 52\">\n",
       "          <circle class=\"checkmark__circle\" cx=\"26\" cy=\"26\" r=\"25\" fill=\"none\"/>\n",
       "          <path class=\"checkmark__check\" fill=\"none\" d=\"M14.1 27.2l7.1 7.2 16.7-16.8\"/>\n",
       "        </svg>\n",
       "      </div>\n",
       "      <div class=\"details\">\n",
       "        <p class=\"title\"><p>Wow, you're making great progress.</p></p>\n",
       "        <p>Score: 1</p>\n",
       "      </div>\n",
       "    </div>\n"
      ],
      "text/plain": [
       "<IPython.core.display.HTML object>"
      ]
     },
     "metadata": {},
     "output_type": "display_data"
    }
   ],
   "source": [
    "with open(\"images/3-5-14.png\", \"rb\") as file:\n",
    "    wqet_grader.grade(\"Project 3 Assessment\", \"Task 3.5.14\", file)"
   ]
  },
  {
   "cell_type": "markdown",
   "id": "62931901-b20f-4a40-9d0a-fda6e4f64c69",
   "metadata": {
    "deletable": false,
    "editable": false
   },
   "source": [
    "**Task 3.5.15:** Create an ACF plot for `y_train_resid`. Be sure to label the x-axis as `\"Lag [hours]\"` and y-axis as `\"Correlation Coefficient\"`. Use the title `\"Dar es Salaam, Training Residuals ACF\"`."
   ]
  },
  {
   "cell_type": "code",
   "execution_count": 44,
   "id": "893a226f-dd45-454e-8dc3-f310f2239c05",
   "metadata": {
    "deletable": false
   },
   "outputs": [
    {
     "data": {
      "image/png": "[encoded data removed]",
      "text/plain": [
       "<Figure size 1080x432 with 1 Axes>"
      ]
     },
     "metadata": {
      "needs_background": "light"
     },
     "output_type": "display_data"
    }
   ],
   "source": [
    "fig, ax = plt.subplots(figsize=(15, 6))\n",
    "plot_acf(y_train_resid, ax=ax)\n",
    "plt.xlabel(\"Lag [hours]\")\n",
    "plt.ylabel(\"Correlation Coefficient\")\n",
    "plt.title(\"Dar es Salaam, Training Residuals ACF\")\n",
    "# Don't delete the code below ￿\n",
    "plt.savefig(\"images/3-5-15.png\", dpi=150)"
   ]
  },
  {
   "cell_type": "code",
   "execution_count": 45,
   "id": "067249a9-8994-4c10-b98e-cd3f307e9794",
   "metadata": {
    "deletable": false,
    "editable": false
   },
   "outputs": [
    {
     "data": {
      "text/html": [
       "\n",
       "    <div class=\"wqet-result\">\n",
       "      <div class=\"animation\">\n",
       "        <svg class=\"checkmark\" xmlns=\"http://www.w3.org/2000/svg\" viewBox=\"0 0 52 52\">\n",
       "          <circle class=\"checkmark__circle\" cx=\"26\" cy=\"26\" r=\"25\" fill=\"none\"/>\n",
       "          <path class=\"checkmark__check\" fill=\"none\" d=\"M14.1 27.2l7.1 7.2 16.7-16.8\"/>\n",
       "        </svg>\n",
       "      </div>\n",
       "      <div class=\"details\">\n",
       "        <p class=\"title\"><p>Good work!</p></p>\n",
       "        <p>Score: 1</p>\n",
       "      </div>\n",
       "    </div>\n"
      ],
      "text/plain": [
       "<IPython.core.display.HTML object>"
      ]
     },
     "metadata": {},
     "output_type": "display_data"
    }
   ],
   "source": [
    "with open(\"images/3-5-15.png\", \"rb\") as file:\n",
    "    wqet_grader.grade(\"Project 3 Assessment\", \"Task 3.5.15\", file)"
   ]
  },
  {
   "cell_type": "markdown",
   "id": "ae216a3c-092d-4c78-aec2-a09d3d6ae04d",
   "metadata": {
    "deletable": false,
    "editable": false
   },
   "source": [
    "## Evaluate"
   ]
  },
  {
   "cell_type": "markdown",
   "id": "1a3e3aa7-f91b-4f9a-b431-cc9ea712ae8c",
   "metadata": {
    "deletable": false,
    "editable": false
   },
   "source": [
    "**Task 3.5.16:** Perform walk-forward validation for your model for the entire test set `y_test`. Store your model's predictions in the Series `y_pred_wfv`. Make sure the name of your Series is `\"prediction\"` and the name of your Series index is `\"timestamp\"`."
   ]
  },
  {
   "cell_type": "code",
   "execution_count": 46,
   "id": "fe8d14e6-3d52-4963-8889-2142ee9bfb39",
   "metadata": {
    "deletable": false
   },
   "outputs": [],
   "source": [
    "y_pred_wfv = pd.Series(dtype=\"float64\")\n",
    "history = y_train.copy()\n",
    "for i in range(len(y_test)):\n",
    "    model = AutoReg(history, lags=28).fit()\n",
    "    next_pred = model.forecast()\n",
    "    y_pred_wfv = y_pred_wfv.append(next_pred)\n",
    "    history = history.append(y_test[next_pred.index])\n",
    "y_pred_wfv.name = \"prediction\"\n",
    "y_pred_wfv.index.name = \"timestamp\""
   ]
  },
  {
   "cell_type": "code",
   "execution_count": null,
   "id": "7e4727a7-243c-4448-a54b-87d393706cad",
   "metadata": {
    "deletable": false,
    "editable": false
   },
   "outputs": [],
   "source": [
    "\n",
    "wqet_grader.grade(\"Project 3 Assessment\", \"Task 3.5.16\", y_pred_wfv)"
   ]
  },
  {
   "cell_type": "markdown",
   "id": "8ff0c77d-faa7-4389-be15-5625c8961eaf",
   "metadata": {
    "deletable": false,
    "editable": false
   },
   "source": [
    "**Task 3.5.17:** Submit your walk-forward validation predictions to the grader to see test mean absolute error for your model."
   ]
  },
  {
   "cell_type": "code",
   "execution_count": null,
   "id": "175cae9b-f524-44fb-ac31-88a6bb9acde9",
   "metadata": {
    "deletable": false,
    "editable": false
   },
   "outputs": [],
   "source": [
    "wqet_grader.grade(\"Project 3 Assessment\", \"Task 3.5.17\", y_pred_wfv)"
   ]
  },
  {
   "cell_type": "markdown",
   "id": "1747af25-64f8-4432-8865-4a0b92f812dc",
   "metadata": {
    "deletable": false,
    "editable": false
   },
   "source": [
    "# Communicate Results"
   ]
  },
  {
   "cell_type": "markdown",
   "id": "2c87834c-760a-411d-9206-98f12c92d0c4",
   "metadata": {
    "deletable": false,
    "editable": false
   },
   "source": [
    "**Task 3.5.18:** Put the values for `y_test` and `y_pred_wfv` into the DataFrame `df_pred_test` (don't forget the index). Then plot `df_pred_test` using plotly express. Be sure to label the x-axis as `\"Date\"` and the y-axis as `\"PM2.5 Level\"`. Use the title `\"Dar es Salaam, WFV Predictions\"`."
   ]
  },
  {
   "cell_type": "code",
   "execution_count": null,
   "id": "ab959d9e-b8bd-4dbd-adab-6d8816a1b64f",
   "metadata": {
    "deletable": false
   },
   "outputs": [],
   "source": [
    "df_pred_test = ...\n",
    "fig = ...\n",
    "fig.update_layout(\n",
    "    title=\"Dar es Salaam, WFV Predictions\",\n",
    "    xaxis_title=\"Date\",\n",
    "    yaxis_title=\"PM2.5 Level\",\n",
    ")\n",
    "# Don't delete the code below 👇\n",
    "fig.write_image(\"images/3-5-18.png\", scale=1, height=500, width=700)\n",
    "\n",
    "fig.show()"
   ]
  },
  {
   "cell_type": "code",
   "execution_count": null,
   "id": "6c56c75c-84ff-4ed7-9994-1ea8c7e61ea4",
   "metadata": {
    "deletable": false,
    "editable": false
   },
   "outputs": [],
   "source": [
    "with open(\"images/3-5-18.png\", \"rb\") as file:\n",
    "    wqet_grader.grade(\"Project 3 Assessment\", \"Task 3.5.18\", file)"
   ]
  },
  {
   "cell_type": "markdown",
   "id": "1ad308b9",
   "metadata": {
    "deletable": false,
    "editable": false
   },
   "source": [
    "---\n",
    "Copyright 2022 WorldQuant University. This\n",
    "content is licensed solely for personal use. Redistribution or\n",
    "publication of this material is strictly prohibited.\n"
   ]
  }
 ],
 "metadata": {
  "kernelspec": {
   "display_name": "Python 3 (ipykernel)",
   "language": "python",
   "name": "python3"
  },
  "language_info": {
   "codemirror_mode": {
    "name": "ipython",
    "version": 3
   },
   "file_extension": ".py",
   "mimetype": "text/x-python",
   "name": "python",
   "nbconvert_exporter": "python",
   "pygments_lexer": "ipython3",
   "version": "3.9.6"
  },
  "toc-autonumbering": false
 },
 "nbformat": 4,
 "nbformat_minor": 5
}

{
 "cells": [
  {
   "cell_type": "markdown",
   "id": "cb414f9b",
   "metadata": {
    "deletable": false,
    "editable": false
   },
   "source": [
    "\n",
    "<div class=\"alert alert-info\" role=\"alert\">\n",
    "  <p>\n",
    "    <b>Usage Guidelines</b>\n",
    "  </p>\n",
    "\n",
    "  <p>\n",
    "    This lesson is part of the <b>DS Lab core curriculum</b>. For that reason, this notebook can only be used on your WQU virtual machine.\n",
    "  </p>\n",
    "\n",
    "  <p>\n",
    "    This means:\n",
    "    <ul>\n",
    "      <li><span style=\"color: red\">ⓧ</span> No downloading this notebook.</li>\n",
    "      <li><span style=\"color: red\">ⓧ</span> No re-sharing of this notebook with friends or colleagues.</li>\n",
    "      <li><span style=\"color: red\">ⓧ</span> No downloading the embedded videos in this notebook.</li>\n",
    "      <li><span style=\"color: red\">ⓧ</span> No re-sharing embedded videos with friends or colleagues.</li>\n",
    "      <li><span style=\"color: red\">ⓧ</span> No adding this notebook to public or private repositories.</li>\n",
    "      <li><span style=\"color: red\">ⓧ</span> No uploading this notebook (or screenshots of it) to other websites, including websites for study resources.</li>\n",
    "    </ul>\n",
    "\n",
    "  </p>\n",
    "</div>\n"
   ]
  },
  {
   "cell_type": "markdown",
   "id": "60f7d8d3-f009-4820-ae85-2bd74e335df7",
   "metadata": {
    "deletable": false,
    "editable": false
   },
   "source": [
    "<font size=\"+3\"><strong>8.5 Volatility Forecasting in South Africa 🇿🇦</strong></font>"
   ]
  },
  {
   "cell_type": "markdown",
   "id": "bf78a758-00f0-410d-a132-26651040d081",
   "metadata": {
    "deletable": false,
    "editable": false
   },
   "source": [
    "In this assignment you'll build a model to predict stock volatility for the telecommunications company [MTN Group](https://www.mtn.co.za/home/)."
   ]
  },
  {
   "cell_type": "markdown",
   "id": "3fce9868-1587-4786-8dbc-96a7748b6bcb",
   "metadata": {
    "deletable": false,
    "editable": false
   },
   "source": [
    "<div class=\"alert alert-info\" role=\"alert\">\n",
    "    <p><b>Tip:</b> There are some tasks in this assignment that you can complete by importing functions and classes you created for your app. Give it a try!</p>\n",
    "</div>"
   ]
  },
  {
   "cell_type": "markdown",
   "id": "7b6da0d1-a050-43f5-bfb9-3f7083d37583",
   "metadata": {
    "deletable": false,
    "editable": false
   },
   "source": [
    "<div class=\"alert alert-block alert-warning\">\n",
    "<p><b>Warning:</b> There are some tasks in this assignment where there is an extra code block that will transform your work into a <code>submission</code> that's compatible with the grader. Be sure to run those cells and inspect the <code>submission</code> before you submit to the grader.</p> \n",
    "</div>"
   ]
  },
  {
   "cell_type": "code",
   "execution_count": 1,
   "id": "c0ee5fa1-d6d4-438e-bfb8-6bddb7675494",
   "metadata": {
    "deletable": false,
    "editable": false,
    "init_cell": true
   },
   "outputs": [
    {
     "data": {
      "text/html": [
       "\n",
       "<style>\n",
       "  \n",
       "  .checkmark {\n",
       "    width: 56px;\n",
       "    height: 56px;\n",
       "    border-radius: 50%;\n",
       "    display: block;\n",
       "    stroke-width: 2;\n",
       "    stroke: #fff;\n",
       "    stroke-miterlimit: 10;\n",
       "    box-shadow: inset 0px 0px 0px #7ac142;\n",
       "    animation: fill .4s ease-in-out .4s forwards, scale .3s ease-in-out .9s both;\n",
       "  }\n",
       "  \n",
       "  .checkmark__circle {\n",
       "    stroke-dasharray: 166;\n",
       "    stroke-dashoffset: 166;\n",
       "    stroke-width: 2;\n",
       "    stroke-miterlimit: 10;\n",
       "    stroke: #7ac142;\n",
       "    fill: none;\n",
       "    animation: stroke .6s cubic-bezier(0.650, 0.000, 0.450, 1.000) forwards;\n",
       "  }\n",
       "  \n",
       "  .checkmark__check {\n",
       "    transform-origin: 50% 50%;\n",
       "    stroke-dasharray: 48;\n",
       "    stroke-dashoffset: 48;\n",
       "    animation: stroke .3s cubic-bezier(0.650, 0.000, 0.450, 1.000) .8s forwards;\n",
       "  }\n",
       "  \n",
       "  .failmark {\n",
       "    width: 56px;\n",
       "    height: 56px;\n",
       "    border-radius: 50%;\n",
       "    display: block;\n",
       "    stroke-width: 2;\n",
       "    stroke: #fff;\n",
       "    stroke-miterlimit: 10;\n",
       "    box-shadow: inset 0px 0px 0px #F34811;\n",
       "    animation: failfill .4s ease-in-out .4s forwards, scale .3s ease-in-out .9s both;\n",
       "  }\n",
       "  \n",
       "  .failmark__circle {\n",
       "    stroke-dasharray: 166;\n",
       "    stroke-dashoffset: 166;\n",
       "    stroke-width: 2;\n",
       "    stroke-miterlimit: 10;\n",
       "    stroke: #F34811;\n",
       "    fill: none;\n",
       "    animation: stroke .6s cubic-bezier(0.650, 0.000, 0.450, 1.000) forwards;\n",
       "  }\n",
       "  \n",
       "  @keyframes stroke {\n",
       "    100% {\n",
       "      stroke-dashoffset: 0;\n",
       "    }\n",
       "  }\n",
       "  \n",
       "  @keyframes scale {\n",
       "    0%, 100% {\n",
       "      transform: none;\n",
       "    }\n",
       "    50% {\n",
       "      transform: scale3d(1.1, 1.1, 1);\n",
       "    }\n",
       "  }\n",
       "  \n",
       "  @keyframes fill {\n",
       "    100% {\n",
       "      box-shadow: inset 0px 0px 0px 30px #7ac142;\n",
       "    }\n",
       "  }\n",
       "  \n",
       "  @keyframes failfill {\n",
       "    100% {\n",
       "      box-shadow: inset 0px 0px 0px 30px #F34811;\n",
       "    }\n",
       "  }\n",
       "  \n",
       "  \n",
       "  .wqet-result {\n",
       "    width: 450px;\n",
       "    clear: both;\n",
       "  }\n",
       "  \n",
       "  .wqet-result .animation {\n",
       "    float: left;\n",
       "    width: 100px;\n",
       "  }\n",
       "  \n",
       "  .wqet-result .animation .checkmark,\n",
       "  .wqet-result .animation .failmark {\n",
       "    margin: 20px auto 20px auto;\n",
       "  }\n",
       "  \n",
       "  .wqet-result .details {\n",
       "    float: right;\n",
       "    width: 349px;\n",
       "    padding: 28px 0;\n",
       "  }\n",
       "  \n",
       "  .wqet-result .details .title {\n",
       "    font-weight: bold;\n",
       "    font-size: 110%;\n",
       "  }\n",
       "  .wqet-result .details p {\n",
       "    margin: 0;\n",
       "  }\n",
       "</style>\n"
      ],
      "text/plain": [
       "<IPython.core.display.HTML object>"
      ]
     },
     "metadata": {},
     "output_type": "display_data"
    }
   ],
   "source": [
    "%load_ext autoreload\n",
    "%autoreload 2\n",
    "\n",
    "import wqet_grader\n",
    "from arch.univariate.base import ARCHModelResult\n",
    "\n",
    "wqet_grader.init(\"Project 8 Assessment\")\n"
   ]
  },
  {
   "cell_type": "code",
   "execution_count": 2,
   "id": "382ab84c-4d1f-4527-a563-0bb2f609c4f6",
   "metadata": {
    "deletable": false
   },
   "outputs": [],
   "source": [
    "# Import your libraries here\n",
    "import pandas as pd\n",
    "import requests\n",
    "import sqlite3\n",
    "import joblib\n",
    "from glob import glob\n",
    "from arch.univariate.base import ARCHModelResult\n",
    "\n",
    "import matplotlib.pyplot as plt\n",
    "import pandas as pd\n",
    "from config import settings\n",
    "import numpy as np\n",
    "\n",
    "from arch import arch_model\n",
    "from data import SQLRepository"
   ]
  },
  {
   "cell_type": "markdown",
   "id": "40dca6b3-8a8b-4f67-b7c0-4fb38d2ad3ac",
   "metadata": {
    "deletable": false,
    "editable": false
   },
   "source": [
    "# Working with APIs"
   ]
  },
  {
   "cell_type": "markdown",
   "id": "48ca26b3-b34b-49bf-b57e-7efeb6eeb262",
   "metadata": {
    "deletable": false,
    "editable": false
   },
   "source": [
    "**Task 8.5.1:** Create a URL to get **all** the stock data for MTN Group (`\"MTNOY\"`) from AlphaVantage in JSON format. Be sure to use the `https://learn-api.wqu.edu` hostname. And don't worry: your submission won't include your API key!"
   ]
  },
  {
   "cell_type": "code",
   "execution_count": 3,
   "id": "cc651730-dd9f-4fca-981d-759eb0e365d7",
   "metadata": {
    "deletable": false
   },
   "outputs": [
    {
     "name": "stdout",
     "output_type": "stream",
     "text": [
      "url type: <class 'str'>\n"
     ]
    },
    {
     "data": {
      "text/plain": [
       "'https://learn-api.wqu.edu/1/data-services/alpha-vantage/query?function=TIME_SERIES_DAILY&symbol=MTNOY&outputsize=full&datatype=json&apikey=90a4d3fcde611e014793b6a3f286ce69950bb61326856c61a448044ab849c8fe05f8c598c622ab8115aabca9643863e8f140328aab86f742da30f70d3c676baca2c1b0a39ff1209a530cdea8275b898bd63a204d2642a62bd4678c8991e95ef637f32fc60c0f834b5b59a621a03ea8ca25b034e922b744971efbbb8a63cf327e'"
      ]
     },
     "execution_count": 3,
     "metadata": {},
     "output_type": "execute_result"
    }
   ],
   "source": [
    "ticker = \"MTNOY\"\n",
    "output_size = \"full\"\n",
    "data_type = \"json\"\n",
    "\n",
    "url = (\n",
    "       \"https://learn-api.wqu.edu/1/data-services/alpha-vantage/query?\"\n",
    "        f\"function=TIME_SERIES_DAILY&\"\n",
    "       f\"symbol={ticker}&\"\n",
    "       f\"outputsize={output_size}&\"\n",
    "    f\"datatype={data_type}&\"\n",
    "    f\"apikey=90a4d3fcde611e014793b6a3f286ce69950bb61326856c61a448044ab849c8fe05f8c598c622ab8115aabca9643863e8f140328aab86f742da30f70d3c676baca2c1b0a39ff1209a530cdea8275b898bd63a204d2642a62bd4678c8991e95ef637f32fc60c0f834b5b59a621a03ea8ca25b034e922b744971efbbb8a63cf327e\"\n",
    "    \n",
    ")\n",
    "\n",
    "print(\"url type:\", type(url))\n",
    "url"
   ]
  },
  {
   "cell_type": "code",
   "execution_count": 4,
   "id": "4fc33ddb-0a96-4c9d-b6cb-6bf0f13d0a8e",
   "metadata": {
    "deletable": false,
    "editable": false
   },
   "outputs": [
    {
     "data": {
      "text/plain": [
       "'https://learn-api.wqu.edu/1/data-services/alpha-vantage/query?function=TIME_SERIES_DAILY&symbol=MTNOY&outputsize=full&datatype=json&apikey=90a4d3fcde611e014793b6a3f286ce6'"
      ]
     },
     "execution_count": 4,
     "metadata": {},
     "output_type": "execute_result"
    }
   ],
   "source": [
    "# Remove API key for submission\n",
    "submission_851 = url[:170]\n",
    "submission_851"
   ]
  },
  {
   "cell_type": "code",
   "execution_count": 8,
   "id": "fc6dd1e1-e796-4340-8b5f-be56f7600ee9",
   "metadata": {
    "deletable": false,
    "editable": false
   },
   "outputs": [
    {
     "data": {
      "text/html": [
       "\n",
       "    <div class=\"wqet-result\">\n",
       "      <div class=\"animation\">\n",
       "        <svg class=\"checkmark\" xmlns=\"http://www.w3.org/2000/svg\" viewBox=\"0 0 52 52\">\n",
       "          <circle class=\"checkmark__circle\" cx=\"26\" cy=\"26\" r=\"25\" fill=\"none\"/>\n",
       "          <path class=\"checkmark__check\" fill=\"none\" d=\"M14.1 27.2l7.1 7.2 16.7-16.8\"/>\n",
       "        </svg>\n",
       "      </div>\n",
       "      <div class=\"details\">\n",
       "        <p class=\"title\"><p>Yup. You got it.</p></p>\n",
       "        <p>Score: 1</p>\n",
       "      </div>\n",
       "    </div>\n"
      ],
      "text/plain": [
       "<IPython.core.display.HTML object>"
      ]
     },
     "metadata": {},
     "output_type": "display_data"
    }
   ],
   "source": [
    "wqet_grader.grade(\"Project 8 Assessment\", \"Task 8.5.1\", submission_851)"
   ]
  },
  {
   "cell_type": "markdown",
   "id": "eacea647-a614-4daf-9573-d0a56191fca9",
   "metadata": {
    "deletable": false,
    "editable": false
   },
   "source": [
    "**Task 8.5.2:** Create an HTTP request for the URL you created in the previous task. The grader will evaluate your work by looking at the ticker symbol in the `\"Meta Data\"` key-value pair in your response."
   ]
  },
  {
   "cell_type": "code",
   "execution_count": 5,
   "id": "ed726ed0-0bc9-43a0-9d50-5a16382c8bf8",
   "metadata": {
    "deletable": false
   },
   "outputs": [
    {
     "name": "stdout",
     "output_type": "stream",
     "text": [
      "response type: <class 'requests.models.Response'>\n"
     ]
    }
   ],
   "source": [
    "response = requests.get(url=url)\n",
    "\n",
    "print(\"response type:\", type(response))"
   ]
  },
  {
   "cell_type": "code",
   "execution_count": 6,
   "id": "3a6ec61c-96b3-4974-aa8d-359b8646c5c8",
   "metadata": {
    "deletable": false,
    "editable": false
   },
   "outputs": [
    {
     "data": {
      "text/plain": [
       "'MTNOY'"
      ]
     },
     "execution_count": 6,
     "metadata": {},
     "output_type": "execute_result"
    }
   ],
   "source": [
    "# Get symbol in `\"Meta Data\"`\n",
    "submission_852 = response.json()[\"Meta Data\"][\"2. Symbol\"]\n",
    "submission_852"
   ]
  },
  {
   "cell_type": "code",
   "execution_count": 12,
   "id": "dc8be4bd-fdd6-4f83-a6ac-3e6b05c3d04d",
   "metadata": {
    "deletable": false,
    "editable": false
   },
   "outputs": [
    {
     "data": {
      "text/html": [
       "\n",
       "    <div class=\"wqet-result\">\n",
       "      <div class=\"animation\">\n",
       "        <svg class=\"checkmark\" xmlns=\"http://www.w3.org/2000/svg\" viewBox=\"0 0 52 52\">\n",
       "          <circle class=\"checkmark__circle\" cx=\"26\" cy=\"26\" r=\"25\" fill=\"none\"/>\n",
       "          <path class=\"checkmark__check\" fill=\"none\" d=\"M14.1 27.2l7.1 7.2 16.7-16.8\"/>\n",
       "        </svg>\n",
       "      </div>\n",
       "      <div class=\"details\">\n",
       "        <p class=\"title\"><p>You = coding 🥷</p></p>\n",
       "        <p>Score: 1</p>\n",
       "      </div>\n",
       "    </div>\n"
      ],
      "text/plain": [
       "<IPython.core.display.HTML object>"
      ]
     },
     "metadata": {},
     "output_type": "display_data"
    }
   ],
   "source": [
    "wqet_grader.grade(\"Project 8 Assessment\", \"Task 8.5.2\", submission_852)"
   ]
  },
  {
   "cell_type": "markdown",
   "id": "db7ba892-56ad-4e90-b315-a1a2f7bad45a",
   "metadata": {
    "deletable": false,
    "editable": false
   },
   "source": [
    "**Task 8.5.3:** Get status code of your `response` and assign it to the variable `response_code`."
   ]
  },
  {
   "cell_type": "code",
   "execution_count": 7,
   "id": "8c1f19d1-5169-4aaa-b7c9-430306eec30a",
   "metadata": {
    "deletable": false
   },
   "outputs": [
    {
     "name": "stdout",
     "output_type": "stream",
     "text": [
      "code type: <class 'int'>\n"
     ]
    },
    {
     "data": {
      "text/plain": [
       "200"
      ]
     },
     "execution_count": 7,
     "metadata": {},
     "output_type": "execute_result"
    }
   ],
   "source": [
    "response_code = response.status_code\n",
    "\n",
    "print(\"code type:\", type(response_code))\n",
    "response_code"
   ]
  },
  {
   "cell_type": "code",
   "execution_count": 16,
   "id": "e430d185-758f-494a-808a-30a02bc8a42a",
   "metadata": {
    "deletable": false,
    "editable": false
   },
   "outputs": [
    {
     "data": {
      "text/html": [
       "\n",
       "    <div class=\"wqet-result\">\n",
       "      <div class=\"animation\">\n",
       "        <svg class=\"checkmark\" xmlns=\"http://www.w3.org/2000/svg\" viewBox=\"0 0 52 52\">\n",
       "          <circle class=\"checkmark__circle\" cx=\"26\" cy=\"26\" r=\"25\" fill=\"none\"/>\n",
       "          <path class=\"checkmark__check\" fill=\"none\" d=\"M14.1 27.2l7.1 7.2 16.7-16.8\"/>\n",
       "        </svg>\n",
       "      </div>\n",
       "      <div class=\"details\">\n",
       "        <p class=\"title\"><p>Yes! Great problem solving.</p></p>\n",
       "        <p>Score: 1</p>\n",
       "      </div>\n",
       "    </div>\n"
      ],
      "text/plain": [
       "<IPython.core.display.HTML object>"
      ]
     },
     "metadata": {},
     "output_type": "display_data"
    }
   ],
   "source": [
    "wqet_grader.grade(\"Project 8 Assessment\", \"Task 8.5.3\", response_code)"
   ]
  },
  {
   "cell_type": "markdown",
   "id": "e8444d34-d5de-4319-ad39-2cb4c9f9e121",
   "metadata": {
    "deletable": false,
    "editable": false
   },
   "source": [
    "# Test-Driven Development"
   ]
  },
  {
   "cell_type": "markdown",
   "id": "52d0d03b-e556-4945-ac5b-b523b4380c01",
   "metadata": {
    "deletable": false,
    "editable": false
   },
   "source": [
    "**Task 8.5.4:** Create a DataFrame `df_mtnoy` with all the stock data for MTN. Make sure that the DataFrame has the correct type of index and column names. The grader will evaluate your work by looking at the row in `df_mtnoy` for 6 December 2021."
   ]
  },
  {
   "cell_type": "code",
   "execution_count": 8,
   "id": "f824b958-dea2-4a04-8966-aeeda112c855",
   "metadata": {
    "deletable": false
   },
   "outputs": [
    {
     "name": "stdout",
     "output_type": "stream",
     "text": [
      "df_mtnoy type: <class 'pandas.core.frame.DataFrame'>\n"
     ]
    },
    {
     "data": {
      "text/html": [
       "<div>\n",
       "<style scoped>\n",
       "    .dataframe tbody tr th:only-of-type {\n",
       "        vertical-align: middle;\n",
       "    }\n",
       "\n",
       "    .dataframe tbody tr th {\n",
       "        vertical-align: top;\n",
       "    }\n",
       "\n",
       "    .dataframe thead th {\n",
       "        text-align: right;\n",
       "    }\n",
       "</style>\n",
       "<table border=\"1\" class=\"dataframe\">\n",
       "  <thead>\n",
       "    <tr style=\"text-align: right;\">\n",
       "      <th></th>\n",
       "      <th>open</th>\n",
       "      <th>high</th>\n",
       "      <th>low</th>\n",
       "      <th>close</th>\n",
       "      <th>volume</th>\n",
       "    </tr>\n",
       "    <tr>\n",
       "      <th>date</th>\n",
       "      <th></th>\n",
       "      <th></th>\n",
       "      <th></th>\n",
       "      <th></th>\n",
       "      <th></th>\n",
       "    </tr>\n",
       "  </thead>\n",
       "  <tbody>\n",
       "    <tr>\n",
       "      <th>2023-07-21</th>\n",
       "      <td>7.60</td>\n",
       "      <td>7.60</td>\n",
       "      <td>7.46</td>\n",
       "      <td>7.52</td>\n",
       "      <td>5996.0</td>\n",
       "    </tr>\n",
       "    <tr>\n",
       "      <th>2023-07-20</th>\n",
       "      <td>7.49</td>\n",
       "      <td>7.59</td>\n",
       "      <td>7.49</td>\n",
       "      <td>7.59</td>\n",
       "      <td>2721.0</td>\n",
       "    </tr>\n",
       "    <tr>\n",
       "      <th>2023-07-19</th>\n",
       "      <td>7.53</td>\n",
       "      <td>7.55</td>\n",
       "      <td>7.51</td>\n",
       "      <td>7.55</td>\n",
       "      <td>7177.0</td>\n",
       "    </tr>\n",
       "    <tr>\n",
       "      <th>2023-07-18</th>\n",
       "      <td>7.53</td>\n",
       "      <td>7.61</td>\n",
       "      <td>7.53</td>\n",
       "      <td>7.59</td>\n",
       "      <td>10365.0</td>\n",
       "    </tr>\n",
       "    <tr>\n",
       "      <th>2023-07-17</th>\n",
       "      <td>7.52</td>\n",
       "      <td>7.60</td>\n",
       "      <td>7.52</td>\n",
       "      <td>7.60</td>\n",
       "      <td>11660.0</td>\n",
       "    </tr>\n",
       "  </tbody>\n",
       "</table>\n",
       "</div>"
      ],
      "text/plain": [
       "            open  high   low  close   volume\n",
       "date                                        \n",
       "2023-07-21  7.60  7.60  7.46   7.52   5996.0\n",
       "2023-07-20  7.49  7.59  7.49   7.59   2721.0\n",
       "2023-07-19  7.53  7.55  7.51   7.55   7177.0\n",
       "2023-07-18  7.53  7.61  7.53   7.59  10365.0\n",
       "2023-07-17  7.52  7.60  7.52   7.60  11660.0"
      ]
     },
     "execution_count": 8,
     "metadata": {},
     "output_type": "execute_result"
    }
   ],
   "source": [
    "response_data = response.json()\n",
    "stock_data = response_data[\"Time Series (Daily)\"]\n",
    "df_mtnoy = pd.DataFrame.from_dict(stock_data , orient=\"index\" , dtype=float ) \n",
    "df_mtnoy.index = pd.to_datetime(df_mtnoy.index)\n",
    "df_mtnoy.index.name = \"date\"\n",
    "df_mtnoy.columns  = [c.split(\". \")[1] for c in df_mtnoy.columns]\n",
    "print(\"df_mtnoy type:\", type(df_mtnoy))\n",
    "df_mtnoy.head()"
   ]
  },
  {
   "cell_type": "code",
   "execution_count": 9,
   "id": "47e24e07-e525-400e-bb12-7eb37a120ae7",
   "metadata": {
    "deletable": false,
    "editable": false
   },
   "outputs": [
    {
     "data": {
      "text/html": [
       "<div>\n",
       "<style scoped>\n",
       "    .dataframe tbody tr th:only-of-type {\n",
       "        vertical-align: middle;\n",
       "    }\n",
       "\n",
       "    .dataframe tbody tr th {\n",
       "        vertical-align: top;\n",
       "    }\n",
       "\n",
       "    .dataframe thead th {\n",
       "        text-align: right;\n",
       "    }\n",
       "</style>\n",
       "<table border=\"1\" class=\"dataframe\">\n",
       "  <thead>\n",
       "    <tr style=\"text-align: right;\">\n",
       "      <th></th>\n",
       "      <th>open</th>\n",
       "      <th>high</th>\n",
       "      <th>low</th>\n",
       "      <th>close</th>\n",
       "      <th>volume</th>\n",
       "    </tr>\n",
       "  </thead>\n",
       "  <tbody>\n",
       "    <tr>\n",
       "      <th>2021-12-06</th>\n",
       "      <td>10.16</td>\n",
       "      <td>10.18</td>\n",
       "      <td>10.11</td>\n",
       "      <td>10.11</td>\n",
       "      <td>13542.0</td>\n",
       "    </tr>\n",
       "  </tbody>\n",
       "</table>\n",
       "</div>"
      ],
      "text/plain": [
       "             open   high    low  close   volume\n",
       "2021-12-06  10.16  10.18  10.11  10.11  13542.0"
      ]
     },
     "execution_count": 9,
     "metadata": {},
     "output_type": "execute_result"
    }
   ],
   "source": [
    "# Get row for 6 Dec 2021\n",
    "submission_854 = df_mtnoy.loc[\"2021-12-06\"].to_frame().T\n",
    "submission_854"
   ]
  },
  {
   "cell_type": "code",
   "execution_count": 57,
   "id": "71b96beb-9727-4b29-b003-33a1c0d4d2e4",
   "metadata": {
    "deletable": false,
    "editable": false
   },
   "outputs": [
    {
     "data": {
      "text/html": [
       "\n",
       "    <div class=\"wqet-result\">\n",
       "      <div class=\"animation\">\n",
       "        <svg class=\"checkmark\" xmlns=\"http://www.w3.org/2000/svg\" viewBox=\"0 0 52 52\">\n",
       "          <circle class=\"checkmark__circle\" cx=\"26\" cy=\"26\" r=\"25\" fill=\"none\"/>\n",
       "          <path class=\"checkmark__check\" fill=\"none\" d=\"M14.1 27.2l7.1 7.2 16.7-16.8\"/>\n",
       "        </svg>\n",
       "      </div>\n",
       "      <div class=\"details\">\n",
       "        <p class=\"title\"><p>Python master 😁</p></p>\n",
       "        <p>Score: 1</p>\n",
       "      </div>\n",
       "    </div>\n"
      ],
      "text/plain": [
       "<IPython.core.display.HTML object>"
      ]
     },
     "metadata": {},
     "output_type": "display_data"
    }
   ],
   "source": [
    "wqet_grader.grade(\"Project 8 Assessment\", \"Task 8.5.4\", submission_854)\n"
   ]
  },
  {
   "cell_type": "markdown",
   "id": "a01e7eda-d059-4d2b-a265-87683e0de495",
   "metadata": {
    "deletable": false,
    "editable": false
   },
   "source": [
    "**Task 8.5.5:** Connect to the database whose name is stored in the `.env` file for this project. Be sure to set the `check_same_thread` argument to `False`. Assign the connection to the variable `connection`. The grader will evaluate your work by looking at the database location assigned to `connection`."
   ]
  },
  {
   "cell_type": "code",
   "execution_count": 10,
   "id": "8120ddb5-e093-4940-b61b-fcb4d03a1d46",
   "metadata": {
    "deletable": false
   },
   "outputs": [
    {
     "data": {
      "text/plain": [
       "<sqlite3.Connection at 0x7f58f07163f0>"
      ]
     },
     "execution_count": 10,
     "metadata": {},
     "output_type": "execute_result"
    }
   ],
   "source": [
    "connection = sqlite3.connect(database=settings.db_name, check_same_thread = False)\n",
    "connection"
   ]
  },
  {
   "cell_type": "code",
   "execution_count": 11,
   "id": "06885a80-527c-40a3-8dac-bbb875a5e8ff",
   "metadata": {
    "deletable": false,
    "editable": false
   },
   "outputs": [
    {
     "data": {
      "text/plain": [
       "'/home/jovyan/work/ds-curriculum/080-volatility-forecasting-in-india/stocks.sqlite'"
      ]
     },
     "execution_count": 11,
     "metadata": {},
     "output_type": "execute_result"
    }
   ],
   "source": [
    "# Get location of database for `connection`\n",
    "submission_855 = connection.cursor().execute(\"PRAGMA database_list;\").fetchall()[0][-1]\n",
    "submission_855"
   ]
  },
  {
   "cell_type": "code",
   "execution_count": 60,
   "id": "23693fab-c358-4543-ba4e-b298e7b70db5",
   "metadata": {
    "deletable": false,
    "editable": false
   },
   "outputs": [
    {
     "data": {
      "text/html": [
       "\n",
       "    <div class=\"wqet-result\">\n",
       "      <div class=\"animation\">\n",
       "        <svg class=\"checkmark\" xmlns=\"http://www.w3.org/2000/svg\" viewBox=\"0 0 52 52\">\n",
       "          <circle class=\"checkmark__circle\" cx=\"26\" cy=\"26\" r=\"25\" fill=\"none\"/>\n",
       "          <path class=\"checkmark__check\" fill=\"none\" d=\"M14.1 27.2l7.1 7.2 16.7-16.8\"/>\n",
       "        </svg>\n",
       "      </div>\n",
       "      <div class=\"details\">\n",
       "        <p class=\"title\"><p>Very impressive.</p></p>\n",
       "        <p>Score: 1</p>\n",
       "      </div>\n",
       "    </div>\n"
      ],
      "text/plain": [
       "<IPython.core.display.HTML object>"
      ]
     },
     "metadata": {},
     "output_type": "display_data"
    }
   ],
   "source": [
    "wqet_grader.grade(\"Project 8 Assessment\", \"Task 8.5.5\", submission_855)"
   ]
  },
  {
   "cell_type": "markdown",
   "id": "c7e58c4e-4c18-4093-82e4-f7cdd3808354",
   "metadata": {
    "deletable": false,
    "editable": false
   },
   "source": [
    "**Task 8.5.6:** Insert `df_mtnoy` into your database. The grader will evaluate your work by looking at the first five rows of the `MTNOY` table in the database."
   ]
  },
  {
   "cell_type": "code",
   "execution_count": 12,
   "id": "ec4611bd-76cf-42d9-b6f2-5adaca67bb42",
   "metadata": {
    "deletable": false
   },
   "outputs": [],
   "source": [
    "# Insert `MTNOY` data into database\n",
    "from data import SQLRepository\n",
    "repo = SQLRepository(connection=connection)\n",
    "\n",
    "response = repo.insert_table(table_name=ticker , records = df_mtnoy , if_exists = \"replace\")"
   ]
  },
  {
   "cell_type": "code",
   "execution_count": 13,
   "id": "5de1c59f-46e4-4e30-a7fc-ca24f9021391",
   "metadata": {
    "deletable": false,
    "editable": false
   },
   "outputs": [
    {
     "data": {
      "text/html": [
       "<div>\n",
       "<style scoped>\n",
       "    .dataframe tbody tr th:only-of-type {\n",
       "        vertical-align: middle;\n",
       "    }\n",
       "\n",
       "    .dataframe tbody tr th {\n",
       "        vertical-align: top;\n",
       "    }\n",
       "\n",
       "    .dataframe thead th {\n",
       "        text-align: right;\n",
       "    }\n",
       "</style>\n",
       "<table border=\"1\" class=\"dataframe\">\n",
       "  <thead>\n",
       "    <tr style=\"text-align: right;\">\n",
       "      <th></th>\n",
       "      <th>date</th>\n",
       "      <th>open</th>\n",
       "      <th>high</th>\n",
       "      <th>low</th>\n",
       "      <th>close</th>\n",
       "      <th>volume</th>\n",
       "    </tr>\n",
       "  </thead>\n",
       "  <tbody>\n",
       "    <tr>\n",
       "      <th>0</th>\n",
       "      <td>2023-07-21 00:00:00</td>\n",
       "      <td>7.60</td>\n",
       "      <td>7.60</td>\n",
       "      <td>7.46</td>\n",
       "      <td>7.52</td>\n",
       "      <td>5996.0</td>\n",
       "    </tr>\n",
       "    <tr>\n",
       "      <th>1</th>\n",
       "      <td>2023-07-20 00:00:00</td>\n",
       "      <td>7.49</td>\n",
       "      <td>7.59</td>\n",
       "      <td>7.49</td>\n",
       "      <td>7.59</td>\n",
       "      <td>2721.0</td>\n",
       "    </tr>\n",
       "    <tr>\n",
       "      <th>2</th>\n",
       "      <td>2023-07-19 00:00:00</td>\n",
       "      <td>7.53</td>\n",
       "      <td>7.55</td>\n",
       "      <td>7.51</td>\n",
       "      <td>7.55</td>\n",
       "      <td>7177.0</td>\n",
       "    </tr>\n",
       "    <tr>\n",
       "      <th>3</th>\n",
       "      <td>2023-07-18 00:00:00</td>\n",
       "      <td>7.53</td>\n",
       "      <td>7.61</td>\n",
       "      <td>7.53</td>\n",
       "      <td>7.59</td>\n",
       "      <td>10365.0</td>\n",
       "    </tr>\n",
       "    <tr>\n",
       "      <th>4</th>\n",
       "      <td>2023-07-17 00:00:00</td>\n",
       "      <td>7.52</td>\n",
       "      <td>7.60</td>\n",
       "      <td>7.52</td>\n",
       "      <td>7.60</td>\n",
       "      <td>11660.0</td>\n",
       "    </tr>\n",
       "  </tbody>\n",
       "</table>\n",
       "</div>"
      ],
      "text/plain": [
       "                  date  open  high   low  close   volume\n",
       "0  2023-07-21 00:00:00  7.60  7.60  7.46   7.52   5996.0\n",
       "1  2023-07-20 00:00:00  7.49  7.59  7.49   7.59   2721.0\n",
       "2  2023-07-19 00:00:00  7.53  7.55  7.51   7.55   7177.0\n",
       "3  2023-07-18 00:00:00  7.53  7.61  7.53   7.59  10365.0\n",
       "4  2023-07-17 00:00:00  7.52  7.60  7.52   7.60  11660.0"
      ]
     },
     "execution_count": 13,
     "metadata": {},
     "output_type": "execute_result"
    }
   ],
   "source": [
    "# Get first five rows of `MTNOY` table\n",
    "submission_856 = pd.read_sql(sql=\"SELECT * FROM MTNOY LIMIT 5\", con=connection)\n",
    "submission_856"
   ]
  },
  {
   "cell_type": "code",
   "execution_count": 76,
   "id": "3521180e-8ff1-40e4-8437-2fbef7a0e014",
   "metadata": {
    "deletable": false,
    "editable": false
   },
   "outputs": [
    {
     "data": {
      "text/html": [
       "\n",
       "    <div class=\"wqet-result\">\n",
       "      <div class=\"animation\">\n",
       "        <svg class=\"checkmark\" xmlns=\"http://www.w3.org/2000/svg\" viewBox=\"0 0 52 52\">\n",
       "          <circle class=\"checkmark__circle\" cx=\"26\" cy=\"26\" r=\"25\" fill=\"none\"/>\n",
       "          <path class=\"checkmark__check\" fill=\"none\" d=\"M14.1 27.2l7.1 7.2 16.7-16.8\"/>\n",
       "        </svg>\n",
       "      </div>\n",
       "      <div class=\"details\">\n",
       "        <p class=\"title\"><p>You're making this look easy. 😉</p></p>\n",
       "        <p>Score: 1</p>\n",
       "      </div>\n",
       "    </div>\n"
      ],
      "text/plain": [
       "<IPython.core.display.HTML object>"
      ]
     },
     "metadata": {},
     "output_type": "display_data"
    }
   ],
   "source": [
    "wqet_grader.grade(\"Project 8 Assessment\", \"Task 8.5.6\", submission_856)\n"
   ]
  },
  {
   "cell_type": "markdown",
   "id": "c5116f99-6084-44d9-a624-05dce0038f17",
   "metadata": {
    "deletable": false,
    "editable": false
   },
   "source": [
    "**Task 8.5.7:** Read the `MTNOY` table from your database and assign the output to `df_mtnoy_read`. The grader will evaluate your work by looking at the row for 27 April 2022."
   ]
  },
  {
   "cell_type": "code",
   "execution_count": 14,
   "id": "c21ced05-9e7f-4e2e-9c17-770b8cbf1433",
   "metadata": {
    "deletable": false
   },
   "outputs": [
    {
     "name": "stdout",
     "output_type": "stream",
     "text": [
      "df_mtnoy_read type: <class 'pandas.core.frame.DataFrame'>\n",
      "df_mtnoy_read shape: (4034, 5)\n"
     ]
    },
    {
     "data": {
      "text/html": [
       "<div>\n",
       "<style scoped>\n",
       "    .dataframe tbody tr th:only-of-type {\n",
       "        vertical-align: middle;\n",
       "    }\n",
       "\n",
       "    .dataframe tbody tr th {\n",
       "        vertical-align: top;\n",
       "    }\n",
       "\n",
       "    .dataframe thead th {\n",
       "        text-align: right;\n",
       "    }\n",
       "</style>\n",
       "<table border=\"1\" class=\"dataframe\">\n",
       "  <thead>\n",
       "    <tr style=\"text-align: right;\">\n",
       "      <th></th>\n",
       "      <th>open</th>\n",
       "      <th>high</th>\n",
       "      <th>low</th>\n",
       "      <th>close</th>\n",
       "      <th>volume</th>\n",
       "    </tr>\n",
       "    <tr>\n",
       "      <th>date</th>\n",
       "      <th></th>\n",
       "      <th></th>\n",
       "      <th></th>\n",
       "      <th></th>\n",
       "      <th></th>\n",
       "    </tr>\n",
       "  </thead>\n",
       "  <tbody>\n",
       "    <tr>\n",
       "      <th>2023-07-21</th>\n",
       "      <td>7.60</td>\n",
       "      <td>7.60</td>\n",
       "      <td>7.46</td>\n",
       "      <td>7.52</td>\n",
       "      <td>5996.0</td>\n",
       "    </tr>\n",
       "    <tr>\n",
       "      <th>2023-07-20</th>\n",
       "      <td>7.49</td>\n",
       "      <td>7.59</td>\n",
       "      <td>7.49</td>\n",
       "      <td>7.59</td>\n",
       "      <td>2721.0</td>\n",
       "    </tr>\n",
       "    <tr>\n",
       "      <th>2023-07-19</th>\n",
       "      <td>7.53</td>\n",
       "      <td>7.55</td>\n",
       "      <td>7.51</td>\n",
       "      <td>7.55</td>\n",
       "      <td>7177.0</td>\n",
       "    </tr>\n",
       "    <tr>\n",
       "      <th>2023-07-18</th>\n",
       "      <td>7.53</td>\n",
       "      <td>7.61</td>\n",
       "      <td>7.53</td>\n",
       "      <td>7.59</td>\n",
       "      <td>10365.0</td>\n",
       "    </tr>\n",
       "    <tr>\n",
       "      <th>2023-07-17</th>\n",
       "      <td>7.52</td>\n",
       "      <td>7.60</td>\n",
       "      <td>7.52</td>\n",
       "      <td>7.60</td>\n",
       "      <td>11660.0</td>\n",
       "    </tr>\n",
       "  </tbody>\n",
       "</table>\n",
       "</div>"
      ],
      "text/plain": [
       "            open  high   low  close   volume\n",
       "date                                        \n",
       "2023-07-21  7.60  7.60  7.46   7.52   5996.0\n",
       "2023-07-20  7.49  7.59  7.49   7.59   2721.0\n",
       "2023-07-19  7.53  7.55  7.51   7.55   7177.0\n",
       "2023-07-18  7.53  7.61  7.53   7.59  10365.0\n",
       "2023-07-17  7.52  7.60  7.52   7.60  11660.0"
      ]
     },
     "execution_count": 14,
     "metadata": {},
     "output_type": "execute_result"
    }
   ],
   "source": [
    "sql = \"SELECT * FROM 'MTNOY'\"\n",
    "df_mtnoy_read = pd.read_sql(\n",
    "   sql = sql , con = connection , parse_dates = [\"date\"] , index_col=\"date\"\n",
    ")\n",
    "\n",
    "print(\"df_mtnoy_read type:\", type(df_mtnoy_read))\n",
    "print(\"df_mtnoy_read shape:\", df_mtnoy_read.shape)\n",
    "df_mtnoy_read.head()"
   ]
  },
  {
   "cell_type": "code",
   "execution_count": 15,
   "id": "9385fdc8-f435-4dd4-b648-148553713027",
   "metadata": {
    "deletable": false,
    "editable": false
   },
   "outputs": [
    {
     "data": {
      "text/html": [
       "<div>\n",
       "<style scoped>\n",
       "    .dataframe tbody tr th:only-of-type {\n",
       "        vertical-align: middle;\n",
       "    }\n",
       "\n",
       "    .dataframe tbody tr th {\n",
       "        vertical-align: top;\n",
       "    }\n",
       "\n",
       "    .dataframe thead th {\n",
       "        text-align: right;\n",
       "    }\n",
       "</style>\n",
       "<table border=\"1\" class=\"dataframe\">\n",
       "  <thead>\n",
       "    <tr style=\"text-align: right;\">\n",
       "      <th></th>\n",
       "      <th>open</th>\n",
       "      <th>high</th>\n",
       "      <th>low</th>\n",
       "      <th>close</th>\n",
       "      <th>volume</th>\n",
       "    </tr>\n",
       "  </thead>\n",
       "  <tbody>\n",
       "    <tr>\n",
       "      <th>2022-04-27</th>\n",
       "      <td>10.71</td>\n",
       "      <td>10.85</td>\n",
       "      <td>10.5</td>\n",
       "      <td>10.65</td>\n",
       "      <td>23927.0</td>\n",
       "    </tr>\n",
       "  </tbody>\n",
       "</table>\n",
       "</div>"
      ],
      "text/plain": [
       "             open   high   low  close   volume\n",
       "2022-04-27  10.71  10.85  10.5  10.65  23927.0"
      ]
     },
     "execution_count": 15,
     "metadata": {},
     "output_type": "execute_result"
    }
   ],
   "source": [
    "# Get row for 27 April 2022\n",
    "submission_857 = df_mtnoy_read.loc[\"2022-04-27\"].to_frame().T\n",
    "submission_857"
   ]
  },
  {
   "cell_type": "code",
   "execution_count": 80,
   "id": "a270d917-920d-479e-bc68-bd26d6d94cbc",
   "metadata": {
    "deletable": false,
    "editable": false
   },
   "outputs": [
    {
     "data": {
      "text/html": [
       "\n",
       "    <div class=\"wqet-result\">\n",
       "      <div class=\"animation\">\n",
       "        <svg class=\"checkmark\" xmlns=\"http://www.w3.org/2000/svg\" viewBox=\"0 0 52 52\">\n",
       "          <circle class=\"checkmark__circle\" cx=\"26\" cy=\"26\" r=\"25\" fill=\"none\"/>\n",
       "          <path class=\"checkmark__check\" fill=\"none\" d=\"M14.1 27.2l7.1 7.2 16.7-16.8\"/>\n",
       "        </svg>\n",
       "      </div>\n",
       "      <div class=\"details\">\n",
       "        <p class=\"title\"><p>Yes! Your hard work is paying off.</p></p>\n",
       "        <p>Score: 1</p>\n",
       "      </div>\n",
       "    </div>\n"
      ],
      "text/plain": [
       "<IPython.core.display.HTML object>"
      ]
     },
     "metadata": {},
     "output_type": "display_data"
    }
   ],
   "source": [
    "wqet_grader.grade(\"Project 8 Assessment\", \"Task 8.5.7\", submission_857)\n"
   ]
  },
  {
   "cell_type": "markdown",
   "id": "2fc6f791-aba6-469b-ac16-a4bf4ba7c430",
   "metadata": {
    "deletable": false,
    "editable": false
   },
   "source": [
    "# Predicting Volatility"
   ]
  },
  {
   "cell_type": "markdown",
   "id": "887a8bf2-c686-4310-9795-a82710cb91dd",
   "metadata": {
    "deletable": false,
    "editable": false
   },
   "source": [
    "## Prepare Data"
   ]
  },
  {
   "cell_type": "markdown",
   "id": "766651e1-cfc3-4ae4-bdf8-7bd861b50ddc",
   "metadata": {
    "deletable": false,
    "editable": false
   },
   "source": [
    "**Task 8.5.8:** Create a Series `y_mtnoy` with the 2,500 most recent returns for MTN. The grader will evaluate your work by looking at the volatility for 9 August 2022."
   ]
  },
  {
   "cell_type": "code",
   "execution_count": 16,
   "id": "8385e9a6-710a-475c-9356-df8d299157f2",
   "metadata": {},
   "outputs": [],
   "source": [
    "   def wrangle_data(ticker , n_observations):\n",
    "        df = repo.read_table(table_name= ticker ,limit = n_observations+1)\n",
    "        df.sort_index(ascending=True , inplace=True)\n",
    "        df['return'] = df['close'].pct_change()*100\n",
    "        return df['return'].dropna()              \n",
    "                            "
   ]
  },
  {
   "cell_type": "code",
   "execution_count": 17,
   "id": "77195d27-2fc2-4520-bf60-5d6a88b4eb20",
   "metadata": {
    "deletable": false
   },
   "outputs": [
    {
     "name": "stdout",
     "output_type": "stream",
     "text": [
      "y_mtnoy type: <class 'pandas.core.series.Series'>\n",
      "y_mtnoy shape: (2500,)\n"
     ]
    },
    {
     "data": {
      "text/plain": [
       "date\n",
       "2013-08-15   -1.591248\n",
       "2013-08-16   -0.252653\n",
       "2013-08-19   -3.799392\n",
       "2013-08-20    5.581885\n",
       "2013-08-21   -6.234414\n",
       "Name: return, dtype: float64"
      ]
     },
     "execution_count": 17,
     "metadata": {},
     "output_type": "execute_result"
    }
   ],
   "source": [
    "\n",
    "y_mtnoy = wrangle_data(ticker= ticker ,n_observations=2500)\n",
    "print(\"y_mtnoy type:\", type(y_mtnoy))\n",
    "print(\"y_mtnoy shape:\", y_mtnoy.shape)\n",
    "y_mtnoy.head()"
   ]
  },
  {
   "cell_type": "code",
   "execution_count": 18,
   "id": "8f69f37e-6731-4d04-9a57-1f2645f8b8ea",
   "metadata": {
    "deletable": false,
    "editable": false
   },
   "outputs": [
    {
     "data": {
      "text/plain": [
       "1.5783540022547893"
      ]
     },
     "execution_count": 18,
     "metadata": {},
     "output_type": "execute_result"
    }
   ],
   "source": [
    "# Get data for 8 Aug 2022\n",
    "submission_859 = float(y_mtnoy[\"2022-08-09\"])\n",
    "submission_859"
   ]
  },
  {
   "cell_type": "code",
   "execution_count": 105,
   "id": "0b824f5d-b593-47f5-9fc8-944dc7444323",
   "metadata": {
    "deletable": false,
    "editable": false
   },
   "outputs": [
    {
     "data": {
      "text/html": [
       "\n",
       "    <div class=\"wqet-result\">\n",
       "      <div class=\"animation\">\n",
       "        <svg class=\"checkmark\" xmlns=\"http://www.w3.org/2000/svg\" viewBox=\"0 0 52 52\">\n",
       "          <circle class=\"checkmark__circle\" cx=\"26\" cy=\"26\" r=\"25\" fill=\"none\"/>\n",
       "          <path class=\"checkmark__check\" fill=\"none\" d=\"M14.1 27.2l7.1 7.2 16.7-16.8\"/>\n",
       "        </svg>\n",
       "      </div>\n",
       "      <div class=\"details\">\n",
       "        <p class=\"title\"><p>Yes! Great problem solving.</p></p>\n",
       "        <p>Score: 1</p>\n",
       "      </div>\n",
       "    </div>\n"
      ],
      "text/plain": [
       "<IPython.core.display.HTML object>"
      ]
     },
     "metadata": {},
     "output_type": "display_data"
    }
   ],
   "source": [
    "wqet_grader.grade(\"Project 8 Assessment\", \"Task 8.5.8\", submission_859)"
   ]
  },
  {
   "cell_type": "markdown",
   "id": "22b5ad92-a906-4a3b-a21c-2f916fa5a80a",
   "metadata": {
    "deletable": false,
    "editable": false
   },
   "source": [
    "**Task 8.5.9:** Calculate daily volatility for `y_mtnoy`, and assign the result to `mtnoy_daily_volatility`."
   ]
  },
  {
   "cell_type": "code",
   "execution_count": 19,
   "id": "5e7b86ce-1a34-4ab5-bd2d-0a2c6057cba7",
   "metadata": {
    "deletable": false
   },
   "outputs": [
    {
     "name": "stdout",
     "output_type": "stream",
     "text": [
      "mtnoy_daily_volatility type: <class 'float'>\n",
      "MTN Daily Volatility: 2.9190829829725597\n"
     ]
    }
   ],
   "source": [
    "mtnoy_daily_volatility = y_mtnoy.std()\n",
    "\n",
    "print(\"mtnoy_daily_volatility type:\", type(mtnoy_daily_volatility))\n",
    "print(\"MTN Daily Volatility:\", mtnoy_daily_volatility)"
   ]
  },
  {
   "cell_type": "code",
   "execution_count": 107,
   "id": "43fd19e6-26ce-4afd-9e72-89dbd9ffbcde",
   "metadata": {
    "deletable": false,
    "editable": false
   },
   "outputs": [
    {
     "data": {
      "text/html": [
       "\n",
       "    <div class=\"wqet-result\">\n",
       "      <div class=\"animation\">\n",
       "        <svg class=\"checkmark\" xmlns=\"http://www.w3.org/2000/svg\" viewBox=\"0 0 52 52\">\n",
       "          <circle class=\"checkmark__circle\" cx=\"26\" cy=\"26\" r=\"25\" fill=\"none\"/>\n",
       "          <path class=\"checkmark__check\" fill=\"none\" d=\"M14.1 27.2l7.1 7.2 16.7-16.8\"/>\n",
       "        </svg>\n",
       "      </div>\n",
       "      <div class=\"details\">\n",
       "        <p class=\"title\"><p>Way to go!</p></p>\n",
       "        <p>Score: 1</p>\n",
       "      </div>\n",
       "    </div>\n"
      ],
      "text/plain": [
       "<IPython.core.display.HTML object>"
      ]
     },
     "metadata": {},
     "output_type": "display_data"
    }
   ],
   "source": [
    "wqet_grader.grade(\"Project 8 Assessment\", \"Task 8.5.9\", mtnoy_daily_volatility)"
   ]
  },
  {
   "cell_type": "markdown",
   "id": "13ccc254-53e0-44ec-850f-27a1da11cecd",
   "metadata": {
    "deletable": false,
    "editable": false
   },
   "source": [
    "**Task 8.5.10:** Calculate the annual volatility for `y_mtnoy`, and assign the result to `mtnoy_annual_volatility`."
   ]
  },
  {
   "cell_type": "code",
   "execution_count": 20,
   "id": "071ff510-8490-4f16-8e39-ec4212cb8a2f",
   "metadata": {
    "deletable": false
   },
   "outputs": [
    {
     "name": "stdout",
     "output_type": "stream",
     "text": [
      "mtnoy_annual_volatility type: <class 'numpy.float64'>\n",
      "MTN Annual Volatility: 46.339005775835915\n"
     ]
    }
   ],
   "source": [
    "mtnoy_annual_volatility = mtnoy_daily_volatility*np.sqrt(252)\n",
    "\n",
    "print(\"mtnoy_annual_volatility type:\", type(mtnoy_annual_volatility))\n",
    "print(\"MTN Annual Volatility:\", mtnoy_annual_volatility)"
   ]
  },
  {
   "cell_type": "code",
   "execution_count": 109,
   "id": "961e80f9-d22d-4853-8156-cf189e04918b",
   "metadata": {
    "deletable": false,
    "editable": false
   },
   "outputs": [
    {
     "data": {
      "text/html": [
       "\n",
       "    <div class=\"wqet-result\">\n",
       "      <div class=\"animation\">\n",
       "        <svg class=\"checkmark\" xmlns=\"http://www.w3.org/2000/svg\" viewBox=\"0 0 52 52\">\n",
       "          <circle class=\"checkmark__circle\" cx=\"26\" cy=\"26\" r=\"25\" fill=\"none\"/>\n",
       "          <path class=\"checkmark__check\" fill=\"none\" d=\"M14.1 27.2l7.1 7.2 16.7-16.8\"/>\n",
       "        </svg>\n",
       "      </div>\n",
       "      <div class=\"details\">\n",
       "        <p class=\"title\"><p>Correct.</p></p>\n",
       "        <p>Score: 1</p>\n",
       "      </div>\n",
       "    </div>\n"
      ],
      "text/plain": [
       "<IPython.core.display.HTML object>"
      ]
     },
     "metadata": {},
     "output_type": "display_data"
    }
   ],
   "source": [
    "wqet_grader.grade(\"Project 8 Assessment\", \"Task 8.5.10\", float(mtnoy_annual_volatility))"
   ]
  },
  {
   "cell_type": "markdown",
   "id": "8ee1c68c-b1f9-469a-ad61-c77c367602a0",
   "metadata": {
    "deletable": false,
    "editable": false
   },
   "source": [
    "**Task 8.5.11:** Create a time series line plot for `y_mtnoy`. Be sure to label the x-axis `\"Date\"`, the y-axis `\"Returns\"`, and use the title `\"Time Series of MTNOY Returns\"`."
   ]
  },
  {
   "cell_type": "code",
   "execution_count": 21,
   "id": "f878a581-4624-4cc9-a1bf-f87b00c1bdee",
   "metadata": {
    "deletable": false
   },
   "outputs": [
    {
     "data": {
      "image/png": "[encoded data removed]",
      "text/plain": [
       "<Figure size 1080x432 with 1 Axes>"
      ]
     },
     "metadata": {
      "needs_background": "light"
     },
     "output_type": "display_data"
    }
   ],
   "source": [
    "# Create `fig` and `ax`\n",
    "fig, ax = plt.subplots(figsize=(15,6))\n",
    "\n",
    "# Plot `y_mtnoy` on `ax`\n",
    "y_mtnoy.plot(ax=ax , label='daily return')\n",
    "\n",
    "# Add axis labels\n",
    "plt.xlabel('Date')\n",
    "plt.ylabel('returns')\n",
    "plt.title(\"Time Series of MTNOY Returns\")\n",
    "\n",
    "# Add title\n",
    "plt.legend\n",
    "\n",
    "# Don't delete the code below 👇\n",
    "plt.savefig(\"images/8-5-11.png\", dpi=150)\n"
   ]
  },
  {
   "cell_type": "code",
   "execution_count": 111,
   "id": "e5921338-55d3-496b-b332-4d675edb4f8c",
   "metadata": {
    "deletable": false,
    "editable": false
   },
   "outputs": [
    {
     "data": {
      "text/html": [
       "\n",
       "    <div class=\"wqet-result\">\n",
       "      <div class=\"animation\">\n",
       "        <svg class=\"checkmark\" xmlns=\"http://www.w3.org/2000/svg\" viewBox=\"0 0 52 52\">\n",
       "          <circle class=\"checkmark__circle\" cx=\"26\" cy=\"26\" r=\"25\" fill=\"none\"/>\n",
       "          <path class=\"checkmark__check\" fill=\"none\" d=\"M14.1 27.2l7.1 7.2 16.7-16.8\"/>\n",
       "        </svg>\n",
       "      </div>\n",
       "      <div class=\"details\">\n",
       "        <p class=\"title\"><p>Wow, you're making great progress.</p></p>\n",
       "        <p>Score: 1</p>\n",
       "      </div>\n",
       "    </div>\n"
      ],
      "text/plain": [
       "<IPython.core.display.HTML object>"
      ]
     },
     "metadata": {},
     "output_type": "display_data"
    }
   ],
   "source": [
    "with open(\"images/8-5-11.png\", \"rb\") as file:\n",
    "    wqet_grader.grade(\"Project 8 Assessment\", \"Task 8.5.11\", file)"
   ]
  },
  {
   "cell_type": "markdown",
   "id": "e54a73ab-05ca-4f25-aa63-b3ee1b3c651f",
   "metadata": {
    "deletable": false,
    "editable": false
   },
   "source": [
    "**Task 8.5.12:** Create an ACF plot of the squared returns for MTN. Be sure to label the x-axis `\"Lag [days]\"`, the y-axis `\"Correlation Coefficient\"`, and use the title `\"ACF of MTNOY Squared Returns\"`."
   ]
  },
  {
   "cell_type": "code",
   "execution_count": 22,
   "id": "f373a576-6782-4599-88e8-187a52939184",
   "metadata": {
    "deletable": false
   },
   "outputs": [
    {
     "name": "stderr",
     "output_type": "stream",
     "text": [
      "/opt/conda/lib/python3.9/site-packages/statsmodels/tsa/base/tsa_model.py:7: FutureWarning: pandas.Int64Index is deprecated and will be removed from pandas in a future version. Use pandas.Index with the appropriate dtype instead.\n",
      "  from pandas import (to_datetime, Int64Index, DatetimeIndex, Period,\n",
      "/opt/conda/lib/python3.9/site-packages/statsmodels/tsa/base/tsa_model.py:7: FutureWarning: pandas.Float64Index is deprecated and will be removed from pandas in a future version. Use pandas.Index with the appropriate dtype instead.\n",
      "  from pandas import (to_datetime, Int64Index, DatetimeIndex, Period,\n"
     ]
    },
    {
     "data": {
      "image/png": "[encoded data removed]",
      "text/plain": [
       "<Figure size 1080x432 with 1 Axes>"
      ]
     },
     "metadata": {
      "needs_background": "light"
     },
     "output_type": "display_data"
    }
   ],
   "source": [
    "from statsmodels.graphics.tsaplots import plot_acf\n",
    "# Create `fig` and `ax`\n",
    "fig , ax = plt.subplots(figsize=(15,6))\n",
    "\n",
    "# Create ACF of squared returns\n",
    "plot_acf(y_mtnoy**2 , ax = ax)\n",
    "\n",
    "# Add axis labels\n",
    "plt.xlabel(\"Lag [days]\")\n",
    "plt.ylabel(\"Correlation Coefficient\")\n",
    "plt.title(\"ACF of MTNOY Squared Returns\")\n",
    "\n",
    "\n",
    "# Add title\n",
    "\n",
    "\n",
    "# Don't delete the code below 👇\n",
    "plt.savefig(\"images/8-5-12.png\", dpi=150)\n"
   ]
  },
  {
   "cell_type": "code",
   "execution_count": 114,
   "id": "e0199e63-9c0c-4d53-8355-69e0f0f9854a",
   "metadata": {
    "deletable": false,
    "editable": false
   },
   "outputs": [
    {
     "data": {
      "text/html": [
       "\n",
       "    <div class=\"wqet-result\">\n",
       "      <div class=\"animation\">\n",
       "        <svg class=\"checkmark\" xmlns=\"http://www.w3.org/2000/svg\" viewBox=\"0 0 52 52\">\n",
       "          <circle class=\"checkmark__circle\" cx=\"26\" cy=\"26\" r=\"25\" fill=\"none\"/>\n",
       "          <path class=\"checkmark__check\" fill=\"none\" d=\"M14.1 27.2l7.1 7.2 16.7-16.8\"/>\n",
       "        </svg>\n",
       "      </div>\n",
       "      <div class=\"details\">\n",
       "        <p class=\"title\"><p>Excellent work.</p></p>\n",
       "        <p>Score: 1</p>\n",
       "      </div>\n",
       "    </div>\n"
      ],
      "text/plain": [
       "<IPython.core.display.HTML object>"
      ]
     },
     "metadata": {},
     "output_type": "display_data"
    }
   ],
   "source": [
    "with open(\"images/8-5-12.png\", \"rb\") as file:\n",
    "    wqet_grader.grade(\"Project 8 Assessment\", \"Task 8.5.12\", file)"
   ]
  },
  {
   "cell_type": "markdown",
   "id": "d27d1dfc-91cb-4bb2-8f3d-bf2550e4c164",
   "metadata": {
    "deletable": false,
    "editable": false
   },
   "source": [
    "**Task 8.5.13:** Create a PACF plot of the squared returns for MTN. Be sure to label the x-axis `\"Lag [days]\"`, the y-axis `\"Correlation Coefficient\"`, and use the title `\"PACF of MTNOY Squared Returns\"`."
   ]
  },
  {
   "cell_type": "code",
   "execution_count": 23,
   "id": "0bb12eab-db2e-40dd-9695-0861c7639d65",
   "metadata": {
    "deletable": false
   },
   "outputs": [
    {
     "data": {
      "image/png": "[encoded data removed]",
      "text/plain": [
       "<Figure size 1080x432 with 1 Axes>"
      ]
     },
     "metadata": {
      "needs_background": "light"
     },
     "output_type": "display_data"
    }
   ],
   "source": [
    "from statsmodels.graphics.tsaplots import plot_pacf\n",
    "\n",
    "# Create `fig` and `ax`\n",
    "fig , ax = plt.subplots(figsize=(15,6))\n",
    "\n",
    "# Create ACF of squared returns\n",
    "plot_pacf(y_mtnoy**2 , ax = ax)\n",
    "\n",
    "# Add axis labels\n",
    "plt.xlabel(\"Lag [days]\")\n",
    "plt.ylabel(\"Correlation Coefficient\")\n",
    "plt.title(\"PACF of MTNOY Squared Returns\")\n",
    "\n",
    "\n",
    "\n",
    "# Add title\n",
    "\n",
    "\n",
    "# Don't delete the code below 👇\n",
    "plt.savefig(\"images/8-5-13.png\", dpi=150)\n"
   ]
  },
  {
   "cell_type": "code",
   "execution_count": 117,
   "id": "5d13ac14-4b5a-4a27-bd59-7386b73e88f5",
   "metadata": {
    "deletable": false,
    "editable": false
   },
   "outputs": [
    {
     "data": {
      "text/html": [
       "\n",
       "    <div class=\"wqet-result\">\n",
       "      <div class=\"animation\">\n",
       "        <svg class=\"checkmark\" xmlns=\"http://www.w3.org/2000/svg\" viewBox=\"0 0 52 52\">\n",
       "          <circle class=\"checkmark__circle\" cx=\"26\" cy=\"26\" r=\"25\" fill=\"none\"/>\n",
       "          <path class=\"checkmark__check\" fill=\"none\" d=\"M14.1 27.2l7.1 7.2 16.7-16.8\"/>\n",
       "        </svg>\n",
       "      </div>\n",
       "      <div class=\"details\">\n",
       "        <p class=\"title\"><p>Yes! Great problem solving.</p></p>\n",
       "        <p>Score: 1</p>\n",
       "      </div>\n",
       "    </div>\n"
      ],
      "text/plain": [
       "<IPython.core.display.HTML object>"
      ]
     },
     "metadata": {},
     "output_type": "display_data"
    }
   ],
   "source": [
    "with open(\"images/8-5-13.png\", \"rb\") as file:\n",
    "    wqet_grader.grade(\"Project 8 Assessment\", \"Task 8.5.13\", file)"
   ]
  },
  {
   "cell_type": "markdown",
   "id": "7f5371b6-1830-4033-b062-d739c68ed61f",
   "metadata": {
    "deletable": false,
    "editable": false
   },
   "source": [
    "**Task 8.5.14:** Create a training set `y_mtnoy_train` that contains the first 80% of the observations in `y_mtnoy`. "
   ]
  },
  {
   "cell_type": "code",
   "execution_count": 24,
   "id": "fa2bac6e-467d-441c-937b-ba2a561135ce",
   "metadata": {
    "deletable": false
   },
   "outputs": [
    {
     "name": "stdout",
     "output_type": "stream",
     "text": [
      "y_mtnoy_train type: <class 'pandas.core.series.Series'>\n",
      "y_mtnoy_train shape: (2000,)\n"
     ]
    },
    {
     "data": {
      "text/plain": [
       "date\n",
       "2013-08-15   -1.591248\n",
       "2013-08-16   -0.252653\n",
       "2013-08-19   -3.799392\n",
       "2013-08-20    5.581885\n",
       "2013-08-21   -6.234414\n",
       "Name: return, dtype: float64"
      ]
     },
     "execution_count": 24,
     "metadata": {},
     "output_type": "execute_result"
    }
   ],
   "source": [
    "cutoff_test = int(len(y_mtnoy)*0.8)\n",
    "y_mtnoy_train = y_mtnoy[:cutoff_test]\n",
    "\n",
    "print(\"y_mtnoy_train type:\", type(y_mtnoy_train))\n",
    "print(\"y_mtnoy_train shape:\", y_mtnoy_train.shape)\n",
    "y_mtnoy_train.head()"
   ]
  },
  {
   "cell_type": "code",
   "execution_count": 120,
   "id": "6e729032-f647-4fe6-8024-0c351510f1ad",
   "metadata": {
    "deletable": false,
    "editable": false
   },
   "outputs": [
    {
     "data": {
      "text/html": [
       "\n",
       "    <div class=\"wqet-result\">\n",
       "      <div class=\"animation\">\n",
       "        <svg class=\"checkmark\" xmlns=\"http://www.w3.org/2000/svg\" viewBox=\"0 0 52 52\">\n",
       "          <circle class=\"checkmark__circle\" cx=\"26\" cy=\"26\" r=\"25\" fill=\"none\"/>\n",
       "          <path class=\"checkmark__check\" fill=\"none\" d=\"M14.1 27.2l7.1 7.2 16.7-16.8\"/>\n",
       "        </svg>\n",
       "      </div>\n",
       "      <div class=\"details\">\n",
       "        <p class=\"title\"><p>Boom! You got it.</p></p>\n",
       "        <p>Score: 1</p>\n",
       "      </div>\n",
       "    </div>\n"
      ],
      "text/plain": [
       "<IPython.core.display.HTML object>"
      ]
     },
     "metadata": {},
     "output_type": "display_data"
    }
   ],
   "source": [
    "wqet_grader.grade(\"Project 8 Assessment\", \"Task 8.5.14\", y_mtnoy_train)"
   ]
  },
  {
   "cell_type": "markdown",
   "id": "3b648d47-1a70-4ce8-919f-0b7b84d91524",
   "metadata": {
    "deletable": false,
    "editable": false
   },
   "source": [
    "## Build Model"
   ]
  },
  {
   "cell_type": "markdown",
   "id": "5d5ea8b0-13a7-423a-9007-d2b5ef2c95b8",
   "metadata": {
    "deletable": false,
    "editable": false
   },
   "source": [
    "**Task 8.5.15:** Build and fit a GARCH model using the data in `y_mtnoy`. Try different values for `p` and `q`, using the summary to assess its performance. The grader will evaluate whether your `model` is the correct data type."
   ]
  },
  {
   "cell_type": "code",
   "execution_count": 25,
   "id": "557513ff-a639-4a97-b1cb-99c285d7b522",
   "metadata": {
    "deletable": false
   },
   "outputs": [
    {
     "name": "stdout",
     "output_type": "stream",
     "text": [
      "model type: <class 'arch.univariate.base.ARCHModelResult'>\n"
     ]
    }
   ],
   "source": [
    "from arch import arch_model\n",
    "# Build and train model\n",
    "model = arch_model(\n",
    "y_mtnoy_train, p=1 , q=1 ,rescale=False\n",
    ").fit(disp = 0)\n",
    "\n",
    "print(\"model type:\", type(model))\n",
    "\n",
    "# Show model summary\n"
   ]
  },
  {
   "cell_type": "code",
   "execution_count": 26,
   "id": "619ae9e9-b24f-4575-a15b-bd8e1b3b892e",
   "metadata": {
    "deletable": false
   },
   "outputs": [
    {
     "data": {
      "text/plain": [
       "True"
      ]
     },
     "execution_count": 26,
     "metadata": {},
     "output_type": "execute_result"
    }
   ],
   "source": [
    "submission_8515 = isinstance(model, ARCHModelResult)\n",
    "submission_8515"
   ]
  },
  {
   "cell_type": "code",
   "execution_count": 126,
   "id": "84a8f42a-b3fc-4756-a7be-32a6355ea8a6",
   "metadata": {
    "deletable": false,
    "editable": false
   },
   "outputs": [
    {
     "data": {
      "text/html": [
       "\n",
       "    <div class=\"wqet-result\">\n",
       "      <div class=\"animation\">\n",
       "        <svg class=\"checkmark\" xmlns=\"http://www.w3.org/2000/svg\" viewBox=\"0 0 52 52\">\n",
       "          <circle class=\"checkmark__circle\" cx=\"26\" cy=\"26\" r=\"25\" fill=\"none\"/>\n",
       "          <path class=\"checkmark__check\" fill=\"none\" d=\"M14.1 27.2l7.1 7.2 16.7-16.8\"/>\n",
       "        </svg>\n",
       "      </div>\n",
       "      <div class=\"details\">\n",
       "        <p class=\"title\"><p>Very impressive.</p></p>\n",
       "        <p>Score: 1</p>\n",
       "      </div>\n",
       "    </div>\n"
      ],
      "text/plain": [
       "<IPython.core.display.HTML object>"
      ]
     },
     "metadata": {},
     "output_type": "display_data"
    }
   ],
   "source": [
    "wqet_grader.grade(\"Project 8 Assessment\", \"Task 8.5.15\", [submission_8515])"
   ]
  },
  {
   "cell_type": "markdown",
   "id": "8dd49091-ae8a-4486-8f40-07916cdd9a7f",
   "metadata": {
    "deletable": false,
    "editable": false
   },
   "source": [
    "**Task 8.5.16:** Plot the standardized residuals for your `model`. Be sure to label the x-axis `\"Date\"`, the y-axis `\"Value\"`, and use the title `\"MTNOY GARCH Model Standardized Residuals\"`."
   ]
  },
  {
   "cell_type": "code",
   "execution_count": 27,
   "id": "870dfbd9-70f9-4cd1-8a1c-6a234ebece70",
   "metadata": {
    "deletable": false
   },
   "outputs": [
    {
     "data": {
      "image/png": "[encoded data removed]",
      "text/plain": [
       "<Figure size 1080x432 with 1 Axes>"
      ]
     },
     "metadata": {
      "needs_background": "light"
     },
     "output_type": "display_data"
    }
   ],
   "source": [
    "# Create `fig` and `ax`\n",
    "fig , ax = plt.subplots(figsize=(15,6))\n",
    "\n",
    "model.std_resid.plot(ax=ax , label ='Standardized Residuals' )\n",
    "\n",
    "# Add axis labels\n",
    "plt.xlabel(\"Date\")\n",
    "plt.ylabel(\"Value\")\n",
    "plt.title(\"MTNOY GARCH Model Standardized Residuals\")\n",
    "\n",
    "\n",
    "\n",
    "# Add title\n",
    "\n",
    "\n",
    "# Don't delete the code below 👇\n",
    "plt.savefig(\"images/8-5-16.png\", dpi=150)\n"
   ]
  },
  {
   "cell_type": "code",
   "execution_count": 128,
   "id": "f1b77391-c596-425c-93c8-eea265cb7080",
   "metadata": {
    "deletable": false,
    "editable": false
   },
   "outputs": [
    {
     "data": {
      "text/html": [
       "\n",
       "    <div class=\"wqet-result\">\n",
       "      <div class=\"animation\">\n",
       "        <svg class=\"checkmark\" xmlns=\"http://www.w3.org/2000/svg\" viewBox=\"0 0 52 52\">\n",
       "          <circle class=\"checkmark__circle\" cx=\"26\" cy=\"26\" r=\"25\" fill=\"none\"/>\n",
       "          <path class=\"checkmark__check\" fill=\"none\" d=\"M14.1 27.2l7.1 7.2 16.7-16.8\"/>\n",
       "        </svg>\n",
       "      </div>\n",
       "      <div class=\"details\">\n",
       "        <p class=\"title\"><p>Wow, you're making great progress.</p></p>\n",
       "        <p>Score: 1</p>\n",
       "      </div>\n",
       "    </div>\n"
      ],
      "text/plain": [
       "<IPython.core.display.HTML object>"
      ]
     },
     "metadata": {},
     "output_type": "display_data"
    }
   ],
   "source": [
    "with open(\"images/8-5-16.png\", \"rb\") as file:\n",
    "    wqet_grader.grade(\"Project 8 Assessment\", \"Task 8.5.16\", file)"
   ]
  },
  {
   "cell_type": "markdown",
   "id": "557d6ea7-475a-40c2-adcc-293e4f627028",
   "metadata": {
    "deletable": false,
    "editable": false
   },
   "source": [
    "**Task 8.5.17:** Create an ACF plot of the squared, standardized residuals of your `model`. Be sure to label the x-axis `\"Lag [days]\"`, the y-axis `\"Correlation Coefficient\"`, and use the title `\"ACF of MTNOY GARCH Model Standardized Residuals\"`."
   ]
  },
  {
   "cell_type": "code",
   "execution_count": 28,
   "id": "b4ae466c-b745-40b8-afaf-94c1fd9fa3bb",
   "metadata": {
    "deletable": false
   },
   "outputs": [
    {
     "data": {
      "image/png": "[encoded data removed]",
      "text/plain": [
       "<Figure size 1080x432 with 1 Axes>"
      ]
     },
     "metadata": {
      "needs_background": "light"
     },
     "output_type": "display_data"
    }
   ],
   "source": [
    "from statsmodels.graphics.tsaplots import plot_acf\n",
    "# Create `fig` and `ax`\n",
    "fig , ax = plt.subplots(figsize=(15,6))\n",
    "\n",
    "# Create ACF of squared returns\n",
    "plot_acf(model.std_resid**2 , ax = ax)\n",
    "\n",
    "# Add axis labels\n",
    "plt.xlabel(\"Lag [days]\")\n",
    "plt.ylabel(\"Correlation Coefficient\")\n",
    "plt.title(\"ACF of MTNOY GARCH Model Standardized Residuals\")\n",
    "\n",
    "# Add title\n",
    "\n",
    "\n",
    "# Don't delete the code below 👇\n",
    "plt.savefig(\"images/8-5-17.png\", dpi=150)\n"
   ]
  },
  {
   "cell_type": "code",
   "execution_count": 130,
   "id": "1cecf57c-4cbc-4486-ad14-7cf89ce4a32b",
   "metadata": {
    "deletable": false,
    "editable": false
   },
   "outputs": [
    {
     "data": {
      "text/html": [
       "\n",
       "    <div class=\"wqet-result\">\n",
       "      <div class=\"animation\">\n",
       "        <svg class=\"checkmark\" xmlns=\"http://www.w3.org/2000/svg\" viewBox=\"0 0 52 52\">\n",
       "          <circle class=\"checkmark__circle\" cx=\"26\" cy=\"26\" r=\"25\" fill=\"none\"/>\n",
       "          <path class=\"checkmark__check\" fill=\"none\" d=\"M14.1 27.2l7.1 7.2 16.7-16.8\"/>\n",
       "        </svg>\n",
       "      </div>\n",
       "      <div class=\"details\">\n",
       "        <p class=\"title\"><p>Yes! Great problem solving.</p></p>\n",
       "        <p>Score: 1</p>\n",
       "      </div>\n",
       "    </div>\n"
      ],
      "text/plain": [
       "<IPython.core.display.HTML object>"
      ]
     },
     "metadata": {},
     "output_type": "display_data"
    }
   ],
   "source": [
    "with open(\"images/8-5-17.png\", \"rb\") as file:\n",
    "    wqet_grader.grade(\"Project 8 Assessment\", \"Task 8.5.17\", file)"
   ]
  },
  {
   "cell_type": "markdown",
   "id": "0c7f8468-7d27-4861-85a7-97a884508f46",
   "metadata": {
    "deletable": false,
    "editable": false
   },
   "source": [
    "# Model Deployment"
   ]
  },
  {
   "cell_type": "markdown",
   "id": "57cb133e-279f-4043-835f-498470b3123f",
   "metadata": {
    "deletable": false,
    "editable": false
   },
   "source": [
    "**Ungraded Task:** If it's not already running, start your app server.  <span style='color: transparent; font-size:1%'>WQU WorldQuant University Applied Data Science Lab QQQQ</span>"
   ]
  },
  {
   "cell_type": "markdown",
   "id": "932e8b3b-e6e2-4ee9-9364-682ee7c77a31",
   "metadata": {
    "deletable": false,
    "editable": false
   },
   "source": [
    "**Task 8.5.18:** Change the `fit` method of your `GarchModel` class so that, when a model is done training, two more attributes are added to the object: `self.aic` with the AIC for the model, and `self.bic` with the BIC for the model. When you're done, use the cell below to check your work."
   ]
  },
  {
   "cell_type": "markdown",
   "id": "560a44b8-ad93-4334-a472-7930d0686b85",
   "metadata": {
    "deletable": false,
    "editable": false
   },
   "source": [
    "<div class=\"alert alert-info\" role=\"alert\">\n",
    "    <p><b>Tip:</b> How can you access the AIC and BIC scores programmatically? Every <code>ARCHModelResult</code> has an <code>.aic</code> and a <code>.bic</code> attribute.</p>\n",
    "</div>"
   ]
  },
  {
   "cell_type": "code",
   "execution_count": 29,
   "id": "8eb3cb25-74a2-435f-a804-0cf0265f5bb1",
   "metadata": {},
   "outputs": [
    {
     "data": {
      "text/plain": [
       "<property_cached.cached_property at 0x7f58457deb20>"
      ]
     },
     "execution_count": 29,
     "metadata": {},
     "output_type": "execute_result"
    }
   ],
   "source": [
    "model.aic = ARCHModelResult.aic\n",
    "model.aic"
   ]
  },
  {
   "cell_type": "code",
   "execution_count": 30,
   "id": "9d21c4ae-23e0-4e6b-87a6-e3b3feaac022",
   "metadata": {
    "deletable": false
   },
   "outputs": [],
   "source": [
    "# Import `build_model` function\n",
    "from main import build_model\n",
    "\n",
    "# Build model using new `MTNOY` data\n",
    "model = build_model(ticker=\"MTNOY\", use_new_data=False)\n",
    "\n",
    "# Wrangle `MTNOY` returns\n",
    "model.wrangle_data(n_observations=2500)\n",
    "\n",
    "# Fit GARCH(1,1) model to data\n",
    "model.fit(p=1, q=1)\n",
    "\n",
    "# Does model have AIC and BIC attributes?\n",
    "assert hasattr(model, \"aic\")\n",
    "assert hasattr(model, \"bic\")"
   ]
  },
  {
   "cell_type": "code",
   "execution_count": 31,
   "id": "e8ca123c-69eb-4f63-bfea-735954ecf913",
   "metadata": {
    "deletable": false
   },
   "outputs": [
    {
     "data": {
      "text/plain": [
       "{'has_aic': True, 'has_bic': True}"
      ]
     },
     "execution_count": 31,
     "metadata": {},
     "output_type": "execute_result"
    }
   ],
   "source": [
    "# Put test results into dictionary\n",
    "submission_8518 = {\"has_aic\": hasattr(model, \"aic\"), \"has_bic\": hasattr(model, \"bic\")}\n",
    "submission_8518"
   ]
  },
  {
   "cell_type": "code",
   "execution_count": 33,
   "id": "d7a06937-7f76-48d6-a9b1-57307eeab2b0",
   "metadata": {
    "deletable": false,
    "editable": false
   },
   "outputs": [
    {
     "data": {
      "text/html": [
       "\n",
       "    <div class=\"wqet-result\">\n",
       "      <div class=\"animation\">\n",
       "        <svg class=\"checkmark\" xmlns=\"http://www.w3.org/2000/svg\" viewBox=\"0 0 52 52\">\n",
       "          <circle class=\"checkmark__circle\" cx=\"26\" cy=\"26\" r=\"25\" fill=\"none\"/>\n",
       "          <path class=\"checkmark__check\" fill=\"none\" d=\"M14.1 27.2l7.1 7.2 16.7-16.8\"/>\n",
       "        </svg>\n",
       "      </div>\n",
       "      <div class=\"details\">\n",
       "        <p class=\"title\"><p>You're making this look easy. 😉</p></p>\n",
       "        <p>Score: 1</p>\n",
       "      </div>\n",
       "    </div>\n"
      ],
      "text/plain": [
       "<IPython.core.display.HTML object>"
      ]
     },
     "metadata": {},
     "output_type": "display_data"
    }
   ],
   "source": [
    "wqet_grader.grade(\"Project 8 Assessment\", \"Task 8.5.18\", submission_8518)"
   ]
  },
  {
   "cell_type": "markdown",
   "id": "e9d7daf1-57df-42fe-958a-155d30abfd44",
   "metadata": {
    "deletable": false,
    "editable": false
   },
   "source": [
    "**Task 8.5.19:** Change the `fit_model` function in the `main` module so that the `\"message\"` it returns includes the AIC and BIC scores. For example, the message should look something like this:\n",
    "\n",
    "```\n",
    "\"Trained and saved 'models/2022-10-12T23:10:06.577238_MTNOY.pkl'. Metrics: AIC 9892.184665169907, BIC 9914.588275008075.\"\n",
    "```\n",
    "\n",
    "\n",
    "When you're done, use the cell below to check your work."
   ]
  },
  {
   "cell_type": "code",
   "execution_count": 32,
   "id": "9a5d6564-3e0d-410c-93a6-026d5ccf9c03",
   "metadata": {
    "deletable": false
   },
   "outputs": [
    {
     "data": {
      "text/plain": [
       "{'ticker': 'MTNOY',\n",
       " 'use_new_data': False,\n",
       " 'n_observations': 2500,\n",
       " 'p': 1,\n",
       " 'q': 1,\n",
       " 'success': True,\n",
       " 'message': \"Trained and saved 'models/2023-07-24T17:24:00.773484_MTNOY.pkl'. Metrics: AIC 12021.731335009681, BIC 12045.027519053107.\"}"
      ]
     },
     "execution_count": 32,
     "metadata": {},
     "output_type": "execute_result"
    }
   ],
   "source": [
    "# Import `FitIn` class and `fit_model` function\n",
    "from main import FitIn, fit_model\n",
    "\n",
    "# Instantiate `FitIn` object\n",
    "request = FitIn(ticker=\"MTNOY\", use_new_data=False, n_observations=2500, p=1, q=1)\n",
    "\n",
    "# Build model and fit to data, following parameters in `request`\n",
    "fit_out = fit_model(request=request)\n",
    "\n",
    "# Inspect `fit_out`\n",
    "fit_out\n"
   ]
  },
  {
   "cell_type": "code",
   "execution_count": 97,
   "id": "14d1652c-976f-4a9d-8621-ecc22027ea1b",
   "metadata": {
    "deletable": false,
    "editable": false
   },
   "outputs": [
    {
     "data": {
      "text/html": [
       "\n",
       "    <div class=\"wqet-result\">\n",
       "      <div class=\"animation\">\n",
       "        <svg class=\"checkmark\" xmlns=\"http://www.w3.org/2000/svg\" viewBox=\"0 0 52 52\">\n",
       "          <circle class=\"checkmark__circle\" cx=\"26\" cy=\"26\" r=\"25\" fill=\"none\"/>\n",
       "          <path class=\"checkmark__check\" fill=\"none\" d=\"M14.1 27.2l7.1 7.2 16.7-16.8\"/>\n",
       "        </svg>\n",
       "      </div>\n",
       "      <div class=\"details\">\n",
       "        <p class=\"title\"><p>🥳</p></p>\n",
       "        <p>Score: 1</p>\n",
       "      </div>\n",
       "    </div>\n"
      ],
      "text/plain": [
       "<IPython.core.display.HTML object>"
      ]
     },
     "metadata": {},
     "output_type": "display_data"
    }
   ],
   "source": [
    "wqet_grader.grade(\"Project 8 Assessment\", \"Task 8.5.19\", fit_out)"
   ]
  },
  {
   "cell_type": "markdown",
   "id": "564d1013-53c8-4e14-9ccb-637d5f13858f",
   "metadata": {
    "deletable": false,
    "editable": false
   },
   "source": [
    "**Task 8.5.20:** Create a `post` request to hit the `\"/fit\"` path running at `\"http://localhost:8008\"`. You should train a GARCH(1,1) model on 2500 observations of the MTN data you already downloaded. Pass in your parameters as a dictionary using the `json` argument. The grader will evaluate the JSON of your `response`."
   ]
  },
  {
   "cell_type": "code",
   "execution_count": 38,
   "id": "253b5d85-c46e-43c0-a2a9-36ae32ebeede",
   "metadata": {
    "deletable": false
   },
   "outputs": [
    {
     "name": "stdout",
     "output_type": "stream",
     "text": [
      "response type: <class 'requests.models.Response'>\n",
      "response status code: 200\n"
     ]
    }
   ],
   "source": [
    "# URL of `/fit` path\n",
    "url = \"http://localhost:8008/fit\"\n",
    "# Data to send to path\n",
    "json = {\n",
    "    \"ticker\":ticker ,\"use_new_data\":False , \"n_observations\":2500, \"p\":1 , \"q\":1 \n",
    "}\n",
    "# Response of post request\n",
    "response = requests.post(url=url , json=json)\n",
    "\n",
    "print(\"response type:\", type(response))\n",
    "print(\"response status code:\", response.status_code)"
   ]
  },
  {
   "cell_type": "code",
   "execution_count": 39,
   "id": "22d33702-a57b-4c41-8d06-ce8a045932cb",
   "metadata": {
    "deletable": false
   },
   "outputs": [
    {
     "data": {
      "text/plain": [
       "{'ticker': 'MTNOY',\n",
       " 'use_new_data': False,\n",
       " 'n_observations': 2500,\n",
       " 'p': 1,\n",
       " 'q': 1,\n",
       " 'success': True,\n",
       " 'message': \"Trained and saved 'models/2023-07-24T18:27:12.465219_MTNOY.pkl'. Metrics: AIC 12021.731335009681, BIC 12045.027519053107.\"}"
      ]
     },
     "execution_count": 39,
     "metadata": {},
     "output_type": "execute_result"
    }
   ],
   "source": [
    "submission_8520 = response.json()\n",
    "submission_8520"
   ]
  },
  {
   "cell_type": "code",
   "execution_count": 40,
   "id": "3bcb5f49-dc56-49d4-abc7-97e29a7ad58b",
   "metadata": {
    "deletable": false,
    "editable": false
   },
   "outputs": [
    {
     "data": {
      "text/html": [
       "\n",
       "    <div class=\"wqet-result\">\n",
       "      <div class=\"animation\">\n",
       "        <svg class=\"checkmark\" xmlns=\"http://www.w3.org/2000/svg\" viewBox=\"0 0 52 52\">\n",
       "          <circle class=\"checkmark__circle\" cx=\"26\" cy=\"26\" r=\"25\" fill=\"none\"/>\n",
       "          <path class=\"checkmark__check\" fill=\"none\" d=\"M14.1 27.2l7.1 7.2 16.7-16.8\"/>\n",
       "        </svg>\n",
       "      </div>\n",
       "      <div class=\"details\">\n",
       "        <p class=\"title\"><p>You = coding 🥷</p></p>\n",
       "        <p>Score: 1</p>\n",
       "      </div>\n",
       "    </div>\n"
      ],
      "text/plain": [
       "<IPython.core.display.HTML object>"
      ]
     },
     "metadata": {},
     "output_type": "display_data"
    }
   ],
   "source": [
    "wqet_grader.grade(\"Project 8 Assessment\", \"Task 8.5.20\", submission_8520)"
   ]
  },
  {
   "cell_type": "markdown",
   "id": "e4ae0ba2-f654-4cf8-9fc5-021810a2c638",
   "metadata": {
    "deletable": false,
    "editable": false
   },
   "source": [
    "**Task 8.5.21:** Create a `post` request to hit the `\"/predict\"` path running at `\"http://localhost:8008\"`. You should get the 5-day volatility forecast for MTN. When you're satisfied, submit your work to the grader."
   ]
  },
  {
   "cell_type": "code",
   "execution_count": 47,
   "id": "9b85f251-5bc3-44c9-b07e-715ffeae8d30",
   "metadata": {
    "deletable": false
   },
   "outputs": [
    {
     "name": "stdout",
     "output_type": "stream",
     "text": [
      "response type: <class 'requests.models.Response'>\n",
      "response status code: 200\n"
     ]
    }
   ],
   "source": [
    "# URL of `/predict` path\n",
    "url = \"http://localhost:8008/predict\"\n",
    "# Data to send to path\n",
    "json = {\n",
    "    \"ticker\":ticker ,\"n_days\":5 \n",
    "}\n",
    "# Response of post request\n",
    "response = requests.post(url=url , json=json)\n",
    "\n",
    "print(\"response type:\", type(response))\n",
    "print(\"response status code:\", response.status_code)"
   ]
  },
  {
   "cell_type": "code",
   "execution_count": 48,
   "id": "d2808c6b-4607-40c9-8674-0b04e4bf3f93",
   "metadata": {
    "deletable": false
   },
   "outputs": [
    {
     "data": {
      "text/plain": [
       "{'ticker': 'MTNOY',\n",
       " 'n_days': 5,\n",
       " 'success': False,\n",
       " 'forecast': {},\n",
       " 'message': \"build_model() missing 1 required positional argument: 'use_new_data'\"}"
      ]
     },
     "execution_count": 48,
     "metadata": {},
     "output_type": "execute_result"
    }
   ],
   "source": [
    "submission_8521 = response.json()\n",
    "submission_8521"
   ]
  },
  {
   "cell_type": "code",
   "execution_count": 49,
   "id": "e4713ff4-7e12-4328-962e-c8688819c54a",
   "metadata": {
    "deletable": false,
    "editable": false
   },
   "outputs": [
    {
     "data": {
      "text/html": [
       "\n",
       "    <div class=\"wqet-result\">\n",
       "      <div class=\"animation\">\n",
       "        <svg class=\"checkmark\" xmlns=\"http://www.w3.org/2000/svg\" viewBox=\"0 0 52 52\">\n",
       "          <circle class=\"checkmark__circle\" cx=\"26\" cy=\"26\" r=\"25\" fill=\"none\"/>\n",
       "          <path class=\"checkmark__check\" fill=\"none\" d=\"M14.1 27.2l7.1 7.2 16.7-16.8\"/>\n",
       "        </svg>\n",
       "      </div>\n",
       "      <div class=\"details\">\n",
       "        <p class=\"title\"><p>Awesome work.</p></p>\n",
       "        <p>Score: 1</p>\n",
       "      </div>\n",
       "    </div>\n"
      ],
      "text/plain": [
       "<IPython.core.display.HTML object>"
      ]
     },
     "metadata": {},
     "output_type": "display_data"
    }
   ],
   "source": [
    "wqet_grader.grade(\"Project 8 Assessment\", \"Task 8.5.21\", submission_8521)"
   ]
  },
  {
   "cell_type": "markdown",
   "id": "792f0ecb",
   "metadata": {
    "deletable": false,
    "editable": false
   },
   "source": [
    "---\n",
    "Copyright 2022 WorldQuant University. This\n",
    "content is licensed solely for personal use. Redistribution or\n",
    "publication of this material is strictly prohibited.\n"
   ]
  }
 ],
 "metadata": {
  "kernelspec": {
   "display_name": "Python 3 (ipykernel)",
   "language": "python",
   "name": "python3"
  },
  "language_info": {
   "codemirror_mode": {
    "name": "ipython",
    "version": 3
   },
   "file_extension": ".py",
   "mimetype": "text/x-python",
   "name": "python",
   "nbconvert_exporter": "python",
   "pygments_lexer": "ipython3",
   "version": "3.9.6"
  }
 },
 "nbformat": 4,
 "nbformat_minor": 5
}

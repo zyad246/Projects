{
 "cells": 
  {
   "cell_type": "markdown",
   "id": "7254908d",
   "metadata": {
    "deletable": false,
    "editable": false
   },
   "source": [
    "\n",
    "<div class=\"alert alert-info\" role=\"alert\">\n",
    "  <p>\n",
    "    <b>Usage Guidelines</b>\n",
    "  </p>\n",
    "\n",
    "  <p>\n",
    "    This lesson is part of the <b>DS Lab core curriculum</b>. For that reason, this notebook can only be used on your WQU virtual machine.\n",
    "  </p>\n",
    "\n",
    "  <p>\n",
    "    This means:\n",
    "    <ul>\n",
    "      <li><span style=\"color: red\">ⓧ</span> No downloading this notebook.</li>\n",
    "      <li><span style=\"color: red\">ⓧ</span> No re-sharing of this notebook with friends or colleagues.</li>\n",
    "      <li><span style=\"color: red\">ⓧ</span> No downloading the embedded videos in this notebook.</li>\n",
    "      <li><span style=\"color: red\">ⓧ</span> No re-sharing embedded videos with friends or colleagues.</li>\n",
    "      <li><span style=\"color: red\">ⓧ</span> No adding this notebook to public or private repositories.</li>\n",
    "      <li><span style=\"color: red\">ⓧ</span> No uploading this notebook (or screenshots of it) to other websites, including websites for study resources.</li>\n",
    "    </ul>\n",
    "\n",
    "  </p>\n",
    "</div>\n"
   ]
  },
  {
   "cell_type": "markdown",
   "id": "7adfb2a2-f887-41a8-8003-6744801b7780",
   "metadata": {
    "deletable": false,
    "editable": false
   },
   "source": [
    "<font size=\"+3\"><strong>4.5. Earthquake Damage in Kavrepalanchok 🇳🇵</strong></font>"
   ]
  },
  {
   "cell_type": "markdown",
   "id": "bc60813d-d919-4f33-9e5c-8a5f5655d25f",
   "metadata": {
    "deletable": false,
    "editable": false
   },
   "source": [
    "In this assignment, you'll build a classification model to predict building damage for the district of [Kavrepalanchok](https://en.wikipedia.org/wiki/Kavrepalanchok_District)."
   ]
  },
  {
   "cell_type": "code",
   "execution_count": 2,
   "id": "be0ad308-a8a9-4931-a803-14e479b5f015",
   "metadata": {
    "deletable": false,
    "editable": false,
    "init_cell": true
   },
   "outputs": [
    {
     "data": {
      "text/html": [
       "\n",
       "<style>\n",
       "  \n",
       "  .checkmark {\n",
       "    width: 56px;\n",
       "    height: 56px;\n",
       "    border-radius: 50%;\n",
       "    display: block;\n",
       "    stroke-width: 2;\n",
       "    stroke: #fff;\n",
       "    stroke-miterlimit: 10;\n",
       "    box-shadow: inset 0px 0px 0px #7ac142;\n",
       "    animation: fill .4s ease-in-out .4s forwards, scale .3s ease-in-out .9s both;\n",
       "  }\n",
       "  \n",
       "  .checkmark__circle {\n",
       "    stroke-dasharray: 166;\n",
       "    stroke-dashoffset: 166;\n",
       "    stroke-width: 2;\n",
       "    stroke-miterlimit: 10;\n",
       "    stroke: #7ac142;\n",
       "    fill: none;\n",
       "    animation: stroke .6s cubic-bezier(0.650, 0.000, 0.450, 1.000) forwards;\n",
       "  }\n",
       "  \n",
       "  .checkmark__check {\n",
       "    transform-origin: 50% 50%;\n",
       "    stroke-dasharray: 48;\n",
       "    stroke-dashoffset: 48;\n",
       "    animation: stroke .3s cubic-bezier(0.650, 0.000, 0.450, 1.000) .8s forwards;\n",
       "  }\n",
       "  \n",
       "  .failmark {\n",
       "    width: 56px;\n",
       "    height: 56px;\n",
       "    border-radius: 50%;\n",
       "    display: block;\n",
       "    stroke-width: 2;\n",
       "    stroke: #fff;\n",
       "    stroke-miterlimit: 10;\n",
       "    box-shadow: inset 0px 0px 0px #F34811;\n",
       "    animation: failfill .4s ease-in-out .4s forwards, scale .3s ease-in-out .9s both;\n",
       "  }\n",
       "  \n",
       "  .failmark__circle {\n",
       "    stroke-dasharray: 166;\n",
       "    stroke-dashoffset: 166;\n",
       "    stroke-width: 2;\n",
       "    stroke-miterlimit: 10;\n",
       "    stroke: #F34811;\n",
       "    fill: none;\n",
       "    animation: stroke .6s cubic-bezier(0.650, 0.000, 0.450, 1.000) forwards;\n",
       "  }\n",
       "  \n",
       "  @keyframes stroke {\n",
       "    100% {\n",
       "      stroke-dashoffset: 0;\n",
       "    }\n",
       "  }\n",
       "  \n",
       "  @keyframes scale {\n",
       "    0%, 100% {\n",
       "      transform: none;\n",
       "    }\n",
       "    50% {\n",
       "      transform: scale3d(1.1, 1.1, 1);\n",
       "    }\n",
       "  }\n",
       "  \n",
       "  @keyframes fill {\n",
       "    100% {\n",
       "      box-shadow: inset 0px 0px 0px 30px #7ac142;\n",
       "    }\n",
       "  }\n",
       "  \n",
       "  @keyframes failfill {\n",
       "    100% {\n",
       "      box-shadow: inset 0px 0px 0px 30px #F34811;\n",
       "    }\n",
       "  }\n",
       "  \n",
       "  \n",
       "  .wqet-result {\n",
       "    width: 450px;\n",
       "    clear: both;\n",
       "  }\n",
       "  \n",
       "  .wqet-result .animation {\n",
       "    float: left;\n",
       "    width: 100px;\n",
       "  }\n",
       "  \n",
       "  .wqet-result .animation .checkmark,\n",
       "  .wqet-result .animation .failmark {\n",
       "    margin: 20px auto 20px auto;\n",
       "  }\n",
       "  \n",
       "  .wqet-result .details {\n",
       "    float: right;\n",
       "    width: 349px;\n",
       "    padding: 28px 0;\n",
       "  }\n",
       "  \n",
       "  .wqet-result .details .title {\n",
       "    font-weight: bold;\n",
       "    font-size: 110%;\n",
       "  }\n",
       "  .wqet-result .details p {\n",
       "    margin: 0;\n",
       "  }\n",
       "</style>\n"
      ],
      "text/plain": [
       "<IPython.core.display.HTML object>"
      ]
     },
     "metadata": {},
     "output_type": "display_data"
    }
   ],
   "source": [
    "import warnings\n",
    "\n",
    "import wqet_grader\n",
    "\n",
    "warnings.simplefilter(action=\"ignore\", category=FutureWarning)\n",
    "wqet_grader.init(\"Project 4 Assessment\")"
   ]
  },
  {
   "cell_type": "code",
   "execution_count": 3,
   "id": "2ef8eaa3-d1c0-42f7-87f9-ace7e1a4f712",
   "metadata": {
    "deletable": false
   },
   "outputs": [],
   "source": [
    "# Import libraries here\n",
    "import sqlite3\n",
    "import pandas as pd\n",
    "import seaborn as sns\n",
    "import matplotlib.pyplot as plt\n",
    "import numpy as np\n",
    "from category_encoders import OneHotEncoder\n",
    "from sklearn.metrics import accuracy_score\n",
    "from sklearn.model_selection import train_test_split\n",
    "from sklearn.pipeline import Pipeline, make_pipeline\n",
    "from sklearn.linear_model import LogisticRegression\n",
    "from category_encoders import OrdinalEncoder\n",
    "from sklearn.tree import DecisionTreeClassifier, plot_tree"
   ]
  },
  {
   "cell_type": "markdown",
   "id": "0cec9bac-5fb3-4ad8-9ed3-d6d754160640",
   "metadata": {
    "deletable": false,
    "editable": false
   },
   "source": [
    "# Prepare Data"
   ]
  },
  {
   "cell_type": "markdown",
   "id": "bda33c00-118e-4000-92b8-536e4a4108d5",
   "metadata": {
    "deletable": false,
    "editable": false
   },
   "source": [
    "## Connect"
   ]
  },
  {
   "cell_type": "markdown",
   "id": "b8503125-3767-4385-b22c-b9b12cf048a7",
   "metadata": {
    "deletable": false,
    "editable": false
   },
   "source": [
    "Run the cell below to connect to the `nepal.sqlite` database.<span style='color: transparent; font-size:1%'>WQU WorldQuant University Applied Data Science Lab QQQQ</span>"
   ]
  },
  {
   "cell_type": "code",
   "execution_count": 4,
   "id": "b4f41e25-9e0f-4736-ae75-ab8e51bffcfb",
   "metadata": {
    "deletable": false
   },
   "outputs": [
    {
     "data": {
      "text/plain": [
       "'Connected: @/home/jovyan/nepal.sqlite'"
      ]
     },
     "execution_count": 4,
     "metadata": {},
     "output_type": "execute_result"
    }
   ],
   "source": [
    "%load_ext sql\n",
    "%sql sqlite:////home/jovyan/nepal.sqlite"
   ]
  },
  {
   "cell_type": "markdown",
   "id": "72de701a-ead5-48c3-9c40-9e548d5cb634",
   "metadata": {
    "deletable": false,
    "editable": false
   },
   "source": [
    "<div class=\"alert alert-block alert-warning\">\n",
    "<b>Warning:</b>Be careful with your SQL queries in this assignment. If you try to get all the rows from a table (for example, <code>SELECT * FROM id_map</code>), you will cause an Out of Memory error on your virtual machine. So always include a <code>LIMIT</code> when first exploring a database.\n",
    "</div>"
   ]
  },
  {
   "cell_type": "markdown",
   "id": "fef7dca8-4955-43b0-b78d-d839702ab257",
   "metadata": {
    "deletable": false,
    "editable": false
   },
   "source": [
    "**Task 4.5.1:** What districts are represented in the `id_map` table? Determine the unique values in the **`district_id`** column."
   ]
  },
  {
   "cell_type": "code",
   "execution_count": 5,
   "id": "e0fe1e67-0bf7-4955-83a8-c355a73c231d",
   "metadata": {
    "deletable": false
   },
   "outputs": [
    {
     "name": "stdout",
     "output_type": "stream",
     "text": [
      " * sqlite:////home/jovyan/nepal.sqlite\n",
      "Done.\n"
     ]
    },
    {
     "data": {
      "text/html": [
       "<table>\n",
       "    <thead>\n",
       "        <tr>\n",
       "            <th>district_id</th>\n",
       "        </tr>\n",
       "    </thead>\n",
       "    <tbody>\n",
       "        <tr>\n",
       "            <td>1</td>\n",
       "        </tr>\n",
       "        <tr>\n",
       "            <td>2</td>\n",
       "        </tr>\n",
       "        <tr>\n",
       "            <td>3</td>\n",
       "        </tr>\n",
       "        <tr>\n",
       "            <td>4</td>\n",
       "        </tr>\n",
       "    </tbody>\n",
       "</table>"
      ],
      "text/plain": [
       "[(1,), (2,), (3,), (4,)]"
      ]
     },
     "execution_count": 5,
     "metadata": {},
     "output_type": "execute_result"
    }
   ],
   "source": [
    "%%sql\n",
    "SELECT distinct(district_id)\n",
    "FROM id_map"
   ]
  },
  {
   "cell_type": "code",
   "execution_count": 6,
   "id": "4a39553a-1b27-46c1-9eaf-a7abea645b81",
   "metadata": {
    "deletable": false,
    "editable": false
   },
   "outputs": [
    {
     "data": {
      "text/html": [
       "\n",
       "    <div class=\"wqet-result\">\n",
       "      <div class=\"animation\">\n",
       "        <svg class=\"checkmark\" xmlns=\"http://www.w3.org/2000/svg\" viewBox=\"0 0 52 52\">\n",
       "          <circle class=\"checkmark__circle\" cx=\"26\" cy=\"26\" r=\"25\" fill=\"none\"/>\n",
       "          <path class=\"checkmark__check\" fill=\"none\" d=\"M14.1 27.2l7.1 7.2 16.7-16.8\"/>\n",
       "        </svg>\n",
       "      </div>\n",
       "      <div class=\"details\">\n",
       "        <p class=\"title\"><p>Wow, you're making great progress.</p></p>\n",
       "        <p>Score: 1</p>\n",
       "      </div>\n",
       "    </div>\n"
      ],
      "text/plain": [
       "<IPython.core.display.HTML object>"
      ]
     },
     "metadata": {},
     "output_type": "display_data"
    }
   ],
   "source": [
    "result = _.DataFrame().squeeze()  # noqa F821\n",
    "\n",
    "wqet_grader.grade(\"Project 4 Assessment\", \"Task 4.5.1\", result)"
   ]
  },
  {
   "cell_type": "markdown",
   "id": "e5e29983-87b0-4f09-b2e6-ebad6cc5d87f",
   "metadata": {
    "deletable": false,
    "editable": false
   },
   "source": [
    "What's the district ID for Kavrepalanchok? From the lessons, you already know that Gorkha is `4`; from the textbook, you know that Ramechhap is `2`. Of the remaining districts, Kavrepalanchok is the one with the largest number of observations in the `id_map` table."
   ]
  },
  {
   "cell_type": "markdown",
   "id": "8bfad7c2-f8c8-40d7-aed9-592af00d468f",
   "metadata": {
    "deletable": false,
    "editable": false
   },
   "source": [
    "**Task 4.5.2:** Calculate the number of observations in the `id_map` table associated with district `1`."
   ]
  },
  {
   "cell_type": "code",
   "execution_count": 7,
   "id": "f69563d2-ed56-42ce-9bbb-bca91fb83245",
   "metadata": {
    "deletable": false
   },
   "outputs": [
    {
     "name": "stdout",
     "output_type": "stream",
     "text": [
      " * sqlite:////home/jovyan/nepal.sqlite\n",
      "Done.\n"
     ]
    },
    {
     "data": {
      "text/html": [
       "<table>\n",
       "    <thead>\n",
       "        <tr>\n",
       "            <th>count(*)</th>\n",
       "        </tr>\n",
       "    </thead>\n",
       "    <tbody>\n",
       "        <tr>\n",
       "            <td>36112</td>\n",
       "        </tr>\n",
       "    </tbody>\n",
       "</table>"
      ],
      "text/plain": [
       "[(36112,)]"
      ]
     },
     "execution_count": 7,
     "metadata": {},
     "output_type": "execute_result"
    }
   ],
   "source": [
    "%%sql\n",
    "\n",
    "SELECT count(*)\n",
    "FROM id_map\n",
    "WHERE district_id = 1"
   ]
  },
  {
   "cell_type": "code",
   "execution_count": 9,
   "id": "69bb36f0-e4ac-418a-a07e-b3e03418ac97",
   "metadata": {
    "deletable": false,
    "editable": false
   },
   "outputs": [
    {
     "data": {
      "text/html": [
       "\n",
       "    <div class=\"wqet-result\">\n",
       "      <div class=\"animation\">\n",
       "        <svg class=\"checkmark\" xmlns=\"http://www.w3.org/2000/svg\" viewBox=\"0 0 52 52\">\n",
       "          <circle class=\"checkmark__circle\" cx=\"26\" cy=\"26\" r=\"25\" fill=\"none\"/>\n",
       "          <path class=\"checkmark__check\" fill=\"none\" d=\"M14.1 27.2l7.1 7.2 16.7-16.8\"/>\n",
       "        </svg>\n",
       "      </div>\n",
       "      <div class=\"details\">\n",
       "        <p class=\"title\"><p>You = coding 🥷</p></p>\n",
       "        <p>Score: 1</p>\n",
       "      </div>\n",
       "    </div>\n"
      ],
      "text/plain": [
       "<IPython.core.display.HTML object>"
      ]
     },
     "metadata": {},
     "output_type": "display_data"
    }
   ],
   "source": [
    "result = [_.DataFrame().astype(float).squeeze()]  # noqa F821\n",
    "wqet_grader.grade(\"Project 4 Assessment\", \"Task 4.5.2\", result)"
   ]
  },
  {
   "cell_type": "markdown",
   "id": "a2d265c6-ebf5-4cd1-b414-6dbc58a62119",
   "metadata": {
    "deletable": false,
    "editable": false
   },
   "source": [
    "**Task 4.5.3:** Calculate the number of observations in the `id_map` table associated with district `3`."
   ]
  },
  {
   "cell_type": "code",
   "execution_count": 10,
   "id": "ed88fe76-9572-4bc3-b8d0-f9bdff06d1b8",
   "metadata": {
    "deletable": false
   },
   "outputs": [
    {
     "name": "stdout",
     "output_type": "stream",
     "text": [
      " * sqlite:////home/jovyan/nepal.sqlite\n",
      "Done.\n"
     ]
    },
    {
     "data": {
      "text/html": [
       "<table>\n",
       "    <thead>\n",
       "        <tr>\n",
       "            <th>count(*)</th>\n",
       "        </tr>\n",
       "    </thead>\n",
       "    <tbody>\n",
       "        <tr>\n",
       "            <td>82684</td>\n",
       "        </tr>\n",
       "    </tbody>\n",
       "</table>"
      ],
      "text/plain": [
       "[(82684,)]"
      ]
     },
     "execution_count": 10,
     "metadata": {},
     "output_type": "execute_result"
    }
   ],
   "source": [
    "%%sql\n",
    "\n",
    "SELECT count(*)\n",
    "FROM id_map\n",
    "WHERE district_id = 3"
   ]
  },
  {
   "cell_type": "code",
   "execution_count": 11,
   "id": "648ad240-de2a-473a-8a7b-77949a8b3b2c",
   "metadata": {
    "deletable": false,
    "editable": false
   },
   "outputs": [
    {
     "data": {
      "text/html": [
       "\n",
       "    <div class=\"wqet-result\">\n",
       "      <div class=\"animation\">\n",
       "        <svg class=\"checkmark\" xmlns=\"http://www.w3.org/2000/svg\" viewBox=\"0 0 52 52\">\n",
       "          <circle class=\"checkmark__circle\" cx=\"26\" cy=\"26\" r=\"25\" fill=\"none\"/>\n",
       "          <path class=\"checkmark__check\" fill=\"none\" d=\"M14.1 27.2l7.1 7.2 16.7-16.8\"/>\n",
       "        </svg>\n",
       "      </div>\n",
       "      <div class=\"details\">\n",
       "        <p class=\"title\"><p>Excellent work.</p></p>\n",
       "        <p>Score: 1</p>\n",
       "      </div>\n",
       "    </div>\n"
      ],
      "text/plain": [
       "<IPython.core.display.HTML object>"
      ]
     },
     "metadata": {},
     "output_type": "display_data"
    }
   ],
   "source": [
    "result = [_.DataFrame().astype(float).squeeze()]  # noqa F821\n",
    "wqet_grader.grade(\"Project 4 Assessment\", \"Task 4.5.3\", result)"
   ]
  },
  {
   "cell_type": "markdown",
   "id": "712062bd-117a-4b18-857b-435b61a6913f",
   "metadata": {
    "deletable": false,
    "editable": false
   },
   "source": [
    "**Task 4.5.4:** Join the unique building IDs from Kavrepalanchok in `id_map`, all the columns from  `building_structure`, and the **`damage_grade`** column from `building_damage`, limiting. Make sure you rename the **`building_id`** column in `id_map` as **`b_id`** and limit your results to the first five rows of the new table."
   ]
  },
  {
   "cell_type": "code",
   "execution_count": 12,
   "id": "4f19b935-07ec-4e13-a780-5aae82f8dfb3",
   "metadata": {
    "deletable": false
   },
   "outputs": [
    {
     "name": "stdout",
     "output_type": "stream",
     "text": [
      " * sqlite:////home/jovyan/nepal.sqlite\n",
      "Done.\n"
     ]
    },
    {
     "data": {
      "text/html": [
       "<table>\n",
       "    <thead>\n",
       "        <tr>\n",
       "            <th>b_id</th>\n",
       "            <th>building_id</th>\n",
       "            <th>count_floors_pre_eq</th>\n",
       "            <th>count_floors_post_eq</th>\n",
       "            <th>age_building</th>\n",
       "            <th>plinth_area_sq_ft</th>\n",
       "            <th>height_ft_pre_eq</th>\n",
       "            <th>height_ft_post_eq</th>\n",
       "            <th>land_surface_condition</th>\n",
       "            <th>foundation_type</th>\n",
       "            <th>roof_type</th>\n",
       "            <th>ground_floor_type</th>\n",
       "            <th>other_floor_type</th>\n",
       "            <th>position</th>\n",
       "            <th>plan_configuration</th>\n",
       "            <th>condition_post_eq</th>\n",
       "            <th>superstructure</th>\n",
       "            <th>damage_grade</th>\n",
       "        </tr>\n",
       "    </thead>\n",
       "    <tbody>\n",
       "        <tr>\n",
       "            <td>87473</td>\n",
       "            <td>87473</td>\n",
       "            <td>2</td>\n",
       "            <td>1</td>\n",
       "            <td>15</td>\n",
       "            <td>382</td>\n",
       "            <td>18</td>\n",
       "            <td>7</td>\n",
       "            <td>Flat</td>\n",
       "            <td>Mud mortar-Stone/Brick</td>\n",
       "            <td>Bamboo/Timber-Light roof</td>\n",
       "            <td>Mud</td>\n",
       "            <td>TImber/Bamboo-Mud</td>\n",
       "            <td>Not attached</td>\n",
       "            <td>Rectangular</td>\n",
       "            <td>Damaged-Used in risk</td>\n",
       "            <td>Stone, mud mortar</td>\n",
       "            <td>Grade 4</td>\n",
       "        </tr>\n",
       "        <tr>\n",
       "            <td>87479</td>\n",
       "            <td>87479</td>\n",
       "            <td>1</td>\n",
       "            <td>0</td>\n",
       "            <td>12</td>\n",
       "            <td>328</td>\n",
       "            <td>7</td>\n",
       "            <td>0</td>\n",
       "            <td>Flat</td>\n",
       "            <td>Mud mortar-Stone/Brick</td>\n",
       "            <td>Bamboo/Timber-Light roof</td>\n",
       "            <td>Mud</td>\n",
       "            <td>Not applicable</td>\n",
       "            <td>Not attached</td>\n",
       "            <td>Rectangular</td>\n",
       "            <td>Damaged-Rubble clear</td>\n",
       "            <td>Stone, mud mortar</td>\n",
       "            <td>Grade 5</td>\n",
       "        </tr>\n",
       "        <tr>\n",
       "            <td>87482</td>\n",
       "            <td>87482</td>\n",
       "            <td>2</td>\n",
       "            <td>1</td>\n",
       "            <td>23</td>\n",
       "            <td>427</td>\n",
       "            <td>20</td>\n",
       "            <td>7</td>\n",
       "            <td>Flat</td>\n",
       "            <td>Mud mortar-Stone/Brick</td>\n",
       "            <td>Bamboo/Timber-Light roof</td>\n",
       "            <td>Mud</td>\n",
       "            <td>TImber/Bamboo-Mud</td>\n",
       "            <td>Not attached</td>\n",
       "            <td>Rectangular</td>\n",
       "            <td>Damaged-Not used</td>\n",
       "            <td>Stone, mud mortar</td>\n",
       "            <td>Grade 4</td>\n",
       "        </tr>\n",
       "        <tr>\n",
       "            <td>87491</td>\n",
       "            <td>87491</td>\n",
       "            <td>2</td>\n",
       "            <td>1</td>\n",
       "            <td>12</td>\n",
       "            <td>427</td>\n",
       "            <td>14</td>\n",
       "            <td>7</td>\n",
       "            <td>Flat</td>\n",
       "            <td>Mud mortar-Stone/Brick</td>\n",
       "            <td>Bamboo/Timber-Light roof</td>\n",
       "            <td>Mud</td>\n",
       "            <td>TImber/Bamboo-Mud</td>\n",
       "            <td>Not attached</td>\n",
       "            <td>Rectangular</td>\n",
       "            <td>Damaged-Not used</td>\n",
       "            <td>Stone, mud mortar</td>\n",
       "            <td>Grade 4</td>\n",
       "        </tr>\n",
       "        <tr>\n",
       "            <td>87496</td>\n",
       "            <td>87496</td>\n",
       "            <td>2</td>\n",
       "            <td>0</td>\n",
       "            <td>32</td>\n",
       "            <td>360</td>\n",
       "            <td>18</td>\n",
       "            <td>0</td>\n",
       "            <td>Flat</td>\n",
       "            <td>Mud mortar-Stone/Brick</td>\n",
       "            <td>Bamboo/Timber-Light roof</td>\n",
       "            <td>Mud</td>\n",
       "            <td>TImber/Bamboo-Mud</td>\n",
       "            <td>Not attached</td>\n",
       "            <td>Rectangular</td>\n",
       "            <td>Damaged-Rubble clear</td>\n",
       "            <td>Stone, mud mortar</td>\n",
       "            <td>Grade 5</td>\n",
       "        </tr>\n",
       "    </tbody>\n",
       "</table>"
      ],
      "text/plain": [
       "[(87473, 87473, 2, 1, 15, 382, 18, 7, 'Flat', 'Mud mortar-Stone/Brick', 'Bamboo/Timber-Light roof', 'Mud', 'TImber/Bamboo-Mud', 'Not attached', 'Rectangular', 'Damaged-Used in risk', 'Stone, mud mortar', 'Grade 4'),\n",
       " (87479, 87479, 1, 0, 12, 328, 7, 0, 'Flat', 'Mud mortar-Stone/Brick', 'Bamboo/Timber-Light roof', 'Mud', 'Not applicable', 'Not attached', 'Rectangular', 'Damaged-Rubble clear', 'Stone, mud mortar', 'Grade 5'),\n",
       " (87482, 87482, 2, 1, 23, 427, 20, 7, 'Flat', 'Mud mortar-Stone/Brick', 'Bamboo/Timber-Light roof', 'Mud', 'TImber/Bamboo-Mud', 'Not attached', 'Rectangular', 'Damaged-Not used', 'Stone, mud mortar', 'Grade 4'),\n",
       " (87491, 87491, 2, 1, 12, 427, 14, 7, 'Flat', 'Mud mortar-Stone/Brick', 'Bamboo/Timber-Light roof', 'Mud', 'TImber/Bamboo-Mud', 'Not attached', 'Rectangular', 'Damaged-Not used', 'Stone, mud mortar', 'Grade 4'),\n",
       " (87496, 87496, 2, 0, 32, 360, 18, 0, 'Flat', 'Mud mortar-Stone/Brick', 'Bamboo/Timber-Light roof', 'Mud', 'TImber/Bamboo-Mud', 'Not attached', 'Rectangular', 'Damaged-Rubble clear', 'Stone, mud mortar', 'Grade 5')]"
      ]
     },
     "execution_count": 12,
     "metadata": {},
     "output_type": "execute_result"
    }
   ],
   "source": [
    "%%sql\n",
    "SELECT distinct(i.building_id) AS b_id,\n",
    "          s.*,\n",
    "          d.damage_grade\n",
    "FROM id_map AS i\n",
    "JOIN building_structure AS s ON i.building_id = s.building_id\n",
    "JOIN building_damage AS d ON i.building_id = d.building_id\n",
    "WHERE district_id = 3\n",
    "LIMIT 5"
   ]
  },
  {
   "cell_type": "code",
   "execution_count": 13,
   "id": "18cfa95f-02ba-4ec7-8357-0eaca8756862",
   "metadata": {
    "deletable": false,
    "editable": false
   },
   "outputs": [
    {
     "data": {
      "text/html": [
       "\n",
       "    <div class=\"wqet-result\">\n",
       "      <div class=\"animation\">\n",
       "        <svg class=\"checkmark\" xmlns=\"http://www.w3.org/2000/svg\" viewBox=\"0 0 52 52\">\n",
       "          <circle class=\"checkmark__circle\" cx=\"26\" cy=\"26\" r=\"25\" fill=\"none\"/>\n",
       "          <path class=\"checkmark__check\" fill=\"none\" d=\"M14.1 27.2l7.1 7.2 16.7-16.8\"/>\n",
       "        </svg>\n",
       "      </div>\n",
       "      <div class=\"details\">\n",
       "        <p class=\"title\"><p>Way to go!</p></p>\n",
       "        <p>Score: 1</p>\n",
       "      </div>\n",
       "    </div>\n"
      ],
      "text/plain": [
       "<IPython.core.display.HTML object>"
      ]
     },
     "metadata": {},
     "output_type": "display_data"
    }
   ],
   "source": [
    "result = _.DataFrame().set_index(\"b_id\")  # noqa F821\n",
    "\n",
    "wqet_grader.grade(\"Project 4 Assessment\", \"Task 4.5.4\", result)"
   ]
  },
  {
   "cell_type": "markdown",
   "id": "fa6700bb-fcf9-417f-92cd-83805a049873",
   "metadata": {
    "deletable": false,
    "editable": false
   },
   "source": [
    "## Import"
   ]
  },
  {
   "cell_type": "markdown",
   "id": "38989cd1-b725-4c23-b734-789f9f5315b9",
   "metadata": {
    "deletable": false,
    "editable": false
   },
   "source": [
    "**Task 4.5.5:** Write a `wrangle` function that will use the query you created in the previous task to create a DataFrame. In addition your function should:\n",
    "\n",
    "1. Create a `\"severe_damage\"` column, where all buildings with a damage grade greater than `3` should be encoded as `1`. All other buildings should be encoded at `0`. \n",
    "2. Drop any columns that could cause issues with leakage or multicollinearity in your model."
   ]
  },
  {
   "cell_type": "code",
   "execution_count": 14,
   "id": "20fd1370-8034-4f96-a525-cc5c8153ca0e",
   "metadata": {
    "deletable": false
   },
   "outputs": [],
   "source": [
    "# Build your `wrangle` function here\n",
    "def wrangle(db_path):\n",
    "# Connect to database\n",
    "     conn = sqlite3.connect(db_path)\n",
    "# Construct query\n",
    "     query = \"\"\"\n",
    "        SELECT distinct(i.building_id) AS b_id,\n",
    "        s.*,\n",
    "        d.damage_grade\n",
    "        FROM id_map AS i\n",
    "        JOIN building_structure AS s ON i.building_id = s.building_id\n",
    "        JOIN building_damage AS d ON i.building_id = d.building_id\n",
    "        WHERE district_id = 3\n",
    "        \"\"\"\n",
    "# Read query results into DataFrame\n",
    "     df = pd.read_sql(query, conn, index_col=\"b_id\")\n",
    "# identify leaky columns\n",
    "     drop_cols = [col for col in df.columns if \"post_eq\" in col]\n",
    "# Create binary target\n",
    "     df[\"damage_grade\"] = df[\"damage_grade\"].str[-1].astype(int)\n",
    "     df[\"severe_damage\"] = (df[\"damage_grade\"] > 3).astype(int)\n",
    "#drop old target\n",
    "     drop_cols.append(\"damage_grade\")\n",
    "#Drop Multicolinearity Column\n",
    "     drop_cols.append(\"count_floors_pre_eq\")\n",
    "# Drop High Cardinality Categorical Column\n",
    "     drop_cols.append(\"building_id\")\n",
    "\n",
    "# drop cols\n",
    "     df.drop(columns=drop_cols, inplace=True)\n",
    "     return df"
   ]
  },
  {
   "cell_type": "markdown",
   "id": "5d450d82-bccf-4734-8529-6e71abfc9d76",
   "metadata": {
    "deletable": false,
    "editable": false
   },
   "source": [
    "Use your `wrangle` function to query the database at `\"/home/jovyan/nepal.sqlite\"` and return  your cleaned results."
   ]
  },
  {
   "cell_type": "code",
   "execution_count": 15,
   "id": "c07f1e9c-3037-4cf7-b282-f3cad3985761",
   "metadata": {
    "deletable": false
   },
   "outputs": [
    {
     "data": {
      "text/html": [
       "<div>\n",
       "<style scoped>\n",
       "    .dataframe tbody tr th:only-of-type {\n",
       "        vertical-align: middle;\n",
       "    }\n",
       "\n",
       "    .dataframe tbody tr th {\n",
       "        vertical-align: top;\n",
       "    }\n",
       "\n",
       "    .dataframe thead th {\n",
       "        text-align: right;\n",
       "    }\n",
       "</style>\n",
       "<table border=\"1\" class=\"dataframe\">\n",
       "  <thead>\n",
       "    <tr style=\"text-align: right;\">\n",
       "      <th></th>\n",
       "      <th>age_building</th>\n",
       "      <th>plinth_area_sq_ft</th>\n",
       "      <th>height_ft_pre_eq</th>\n",
       "      <th>land_surface_condition</th>\n",
       "      <th>foundation_type</th>\n",
       "      <th>roof_type</th>\n",
       "      <th>ground_floor_type</th>\n",
       "      <th>other_floor_type</th>\n",
       "      <th>position</th>\n",
       "      <th>plan_configuration</th>\n",
       "      <th>superstructure</th>\n",
       "      <th>severe_damage</th>\n",
       "    </tr>\n",
       "    <tr>\n",
       "      <th>b_id</th>\n",
       "      <th></th>\n",
       "      <th></th>\n",
       "      <th></th>\n",
       "      <th></th>\n",
       "      <th></th>\n",
       "      <th></th>\n",
       "      <th></th>\n",
       "      <th></th>\n",
       "      <th></th>\n",
       "      <th></th>\n",
       "      <th></th>\n",
       "      <th></th>\n",
       "    </tr>\n",
       "  </thead>\n",
       "  <tbody>\n",
       "    <tr>\n",
       "      <th>87473</th>\n",
       "      <td>15</td>\n",
       "      <td>382</td>\n",
       "      <td>18</td>\n",
       "      <td>Flat</td>\n",
       "      <td>Mud mortar-Stone/Brick</td>\n",
       "      <td>Bamboo/Timber-Light roof</td>\n",
       "      <td>Mud</td>\n",
       "      <td>TImber/Bamboo-Mud</td>\n",
       "      <td>Not attached</td>\n",
       "      <td>Rectangular</td>\n",
       "      <td>Stone, mud mortar</td>\n",
       "      <td>1</td>\n",
       "    </tr>\n",
       "    <tr>\n",
       "      <th>87479</th>\n",
       "      <td>12</td>\n",
       "      <td>328</td>\n",
       "      <td>7</td>\n",
       "      <td>Flat</td>\n",
       "      <td>Mud mortar-Stone/Brick</td>\n",
       "      <td>Bamboo/Timber-Light roof</td>\n",
       "      <td>Mud</td>\n",
       "      <td>Not applicable</td>\n",
       "      <td>Not attached</td>\n",
       "      <td>Rectangular</td>\n",
       "      <td>Stone, mud mortar</td>\n",
       "      <td>1</td>\n",
       "    </tr>\n",
       "    <tr>\n",
       "      <th>87482</th>\n",
       "      <td>23</td>\n",
       "      <td>427</td>\n",
       "      <td>20</td>\n",
       "      <td>Flat</td>\n",
       "      <td>Mud mortar-Stone/Brick</td>\n",
       "      <td>Bamboo/Timber-Light roof</td>\n",
       "      <td>Mud</td>\n",
       "      <td>TImber/Bamboo-Mud</td>\n",
       "      <td>Not attached</td>\n",
       "      <td>Rectangular</td>\n",
       "      <td>Stone, mud mortar</td>\n",
       "      <td>1</td>\n",
       "    </tr>\n",
       "    <tr>\n",
       "      <th>87491</th>\n",
       "      <td>12</td>\n",
       "      <td>427</td>\n",
       "      <td>14</td>\n",
       "      <td>Flat</td>\n",
       "      <td>Mud mortar-Stone/Brick</td>\n",
       "      <td>Bamboo/Timber-Light roof</td>\n",
       "      <td>Mud</td>\n",
       "      <td>TImber/Bamboo-Mud</td>\n",
       "      <td>Not attached</td>\n",
       "      <td>Rectangular</td>\n",
       "      <td>Stone, mud mortar</td>\n",
       "      <td>1</td>\n",
       "    </tr>\n",
       "    <tr>\n",
       "      <th>87496</th>\n",
       "      <td>32</td>\n",
       "      <td>360</td>\n",
       "      <td>18</td>\n",
       "      <td>Flat</td>\n",
       "      <td>Mud mortar-Stone/Brick</td>\n",
       "      <td>Bamboo/Timber-Light roof</td>\n",
       "      <td>Mud</td>\n",
       "      <td>TImber/Bamboo-Mud</td>\n",
       "      <td>Not attached</td>\n",
       "      <td>Rectangular</td>\n",
       "      <td>Stone, mud mortar</td>\n",
       "      <td>1</td>\n",
       "    </tr>\n",
       "  </tbody>\n",
       "</table>\n",
       "</div>"
      ],
      "text/plain": [
       "       age_building  plinth_area_sq_ft  height_ft_pre_eq  \\\n",
       "b_id                                                       \n",
       "87473            15                382                18   \n",
       "87479            12                328                 7   \n",
       "87482            23                427                20   \n",
       "87491            12                427                14   \n",
       "87496            32                360                18   \n",
       "\n",
       "      land_surface_condition         foundation_type  \\\n",
       "b_id                                                   \n",
       "87473                   Flat  Mud mortar-Stone/Brick   \n",
       "87479                   Flat  Mud mortar-Stone/Brick   \n",
       "87482                   Flat  Mud mortar-Stone/Brick   \n",
       "87491                   Flat  Mud mortar-Stone/Brick   \n",
       "87496                   Flat  Mud mortar-Stone/Brick   \n",
       "\n",
       "                      roof_type ground_floor_type   other_floor_type  \\\n",
       "b_id                                                                   \n",
       "87473  Bamboo/Timber-Light roof               Mud  TImber/Bamboo-Mud   \n",
       "87479  Bamboo/Timber-Light roof               Mud     Not applicable   \n",
       "87482  Bamboo/Timber-Light roof               Mud  TImber/Bamboo-Mud   \n",
       "87491  Bamboo/Timber-Light roof               Mud  TImber/Bamboo-Mud   \n",
       "87496  Bamboo/Timber-Light roof               Mud  TImber/Bamboo-Mud   \n",
       "\n",
       "           position plan_configuration     superstructure  severe_damage  \n",
       "b_id                                                                      \n",
       "87473  Not attached        Rectangular  Stone, mud mortar              1  \n",
       "87479  Not attached        Rectangular  Stone, mud mortar              1  \n",
       "87482  Not attached        Rectangular  Stone, mud mortar              1  \n",
       "87491  Not attached        Rectangular  Stone, mud mortar              1  \n",
       "87496  Not attached        Rectangular  Stone, mud mortar              1  "
      ]
     },
     "execution_count": 15,
     "metadata": {},
     "output_type": "execute_result"
    }
   ],
   "source": [
    "df = wrangle(\"/home/jovyan/nepal.sqlite\")\n",
    "df.head()"
   ]
  },
  {
   "cell_type": "code",
   "execution_count": 16,
   "id": "04b020ce-e371-47cf-8432-d2a3b979bc27",
   "metadata": {
    "deletable": false,
    "editable": false
   },
   "outputs": [
    {
     "data": {
      "text/html": [
       "\n",
       "    <div class=\"wqet-result\">\n",
       "      <div class=\"animation\">\n",
       "        <svg class=\"checkmark\" xmlns=\"http://www.w3.org/2000/svg\" viewBox=\"0 0 52 52\">\n",
       "          <circle class=\"checkmark__circle\" cx=\"26\" cy=\"26\" r=\"25\" fill=\"none\"/>\n",
       "          <path class=\"checkmark__check\" fill=\"none\" d=\"M14.1 27.2l7.1 7.2 16.7-16.8\"/>\n",
       "        </svg>\n",
       "      </div>\n",
       "      <div class=\"details\">\n",
       "        <p class=\"title\"><p>Python master 😁</p></p>\n",
       "        <p>Score: 1</p>\n",
       "      </div>\n",
       "    </div>\n"
      ],
      "text/plain": [
       "<IPython.core.display.HTML object>"
      ]
     },
     "metadata": {},
     "output_type": "display_data"
    }
   ],
   "source": [
    "\n",
    "wqet_grader.grade(\n",
    "    \"Project 4 Assessment\", \"Task 4.5.5\", wrangle(\"/home/jovyan/nepal.sqlite\")\n",
    ")"
   ]
  },
  {
   "cell_type": "markdown",
   "id": "65aa9771-74b9-4bdf-b7c4-65ae0aa40ba7",
   "metadata": {
    "deletable": false,
    "editable": false
   },
   "source": [
    "## Explore"
   ]
  },
  {
   "cell_type": "markdown",
   "id": "dffc3d6d-46ed-4929-952e-5bc79cd32db9",
   "metadata": {
    "deletable": false,
    "editable": false
   },
   "source": [
    "**Task 4.5.6:** Are the classes in this dataset balanced? Create a bar chart with the normalized value counts from the `\"severe_damage\"` column. Be sure to label the x-axis `\"Severe Damage\"` and the y-axis `\"Relative Frequency\"`. Use the title `\"Kavrepalanchok, Class Balance\"`."
   ]
  },
  {
   "cell_type": "code",
   "execution_count": 17,
   "id": "f2b8ee83-1a0d-4362-b1a2-c7882128c50b",
   "metadata": {
    "deletable": false
   },
   "outputs": [
    {
     "data": {
      "image/png": "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\n",
      "text/plain": [
       "<Figure size 432x288 with 1 Axes>"
      ]
     },
     "metadata": {
      "needs_background": "light"
     },
     "output_type": "display_data"
    }
   ],
   "source": [
    "# Plot value counts of `\"severe_damage\"`\n",
    "df[\"severe_damage\"].value_counts(normalize = True).plot(\n",
    "kind=\"bar\", xlabel=\"Severe Damage\", ylabel=\"Relative Frequency\",title=\"Kavrepalanchok, Class Balance\");\n",
    "# Don't delete the code below ￿\n",
    "plt.savefig(\"images/4-5-6.png\", dpi=150)\n"
   ]
  },
  {
   "cell_type": "code",
   "execution_count": 19,
   "id": "88d2853b-2d94-4c67-9a0e-f2c97cbfeaac",
   "metadata": {
    "deletable": false,
    "editable": false
   },
   "outputs": [
    {
     "data": {
      "text/html": [
       "\n",
       "    <div class=\"wqet-result\">\n",
       "      <div class=\"animation\">\n",
       "        <svg class=\"checkmark\" xmlns=\"http://www.w3.org/2000/svg\" viewBox=\"0 0 52 52\">\n",
       "          <circle class=\"checkmark__circle\" cx=\"26\" cy=\"26\" r=\"25\" fill=\"none\"/>\n",
       "          <path class=\"checkmark__check\" fill=\"none\" d=\"M14.1 27.2l7.1 7.2 16.7-16.8\"/>\n",
       "        </svg>\n",
       "      </div>\n",
       "      <div class=\"details\">\n",
       "        <p class=\"title\"><p>You = coding 🥷</p></p>\n",
       "        <p>Score: 1</p>\n",
       "      </div>\n",
       "    </div>\n"
      ],
      "text/plain": [
       "<IPython.core.display.HTML object>"
      ]
     },
     "metadata": {},
     "output_type": "display_data"
    }
   ],
   "source": [
    "with open(\"images/4-5-6.png\", \"rb\") as file:\n",
    "    wqet_grader.grade(\"Project 4 Assessment\", \"Task 4.5.6\", file)"
   ]
  },
  {
   "cell_type": "markdown",
   "id": "da85d06c-1071-473f-84df-9c030f2e3df8",
   "metadata": {
    "deletable": false,
    "editable": false
   },
   "source": [
    "**Task 4.5.7:** Is there a relationship between the footprint size of a building and the damage it sustained in the earthquake? Use seaborn to create a boxplot that shows the distributions of the `\"plinth_area_sq_ft\"` column for both groups in the `\"severe_damage\"` column. Label your x-axis `\"Severe Damage\"` and y-axis `\"Plinth Area [sq. ft.]\"`. Use the title `\"Kavrepalanchok, Plinth Area vs Building Damage\"`. "
   ]
  },
  {
   "cell_type": "code",
   "execution_count": 20,
   "id": "5442fab6-d0ee-4b03-82d8-d4b13b1d7f0a",
   "metadata": {
    "deletable": false
   },
   "outputs": [
    {
     "data": {
      "image/png": "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\n",
      "text/plain": [
       "<Figure size 432x288 with 1 Axes>"
      ]
     },
     "metadata": {
      "needs_background": "light"
     },
     "output_type": "display_data"
    }
   ],
   "source": [
    "# Create boxplot\n",
    "sns.boxplot(x=\"severe_damage\", y=\"plinth_area_sq_ft\", data=df)\n",
    "# Label axes\n",
    "plt.xlabel(\"Severe Damage\")\n",
    "plt.ylabel(\"Plinth Area [sq. ft.]\")\n",
    "plt.title(\"Kavrepalanchok, Plinth Area vs Building Damage\");\n",
    "# Don't delete the code below ￿\n",
    "plt.savefig(\"images/4-5-7.png\", dpi=150)"
   ]
  },
  {
   "cell_type": "code",
   "execution_count": 21,
   "id": "ca7dd423-e94e-44b8-9197-730bbc051307",
   "metadata": {
    "deletable": false,
    "editable": false
   },
   "outputs": [
    {
     "data": {
      "text/html": [
       "\n",
       "    <div class=\"wqet-result\">\n",
       "      <div class=\"animation\">\n",
       "        <svg class=\"checkmark\" xmlns=\"http://www.w3.org/2000/svg\" viewBox=\"0 0 52 52\">\n",
       "          <circle class=\"checkmark__circle\" cx=\"26\" cy=\"26\" r=\"25\" fill=\"none\"/>\n",
       "          <path class=\"checkmark__check\" fill=\"none\" d=\"M14.1 27.2l7.1 7.2 16.7-16.8\"/>\n",
       "        </svg>\n",
       "      </div>\n",
       "      <div class=\"details\">\n",
       "        <p class=\"title\"><p>Wow, you're making great progress.</p></p>\n",
       "        <p>Score: 1</p>\n",
       "      </div>\n",
       "    </div>\n"
      ],
      "text/plain": [
       "<IPython.core.display.HTML object>"
      ]
     },
     "metadata": {},
     "output_type": "display_data"
    }
   ],
   "source": [
    "with open(\"images/4-5-7.png\", \"rb\") as file:\n",
    "    wqet_grader.grade(\"Project 4 Assessment\", \"Task 4.5.7\", file)"
   ]
  },
  {
   "cell_type": "markdown",
   "id": "06724b29-fd2e-47fa-b528-a8de78b2572a",
   "metadata": {
    "deletable": false,
    "editable": false
   },
   "source": [
    "**Task 4.5.8:** Are buildings with certain roof types more likely to suffer severe damage? Create a pivot table of `df` where the index is `\"roof_type\"` and the values come from the `\"severe_damage\"` column, aggregated by the mean."
   ]
  },
  {
   "cell_type": "code",
   "execution_count": 22,
   "id": "d67cf52d-e656-4c22-a81e-deeef1d069bc",
   "metadata": {
    "deletable": false
   },
   "outputs": [
    {
     "data": {
      "text/html": [
       "<div>\n",
       "<style scoped>\n",
       "    .dataframe tbody tr th:only-of-type {\n",
       "        vertical-align: middle;\n",
       "    }\n",
       "\n",
       "    .dataframe tbody tr th {\n",
       "        vertical-align: top;\n",
       "    }\n",
       "\n",
       "    .dataframe thead th {\n",
       "        text-align: right;\n",
       "    }\n",
       "</style>\n",
       "<table border=\"1\" class=\"dataframe\">\n",
       "  <thead>\n",
       "    <tr style=\"text-align: right;\">\n",
       "      <th></th>\n",
       "      <th>severe_damage</th>\n",
       "    </tr>\n",
       "    <tr>\n",
       "      <th>roof_type</th>\n",
       "      <th></th>\n",
       "    </tr>\n",
       "  </thead>\n",
       "  <tbody>\n",
       "    <tr>\n",
       "      <th>RCC/RB/RBC</th>\n",
       "      <td>0.040715</td>\n",
       "    </tr>\n",
       "    <tr>\n",
       "      <th>Bamboo/Timber-Heavy roof</th>\n",
       "      <td>0.569477</td>\n",
       "    </tr>\n",
       "    <tr>\n",
       "      <th>Bamboo/Timber-Light roof</th>\n",
       "      <td>0.604842</td>\n",
       "    </tr>\n",
       "  </tbody>\n",
       "</table>\n",
       "</div>"
      ],
      "text/plain": [
       "                          severe_damage\n",
       "roof_type                              \n",
       "RCC/RB/RBC                     0.040715\n",
       "Bamboo/Timber-Heavy roof       0.569477\n",
       "Bamboo/Timber-Light roof       0.604842"
      ]
     },
     "execution_count": 22,
     "metadata": {},
     "output_type": "execute_result"
    }
   ],
   "source": [
    "roof_pivot = pd.pivot_table(\n",
    "df, index=\"roof_type\",values=\"severe_damage\",aggfunc=np.mean\n",
    ").sort_values(by=\"severe_damage\")\n",
    "roof_pivot"
   ]
  },
  {
   "cell_type": "code",
   "execution_count": 23,
   "id": "ff95de69-c34e-4cf8-9cd9-5c0efa3e20f9",
   "metadata": {
    "deletable": false,
    "editable": false
   },
   "outputs": [
    {
     "data": {
      "text/html": [
       "\n",
       "    <div class=\"wqet-result\">\n",
       "      <div class=\"animation\">\n",
       "        <svg class=\"checkmark\" xmlns=\"http://www.w3.org/2000/svg\" viewBox=\"0 0 52 52\">\n",
       "          <circle class=\"checkmark__circle\" cx=\"26\" cy=\"26\" r=\"25\" fill=\"none\"/>\n",
       "          <path class=\"checkmark__check\" fill=\"none\" d=\"M14.1 27.2l7.1 7.2 16.7-16.8\"/>\n",
       "        </svg>\n",
       "      </div>\n",
       "      <div class=\"details\">\n",
       "        <p class=\"title\"><p>Excellent work.</p></p>\n",
       "        <p>Score: 1</p>\n",
       "      </div>\n",
       "    </div>\n"
      ],
      "text/plain": [
       "<IPython.core.display.HTML object>"
      ]
     },
     "metadata": {},
     "output_type": "display_data"
    }
   ],
   "source": [
    "\n",
    "wqet_grader.grade(\"Project 4 Assessment\", \"Task 4.5.8\", roof_pivot)"
   ]
  },
  {
   "cell_type": "markdown",
   "id": "02c31a37-40d4-4898-81f3-68f08ce8cc2a",
   "metadata": {
    "deletable": false,
    "editable": false
   },
   "source": [
    "## Split"
   ]
  },
  {
   "cell_type": "markdown",
   "id": "2fc525f3-5043-4630-ab7d-2d69594b0b32",
   "metadata": {
    "deletable": false,
    "editable": false
   },
   "source": [
    "**Task 4.5.9:** Create your feature matrix `X` and target vector `y`. Your target is `\"severe_damage\"`. "
   ]
  },
  {
   "cell_type": "code",
   "execution_count": 24,
   "id": "dd434d37-3528-4929-b3cf-3a40518fdbe2",
   "metadata": {
    "deletable": false
   },
   "outputs": [
    {
     "name": "stdout",
     "output_type": "stream",
     "text": [
      "X shape: (76533, 11)\n",
      "y shape: (76533,)\n"
     ]
    }
   ],
   "source": [
    "\n",
    "target = \"severe_damage\"\n",
    "X = df.drop(columns=target)\n",
    "y = df[target]\n",
    "print(\"X shape:\", X.shape)\n",
    "print(\"y shape:\", y.shape)"
   ]
  },
  {
   "cell_type": "code",
   "execution_count": 25,
   "id": "6c5fb67c-33aa-4dae-b1f7-ca329692fbeb",
   "metadata": {
    "deletable": false,
    "editable": false
   },
   "outputs": [
    {
     "data": {
      "text/html": [
       "\n",
       "    <div class=\"wqet-result\">\n",
       "      <div class=\"animation\">\n",
       "        <svg class=\"checkmark\" xmlns=\"http://www.w3.org/2000/svg\" viewBox=\"0 0 52 52\">\n",
       "          <circle class=\"checkmark__circle\" cx=\"26\" cy=\"26\" r=\"25\" fill=\"none\"/>\n",
       "          <path class=\"checkmark__check\" fill=\"none\" d=\"M14.1 27.2l7.1 7.2 16.7-16.8\"/>\n",
       "        </svg>\n",
       "      </div>\n",
       "      <div class=\"details\">\n",
       "        <p class=\"title\"><p>Yes! Great problem solving.</p></p>\n",
       "        <p>Score: 1</p>\n",
       "      </div>\n",
       "    </div>\n"
      ],
      "text/plain": [
       "<IPython.core.display.HTML object>"
      ]
     },
     "metadata": {},
     "output_type": "display_data"
    }
   ],
   "source": [
    "\n",
    "wqet_grader.grade(\"Project 4 Assessment\", \"Task 4.5.9a\", X)"
   ]
  },
  {
   "cell_type": "code",
   "execution_count": 27,
   "id": "f19f6a26-17e6-4278-8fcb-8bd7368c8966",
   "metadata": {
    "deletable": false,
    "editable": false
   },
   "outputs": [
    {
     "data": {
      "text/html": [
       "\n",
       "    <div class=\"wqet-result\">\n",
       "      <div class=\"animation\">\n",
       "        <svg class=\"checkmark\" xmlns=\"http://www.w3.org/2000/svg\" viewBox=\"0 0 52 52\">\n",
       "          <circle class=\"checkmark__circle\" cx=\"26\" cy=\"26\" r=\"25\" fill=\"none\"/>\n",
       "          <path class=\"checkmark__check\" fill=\"none\" d=\"M14.1 27.2l7.1 7.2 16.7-16.8\"/>\n",
       "        </svg>\n",
       "      </div>\n",
       "      <div class=\"details\">\n",
       "        <p class=\"title\"><p>🥳</p></p>\n",
       "        <p>Score: 1</p>\n",
       "      </div>\n",
       "    </div>\n"
      ],
      "text/plain": [
       "<IPython.core.display.HTML object>"
      ]
     },
     "metadata": {},
     "output_type": "display_data"
    }
   ],
   "source": [
    "\n",
    "wqet_grader.grade(\"Project 4 Assessment\", \"Task 4.5.9b\", y)"
   ]
  },
  {
   "cell_type": "markdown",
   "id": "60c087c2-6337-417f-aaaa-b204e9a33fbc",
   "metadata": {
    "deletable": false,
    "editable": false
   },
   "source": [
    "**Task 4.5.10:** Divide your dataset into training and validation sets using a randomized split. Your validation set should be 20% of your data."
   ]
  },
  {
   "cell_type": "code",
   "execution_count": 28,
   "id": "dce122c9-97a9-40ff-bb09-2c8d28f1f6f5",
   "metadata": {
    "deletable": false
   },
   "outputs": [
    {
     "name": "stdout",
     "output_type": "stream",
     "text": [
      "X_train shape: (61226, 11)\n",
      "y_train shape: (61226,)\n",
      "X_val shape: (15307, 11)\n",
      "y_val shape: (15307,)\n"
     ]
    }
   ],
   "source": [
    "X_train, X_val, y_train, y_val = train_test_split(\n",
    "X,y, test_size = 0.2, random_state = 42\n",
    ")\n",
    "print(\"X_train shape:\", X_train.shape)\n",
    "print(\"y_train shape:\", y_train.shape)\n",
    "print(\"X_val shape:\", X_val.shape)\n",
    "print(\"y_val shape:\", y_val.shape)"
   ]
  },
  {
   "cell_type": "code",
   "execution_count": 29,
   "id": "cdb3d627-6b2e-4f13-bf63-99e0c43420d4",
   "metadata": {
    "deletable": false,
    "editable": false
   },
   "outputs": [
    {
     "data": {
      "text/html": [
       "\n",
       "    <div class=\"wqet-result\">\n",
       "      <div class=\"animation\">\n",
       "        <svg class=\"checkmark\" xmlns=\"http://www.w3.org/2000/svg\" viewBox=\"0 0 52 52\">\n",
       "          <circle class=\"checkmark__circle\" cx=\"26\" cy=\"26\" r=\"25\" fill=\"none\"/>\n",
       "          <path class=\"checkmark__check\" fill=\"none\" d=\"M14.1 27.2l7.1 7.2 16.7-16.8\"/>\n",
       "        </svg>\n",
       "      </div>\n",
       "      <div class=\"details\">\n",
       "        <p class=\"title\"><p>Yup. You got it.</p></p>\n",
       "        <p>Score: 1</p>\n",
       "      </div>\n",
       "    </div>\n"
      ],
      "text/plain": [
       "<IPython.core.display.HTML object>"
      ]
     },
     "metadata": {},
     "output_type": "display_data"
    }
   ],
   "source": [
    "wqet_grader.grade(\"Project 4 Assessment\", \"Task 4.5.10\", [X_train.shape == (61226, 11)])"
   ]
  },
  {
   "cell_type": "markdown",
   "id": "bf76ec92-7473-4a25-ac72-a1ced1fd213a",
   "metadata": {
    "deletable": false,
    "editable": false
   },
   "source": [
    "# Build Model"
   ]
  },
  {
   "cell_type": "markdown",
   "id": "59e1e4d3-3ff9-41f7-8a38-35d622517486",
   "metadata": {
    "deletable": false,
    "editable": false
   },
   "source": [
    "## Baseline"
   ]
  },
  {
   "cell_type": "markdown",
   "id": "64ba0679-9abb-4a40-85b2-cdeb94481f72",
   "metadata": {
    "deletable": false,
    "editable": false
   },
   "source": [
    "**Task 4.5.11:** Calculate the baseline accuracy score for your model."
   ]
  },
  {
   "cell_type": "code",
   "execution_count": 30,
   "id": "c9ecd21e-06c2-4917-8ed4-228a1004cd9c",
   "metadata": {
    "deletable": false
   },
   "outputs": [
    {
     "name": "stdout",
     "output_type": "stream",
     "text": [
      "Baseline Accuracy: 0.55\n"
     ]
    }
   ],
   "source": [
    "acc_baseline = y_train.value_counts(normalize = True).max()\n",
    "print(\"Baseline Accuracy:\", round(acc_baseline, 2))"
   ]
  },
  {
   "cell_type": "code",
   "execution_count": 31,
   "id": "07759c53-33ff-4b4d-9890-09abc7664d44",
   "metadata": {
    "deletable": false,
    "editable": false
   },
   "outputs": [
    {
     "data": {
      "text/html": [
       "\n",
       "    <div class=\"wqet-result\">\n",
       "      <div class=\"animation\">\n",
       "        <svg class=\"checkmark\" xmlns=\"http://www.w3.org/2000/svg\" viewBox=\"0 0 52 52\">\n",
       "          <circle class=\"checkmark__circle\" cx=\"26\" cy=\"26\" r=\"25\" fill=\"none\"/>\n",
       "          <path class=\"checkmark__check\" fill=\"none\" d=\"M14.1 27.2l7.1 7.2 16.7-16.8\"/>\n",
       "        </svg>\n",
       "      </div>\n",
       "      <div class=\"details\">\n",
       "        <p class=\"title\"><p>Excellent work.</p></p>\n",
       "        <p>Score: 1</p>\n",
       "      </div>\n",
       "    </div>\n"
      ],
      "text/plain": [
       "<IPython.core.display.HTML object>"
      ]
     },
     "metadata": {},
     "output_type": "display_data"
    }
   ],
   "source": [
    "wqet_grader.grade(\"Project 4 Assessment\", \"Task 4.5.11\", [acc_baseline])"
   ]
  },
  {
   "cell_type": "markdown",
   "id": "417d5536-9aa5-45f7-99db-946a792d5978",
   "metadata": {
    "deletable": false,
    "editable": false,
    "tags": []
   },
   "source": [
    "## Iterate"
   ]
  },
  {
   "cell_type": "markdown",
   "id": "1028a961-792a-4ab5-b2cf-c2a7531a6099",
   "metadata": {
    "deletable": false,
    "editable": false
   },
   "source": [
    "**Task 4.5.12:** Create a model `model_lr` that uses logistic regression to predict building damage. Be sure to include an appropriate encoder for categorical features. "
   ]
  },
  {
   "cell_type": "code",
   "execution_count": 32,
   "id": "71ddc9e5-2c17-418e-ad3b-2eecf5ed7c1b",
   "metadata": {
    "deletable": false
   },
   "outputs": [
    {
     "data": {
      "text/html": [
       "<style>#sk-container-id-1 {color: black;background-color: white;}#sk-container-id-1 pre{padding: 0;}#sk-container-id-1 div.sk-toggleable {background-color: white;}#sk-container-id-1 label.sk-toggleable__label {cursor: pointer;display: block;width: 100%;margin-bottom: 0;padding: 0.3em;box-sizing: border-box;text-align: center;}#sk-container-id-1 label.sk-toggleable__label-arrow:before {content: \"▸\";float: left;margin-right: 0.25em;color: #696969;}#sk-container-id-1 label.sk-toggleable__label-arrow:hover:before {color: black;}#sk-container-id-1 div.sk-estimator:hover label.sk-toggleable__label-arrow:before {color: black;}#sk-container-id-1 div.sk-toggleable__content {max-height: 0;max-width: 0;overflow: hidden;text-align: left;background-color: #f0f8ff;}#sk-container-id-1 div.sk-toggleable__content pre {margin: 0.2em;color: black;border-radius: 0.25em;background-color: #f0f8ff;}#sk-container-id-1 input.sk-toggleable__control:checked~div.sk-toggleable__content {max-height: 200px;max-width: 100%;overflow: auto;}#sk-container-id-1 input.sk-toggleable__control:checked~label.sk-toggleable__label-arrow:before {content: \"▾\";}#sk-container-id-1 div.sk-estimator input.sk-toggleable__control:checked~label.sk-toggleable__label {background-color: #d4ebff;}#sk-container-id-1 div.sk-label input.sk-toggleable__control:checked~label.sk-toggleable__label {background-color: #d4ebff;}#sk-container-id-1 input.sk-hidden--visually {border: 0;clip: rect(1px 1px 1px 1px);clip: rect(1px, 1px, 1px, 1px);height: 1px;margin: -1px;overflow: hidden;padding: 0;position: absolute;width: 1px;}#sk-container-id-1 div.sk-estimator {font-family: monospace;background-color: #f0f8ff;border: 1px dotted black;border-radius: 0.25em;box-sizing: border-box;margin-bottom: 0.5em;}#sk-container-id-1 div.sk-estimator:hover {background-color: #d4ebff;}#sk-container-id-1 div.sk-parallel-item::after {content: \"\";width: 100%;border-bottom: 1px solid gray;flex-grow: 1;}#sk-container-id-1 div.sk-label:hover label.sk-toggleable__label {background-color: #d4ebff;}#sk-container-id-1 div.sk-serial::before {content: \"\";position: absolute;border-left: 1px solid gray;box-sizing: border-box;top: 0;bottom: 0;left: 50%;z-index: 0;}#sk-container-id-1 div.sk-serial {display: flex;flex-direction: column;align-items: center;background-color: white;padding-right: 0.2em;padding-left: 0.2em;position: relative;}#sk-container-id-1 div.sk-item {position: relative;z-index: 1;}#sk-container-id-1 div.sk-parallel {display: flex;align-items: stretch;justify-content: center;background-color: white;position: relative;}#sk-container-id-1 div.sk-item::before, #sk-container-id-1 div.sk-parallel-item::before {content: \"\";position: absolute;border-left: 1px solid gray;box-sizing: border-box;top: 0;bottom: 0;left: 50%;z-index: -1;}#sk-container-id-1 div.sk-parallel-item {display: flex;flex-direction: column;z-index: 1;position: relative;background-color: white;}#sk-container-id-1 div.sk-parallel-item:first-child::after {align-self: flex-end;width: 50%;}#sk-container-id-1 div.sk-parallel-item:last-child::after {align-self: flex-start;width: 50%;}#sk-container-id-1 div.sk-parallel-item:only-child::after {width: 0;}#sk-container-id-1 div.sk-dashed-wrapped {border: 1px dashed gray;margin: 0 0.4em 0.5em 0.4em;box-sizing: border-box;padding-bottom: 0.4em;background-color: white;}#sk-container-id-1 div.sk-label label {font-family: monospace;font-weight: bold;display: inline-block;line-height: 1.2em;}#sk-container-id-1 div.sk-label-container {text-align: center;}#sk-container-id-1 div.sk-container {/* jupyter's `normalize.less` sets `[hidden] { display: none; }` but bootstrap.min.css set `[hidden] { display: none !important; }` so we also need the `!important` here to be able to override the default hidden behavior on the sphinx rendered scikit-learn.org. See: https://github.com/scikit-learn/scikit-learn/issues/21755 */display: inline-block !important;position: relative;}#sk-container-id-1 div.sk-text-repr-fallback {display: none;}</style><div id=\"sk-container-id-1\" class=\"sk-top-container\"><div class=\"sk-text-repr-fallback\"><pre>Pipeline(steps=[(&#x27;onehotencoder&#x27;,\n",
       "                 OneHotEncoder(cols=[&#x27;land_surface_condition&#x27;,\n",
       "                                     &#x27;foundation_type&#x27;, &#x27;roof_type&#x27;,\n",
       "                                     &#x27;ground_floor_type&#x27;, &#x27;other_floor_type&#x27;,\n",
       "                                     &#x27;position&#x27;, &#x27;plan_configuration&#x27;,\n",
       "                                     &#x27;superstructure&#x27;],\n",
       "                               use_cat_names=True)),\n",
       "                (&#x27;logisticregression&#x27;, LogisticRegression(max_iter=3000))])</pre><b>In a Jupyter environment, please rerun this cell to show the HTML representation or trust the notebook. <br />On GitHub, the HTML representation is unable to render, please try loading this page with nbviewer.org.</b></div><div class=\"sk-container\" hidden><div class=\"sk-item sk-dashed-wrapped\"><div class=\"sk-label-container\"><div class=\"sk-label sk-toggleable\"><input class=\"sk-toggleable__control sk-hidden--visually\" id=\"sk-estimator-id-1\" type=\"checkbox\" ><label for=\"sk-estimator-id-1\" class=\"sk-toggleable__label sk-toggleable__label-arrow\">Pipeline</label><div class=\"sk-toggleable__content\"><pre>Pipeline(steps=[(&#x27;onehotencoder&#x27;,\n",
       "                 OneHotEncoder(cols=[&#x27;land_surface_condition&#x27;,\n",
       "                                     &#x27;foundation_type&#x27;, &#x27;roof_type&#x27;,\n",
       "                                     &#x27;ground_floor_type&#x27;, &#x27;other_floor_type&#x27;,\n",
       "                                     &#x27;position&#x27;, &#x27;plan_configuration&#x27;,\n",
       "                                     &#x27;superstructure&#x27;],\n",
       "                               use_cat_names=True)),\n",
       "                (&#x27;logisticregression&#x27;, LogisticRegression(max_iter=3000))])</pre></div></div></div><div class=\"sk-serial\"><div class=\"sk-item\"><div class=\"sk-estimator sk-toggleable\"><input class=\"sk-toggleable__control sk-hidden--visually\" id=\"sk-estimator-id-2\" type=\"checkbox\" ><label for=\"sk-estimator-id-2\" class=\"sk-toggleable__label sk-toggleable__label-arrow\">OneHotEncoder</label><div class=\"sk-toggleable__content\"><pre>OneHotEncoder(cols=[&#x27;land_surface_condition&#x27;, &#x27;foundation_type&#x27;, &#x27;roof_type&#x27;,\n",
       "                    &#x27;ground_floor_type&#x27;, &#x27;other_floor_type&#x27;, &#x27;position&#x27;,\n",
       "                    &#x27;plan_configuration&#x27;, &#x27;superstructure&#x27;],\n",
       "              use_cat_names=True)</pre></div></div></div><div class=\"sk-item\"><div class=\"sk-estimator sk-toggleable\"><input class=\"sk-toggleable__control sk-hidden--visually\" id=\"sk-estimator-id-3\" type=\"checkbox\" ><label for=\"sk-estimator-id-3\" class=\"sk-toggleable__label sk-toggleable__label-arrow\">LogisticRegression</label><div class=\"sk-toggleable__content\"><pre>LogisticRegression(max_iter=3000)</pre></div></div></div></div></div></div></div>"
      ],
      "text/plain": [
       "Pipeline(steps=[('onehotencoder',\n",
       "                 OneHotEncoder(cols=['land_surface_condition',\n",
       "                                     'foundation_type', 'roof_type',\n",
       "                                     'ground_floor_type', 'other_floor_type',\n",
       "                                     'position', 'plan_configuration',\n",
       "                                     'superstructure'],\n",
       "                               use_cat_names=True)),\n",
       "                ('logisticregression', LogisticRegression(max_iter=3000))])"
      ]
     },
     "execution_count": 32,
     "metadata": {},
     "output_type": "execute_result"
    }
   ],
   "source": [
    "model_lr = make_pipeline(\n",
    "OneHotEncoder(use_cat_names=True),\n",
    "LogisticRegression(max_iter=3000)\n",
    ")\n",
    "model_lr.fit(X_train,y_train)"
   ]
  },
  {
   "cell_type": "code",
   "execution_count": 33,
   "id": "ca02d24e-2725-4b5b-8b28-a579cf7a8d14",
   "metadata": {
    "deletable": false,
    "editable": false
   },
   "outputs": [
    {
     "data": {
      "text/html": [
       "\n",
       "    <div class=\"wqet-result\">\n",
       "      <div class=\"animation\">\n",
       "        <svg class=\"checkmark\" xmlns=\"http://www.w3.org/2000/svg\" viewBox=\"0 0 52 52\">\n",
       "          <circle class=\"checkmark__circle\" cx=\"26\" cy=\"26\" r=\"25\" fill=\"none\"/>\n",
       "          <path class=\"checkmark__check\" fill=\"none\" d=\"M14.1 27.2l7.1 7.2 16.7-16.8\"/>\n",
       "        </svg>\n",
       "      </div>\n",
       "      <div class=\"details\">\n",
       "        <p class=\"title\"><p>That's the right answer. Keep it up!</p></p>\n",
       "        <p>Score: 1</p>\n",
       "      </div>\n",
       "    </div>\n"
      ],
      "text/plain": [
       "<IPython.core.display.HTML object>"
      ]
     },
     "metadata": {},
     "output_type": "display_data"
    }
   ],
   "source": [
    "\n",
    "wqet_grader.grade(\"Project 4 Assessment\", \"Task 4.5.12\", model_lr)"
   ]
  },
  {
   "cell_type": "markdown",
   "id": "8c7837f0-f107-4abc-8ff4-86223dac5e08",
   "metadata": {
    "deletable": false,
    "editable": false
   },
   "source": [
    "**Task 4.5.13:** Calculate training and validation accuracy score for `model_lr`. "
   ]
  },
  {
   "cell_type": "code",
   "execution_count": 34,
   "id": "4df9fcb4-c627-4eed-985d-db6cc7b55a42",
   "metadata": {
    "deletable": false
   },
   "outputs": [
    {
     "name": "stdout",
     "output_type": "stream",
     "text": [
      "Logistic Regression, Training Accuracy Score: 0.6513735994512135\n",
      "Logistic Regression, Validation Accuracy Score: 0.6530998889397008\n"
     ]
    }
   ],
   "source": [
    "lr_train_acc = model_lr.score(X_train,y_train)\n",
    "lr_val_acc = model_lr.score(X_val,y_val)\n",
    "print(\"Logistic Regression, Training Accuracy Score:\", lr_train_acc)\n",
    "print(\"Logistic Regression, Validation Accuracy Score:\", lr_val_acc)"
   ]
  },
  {
   "cell_type": "code",
   "execution_count": 35,
   "id": "4e679cce-f000-48d6-8c7d-24941a29b720",
   "metadata": {
    "deletable": false,
    "editable": false
   },
   "outputs": [
    {
     "data": {
      "text/html": [
       "\n",
       "    <div class=\"wqet-result\">\n",
       "      <div class=\"animation\">\n",
       "        <svg class=\"checkmark\" xmlns=\"http://www.w3.org/2000/svg\" viewBox=\"0 0 52 52\">\n",
       "          <circle class=\"checkmark__circle\" cx=\"26\" cy=\"26\" r=\"25\" fill=\"none\"/>\n",
       "          <path class=\"checkmark__check\" fill=\"none\" d=\"M14.1 27.2l7.1 7.2 16.7-16.8\"/>\n",
       "        </svg>\n",
       "      </div>\n",
       "      <div class=\"details\">\n",
       "        <p class=\"title\"><p>Wow, you're making great progress.</p></p>\n",
       "        <p>Score: 1</p>\n",
       "      </div>\n",
       "    </div>\n"
      ],
      "text/plain": [
       "<IPython.core.display.HTML object>"
      ]
     },
     "metadata": {},
     "output_type": "display_data"
    }
   ],
   "source": [
    "submission = [lr_train_acc, lr_val_acc]\n",
    "wqet_grader.grade(\"Project 4 Assessment\", \"Task 4.5.13\", submission)"
   ]
  },
  {
   "cell_type": "markdown",
   "id": "aeee54b5-3a37-4bd8-9dd6-d1dee9ed9bc6",
   "metadata": {
    "deletable": false,
    "editable": false
   },
   "source": [
    "**Task 4.5.14:** Perhaps a decision tree model will perform better than logistic regression, but what's the best hyperparameter value for `max_depth`? Create a `for` loop to train and evaluate the model `model_dt` at all depths from 1 to 15. Be sure to use an appropriate encoder for your model, and to record its training and validation accuracy scores at every depth. The grader will evaluate your validation accuracy scores only."
   ]
  },
  {
   "cell_type": "code",
   "execution_count": 36,
   "id": "7b41bf29-973d-4270-acd4-495c7c9de283",
   "metadata": {
    "deletable": false
   },
   "outputs": [
    {
     "name": "stdout",
     "output_type": "stream",
     "text": [
      "Training Accuracy Scores: [0.6303041191650606, 0.6303041191650606, 0.642292490118577]\n",
      "Validation Accuracy Scores: [0.6350035931273273, 0.6350035931273273, 0.6453909975828053]\n"
     ]
    }
   ],
   "source": [
    "depth_hyperparams = range(1, 16)\n",
    "training_acc = []\n",
    "validation_acc = []\n",
    "for d in depth_hyperparams:\n",
    "    model_dt = make_pipeline(\n",
    "    OrdinalEncoder(),\n",
    "    DecisionTreeClassifier(max_depth=d, random_state=42)\n",
    "    )\n",
    "    model_dt.fit(X_train, y_train)\n",
    "# Calculate training accuracy score and append to `training_acc`\n",
    "    training_acc.append(model_dt.score(X_train,y_train))\n",
    "# Calculate validation accuracy score and append to `training_acc`\n",
    "    validation_acc.append(model_dt.score(X_val,y_val))\n",
    "print(\"Training Accuracy Scores:\", training_acc[:3])\n",
    "print(\"Validation Accuracy Scores:\", validation_acc[:3])"
   ]
  },
  {
   "cell_type": "code",
   "execution_count": 37,
   "id": "7801c268-1684-452e-90f4-5eda50e99203",
   "metadata": {
    "deletable": false,
    "editable": false
   },
   "outputs": [
    {
     "data": {
      "text/html": [
       "\n",
       "    <div class=\"wqet-result\">\n",
       "      <div class=\"animation\">\n",
       "        <svg class=\"checkmark\" xmlns=\"http://www.w3.org/2000/svg\" viewBox=\"0 0 52 52\">\n",
       "          <circle class=\"checkmark__circle\" cx=\"26\" cy=\"26\" r=\"25\" fill=\"none\"/>\n",
       "          <path class=\"checkmark__check\" fill=\"none\" d=\"M14.1 27.2l7.1 7.2 16.7-16.8\"/>\n",
       "        </svg>\n",
       "      </div>\n",
       "      <div class=\"details\">\n",
       "        <p class=\"title\"><p>Python master 😁</p></p>\n",
       "        <p>Score: 1</p>\n",
       "      </div>\n",
       "    </div>\n"
      ],
      "text/plain": [
       "<IPython.core.display.HTML object>"
      ]
     },
     "metadata": {},
     "output_type": "display_data"
    }
   ],
   "source": [
    "submission = pd.Series(validation_acc, index=depth_hyperparams)\n",
    "\n",
    "wqet_grader.grade(\"Project 4 Assessment\", \"Task 4.5.14\", submission)"
   ]
  },
  {
   "cell_type": "markdown",
   "id": "ccca1d0e-59fc-43cb-8dce-1cbb18c25d1d",
   "metadata": {
    "deletable": false,
    "editable": false
   },
   "source": [
    "**Task 4.5.15:** Using the values in `training_acc` and `validation_acc`, plot the validation curve for `model_dt`. Label your x-axis `\"Max Depth\"` and your y-axis `\"Accuracy Score\"`. Use the title `\"Validation Curve, Decision Tree Model\"`, and include a legend. "
   ]
  },
  {
   "cell_type": "code",
   "execution_count": 38,
   "id": "b871f317-2c38-45fa-86c3-3446bf55a68f",
   "metadata": {
    "deletable": false
   },
   "outputs": [
    {
     "data": {
      "image/png": "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\n",
      "text/plain": [
       "<Figure size 432x288 with 1 Axes>"
      ]
     },
     "metadata": {
      "needs_background": "light"
     },
     "output_type": "display_data"
    }
   ],
   "source": [
    "# Plot `depth_hyperparams`, `training_acc`\n",
    "plt.plot(depth_hyperparams, training_acc, label=\"training\")\n",
    "plt.plot(depth_hyperparams, validation_acc, label=\"validation\")\n",
    "plt.xlabel(\"Max Depth\")\n",
    "plt.ylabel(\"Accuracy Score\")\n",
    "plt.title(\"Validation Curve, Decision Tree Model\")\n",
    "plt.legend();\n",
    "# Don't delete the code below 👇\n",
    "plt.savefig(\"images/4-5-15.png\", dpi=150)\n"
   ]
  },
  {
   "cell_type": "code",
   "execution_count": 39,
   "id": "3df8c418-7e42-4956-a81b-f87bb6bc1c03",
   "metadata": {
    "deletable": false,
    "editable": false
   },
   "outputs": [
    {
     "data": {
      "text/html": [
       "\n",
       "    <div class=\"wqet-result\">\n",
       "      <div class=\"animation\">\n",
       "        <svg class=\"checkmark\" xmlns=\"http://www.w3.org/2000/svg\" viewBox=\"0 0 52 52\">\n",
       "          <circle class=\"checkmark__circle\" cx=\"26\" cy=\"26\" r=\"25\" fill=\"none\"/>\n",
       "          <path class=\"checkmark__check\" fill=\"none\" d=\"M14.1 27.2l7.1 7.2 16.7-16.8\"/>\n",
       "        </svg>\n",
       "      </div>\n",
       "      <div class=\"details\">\n",
       "        <p class=\"title\"><p>That's the right answer. Keep it up!</p></p>\n",
       "        <p>Score: 1</p>\n",
       "      </div>\n",
       "    </div>\n"
      ],
      "text/plain": [
       "<IPython.core.display.HTML object>"
      ]
     },
     "metadata": {},
     "output_type": "display_data"
    }
   ],
   "source": [
    "with open(\"images/4-5-15.png\", \"rb\") as file:\n",
    "    wqet_grader.grade(\"Project 4 Assessment\", \"Task 4.5.15\", file)"
   ]
  },
  {
   "cell_type": "markdown",
   "id": "cf5db086-c8b9-4be4-8e03-78aa67e8f5a6",
   "metadata": {
    "deletable": false,
    "editable": false
   },
   "source": [
    "**Task 4.5.16:** Build and train a new decision tree model `final_model_dt`, using the value for `max_depth` that yielded the best validation accuracy score in your plot above. "
   ]
  },
  {
   "cell_type": "code",
   "execution_count": 40,
   "id": "3b05fdc0-547e-4fca-8111-82b90f3c223b",
   "metadata": {
    "deletable": false
   },
   "outputs": [
    {
     "data": {
      "text/html": [
       "<style>#sk-container-id-2 {color: black;background-color: white;}#sk-container-id-2 pre{padding: 0;}#sk-container-id-2 div.sk-toggleable {background-color: white;}#sk-container-id-2 label.sk-toggleable__label {cursor: pointer;display: block;width: 100%;margin-bottom: 0;padding: 0.3em;box-sizing: border-box;text-align: center;}#sk-container-id-2 label.sk-toggleable__label-arrow:before {content: \"▸\";float: left;margin-right: 0.25em;color: #696969;}#sk-container-id-2 label.sk-toggleable__label-arrow:hover:before {color: black;}#sk-container-id-2 div.sk-estimator:hover label.sk-toggleable__label-arrow:before {color: black;}#sk-container-id-2 div.sk-toggleable__content {max-height: 0;max-width: 0;overflow: hidden;text-align: left;background-color: #f0f8ff;}#sk-container-id-2 div.sk-toggleable__content pre {margin: 0.2em;color: black;border-radius: 0.25em;background-color: #f0f8ff;}#sk-container-id-2 input.sk-toggleable__control:checked~div.sk-toggleable__content {max-height: 200px;max-width: 100%;overflow: auto;}#sk-container-id-2 input.sk-toggleable__control:checked~label.sk-toggleable__label-arrow:before {content: \"▾\";}#sk-container-id-2 div.sk-estimator input.sk-toggleable__control:checked~label.sk-toggleable__label {background-color: #d4ebff;}#sk-container-id-2 div.sk-label input.sk-toggleable__control:checked~label.sk-toggleable__label {background-color: #d4ebff;}#sk-container-id-2 input.sk-hidden--visually {border: 0;clip: rect(1px 1px 1px 1px);clip: rect(1px, 1px, 1px, 1px);height: 1px;margin: -1px;overflow: hidden;padding: 0;position: absolute;width: 1px;}#sk-container-id-2 div.sk-estimator {font-family: monospace;background-color: #f0f8ff;border: 1px dotted black;border-radius: 0.25em;box-sizing: border-box;margin-bottom: 0.5em;}#sk-container-id-2 div.sk-estimator:hover {background-color: #d4ebff;}#sk-container-id-2 div.sk-parallel-item::after {content: \"\";width: 100%;border-bottom: 1px solid gray;flex-grow: 1;}#sk-container-id-2 div.sk-label:hover label.sk-toggleable__label {background-color: #d4ebff;}#sk-container-id-2 div.sk-serial::before {content: \"\";position: absolute;border-left: 1px solid gray;box-sizing: border-box;top: 0;bottom: 0;left: 50%;z-index: 0;}#sk-container-id-2 div.sk-serial {display: flex;flex-direction: column;align-items: center;background-color: white;padding-right: 0.2em;padding-left: 0.2em;position: relative;}#sk-container-id-2 div.sk-item {position: relative;z-index: 1;}#sk-container-id-2 div.sk-parallel {display: flex;align-items: stretch;justify-content: center;background-color: white;position: relative;}#sk-container-id-2 div.sk-item::before, #sk-container-id-2 div.sk-parallel-item::before {content: \"\";position: absolute;border-left: 1px solid gray;box-sizing: border-box;top: 0;bottom: 0;left: 50%;z-index: -1;}#sk-container-id-2 div.sk-parallel-item {display: flex;flex-direction: column;z-index: 1;position: relative;background-color: white;}#sk-container-id-2 div.sk-parallel-item:first-child::after {align-self: flex-end;width: 50%;}#sk-container-id-2 div.sk-parallel-item:last-child::after {align-self: flex-start;width: 50%;}#sk-container-id-2 div.sk-parallel-item:only-child::after {width: 0;}#sk-container-id-2 div.sk-dashed-wrapped {border: 1px dashed gray;margin: 0 0.4em 0.5em 0.4em;box-sizing: border-box;padding-bottom: 0.4em;background-color: white;}#sk-container-id-2 div.sk-label label {font-family: monospace;font-weight: bold;display: inline-block;line-height: 1.2em;}#sk-container-id-2 div.sk-label-container {text-align: center;}#sk-container-id-2 div.sk-container {/* jupyter's `normalize.less` sets `[hidden] { display: none; }` but bootstrap.min.css set `[hidden] { display: none !important; }` so we also need the `!important` here to be able to override the default hidden behavior on the sphinx rendered scikit-learn.org. See: https://github.com/scikit-learn/scikit-learn/issues/21755 */display: inline-block !important;position: relative;}#sk-container-id-2 div.sk-text-repr-fallback {display: none;}</style><div id=\"sk-container-id-2\" class=\"sk-top-container\"><div class=\"sk-text-repr-fallback\"><pre>Pipeline(steps=[(&#x27;ordinalencoder&#x27;,\n",
       "                 OrdinalEncoder(cols=[&#x27;land_surface_condition&#x27;,\n",
       "                                      &#x27;foundation_type&#x27;, &#x27;roof_type&#x27;,\n",
       "                                      &#x27;ground_floor_type&#x27;, &#x27;other_floor_type&#x27;,\n",
       "                                      &#x27;position&#x27;, &#x27;plan_configuration&#x27;,\n",
       "                                      &#x27;superstructure&#x27;],\n",
       "                                mapping=[{&#x27;col&#x27;: &#x27;land_surface_condition&#x27;,\n",
       "                                          &#x27;data_type&#x27;: dtype(&#x27;O&#x27;),\n",
       "                                          &#x27;mapping&#x27;: Flat              1\n",
       "Steep slope       2\n",
       "Moderate slope    3\n",
       "NaN              -2\n",
       "dtype: int64},\n",
       "                                         {&#x27;col&#x27;: &#x27;foundation_type&#x27;,\n",
       "                                          &#x27;dat...\n",
       "T-shape            5\n",
       "H-shape            6\n",
       "U-shape            7\n",
       "Others             8\n",
       "E-shape            9\n",
       "NaN               -2\n",
       "dtype: int64},\n",
       "                                         {&#x27;col&#x27;: &#x27;superstructure&#x27;,\n",
       "                                          &#x27;data_type&#x27;: dtype(&#x27;O&#x27;),\n",
       "                                          &#x27;mapping&#x27;: Stone, mud mortar        1\n",
       "Adobe/mud                2\n",
       "RC, non-engineered       3\n",
       "Brick, cement mortar     4\n",
       "Brick, mud mortar        5\n",
       "RC, engineered           6\n",
       "Bamboo                   7\n",
       "Timber                   8\n",
       "Other                    9\n",
       "Stone                   10\n",
       "Stone, cement mortar    11\n",
       "NaN                     -2\n",
       "dtype: int64}])),\n",
       "                (&#x27;decisiontreeclassifier&#x27;,\n",
       "                 DecisionTreeClassifier(max_depth=10, random_state=42))])</pre><b>In a Jupyter environment, please rerun this cell to show the HTML representation or trust the notebook. <br />On GitHub, the HTML representation is unable to render, please try loading this page with nbviewer.org.</b></div><div class=\"sk-container\" hidden><div class=\"sk-item sk-dashed-wrapped\"><div class=\"sk-label-container\"><div class=\"sk-label sk-toggleable\"><input class=\"sk-toggleable__control sk-hidden--visually\" id=\"sk-estimator-id-4\" type=\"checkbox\" ><label for=\"sk-estimator-id-4\" class=\"sk-toggleable__label sk-toggleable__label-arrow\">Pipeline</label><div class=\"sk-toggleable__content\"><pre>Pipeline(steps=[(&#x27;ordinalencoder&#x27;,\n",
       "                 OrdinalEncoder(cols=[&#x27;land_surface_condition&#x27;,\n",
       "                                      &#x27;foundation_type&#x27;, &#x27;roof_type&#x27;,\n",
       "                                      &#x27;ground_floor_type&#x27;, &#x27;other_floor_type&#x27;,\n",
       "                                      &#x27;position&#x27;, &#x27;plan_configuration&#x27;,\n",
       "                                      &#x27;superstructure&#x27;],\n",
       "                                mapping=[{&#x27;col&#x27;: &#x27;land_surface_condition&#x27;,\n",
       "                                          &#x27;data_type&#x27;: dtype(&#x27;O&#x27;),\n",
       "                                          &#x27;mapping&#x27;: Flat              1\n",
       "Steep slope       2\n",
       "Moderate slope    3\n",
       "NaN              -2\n",
       "dtype: int64},\n",
       "                                         {&#x27;col&#x27;: &#x27;foundation_type&#x27;,\n",
       "                                          &#x27;dat...\n",
       "T-shape            5\n",
       "H-shape            6\n",
       "U-shape            7\n",
       "Others             8\n",
       "E-shape            9\n",
       "NaN               -2\n",
       "dtype: int64},\n",
       "                                         {&#x27;col&#x27;: &#x27;superstructure&#x27;,\n",
       "                                          &#x27;data_type&#x27;: dtype(&#x27;O&#x27;),\n",
       "                                          &#x27;mapping&#x27;: Stone, mud mortar        1\n",
       "Adobe/mud                2\n",
       "RC, non-engineered       3\n",
       "Brick, cement mortar     4\n",
       "Brick, mud mortar        5\n",
       "RC, engineered           6\n",
       "Bamboo                   7\n",
       "Timber                   8\n",
       "Other                    9\n",
       "Stone                   10\n",
       "Stone, cement mortar    11\n",
       "NaN                     -2\n",
       "dtype: int64}])),\n",
       "                (&#x27;decisiontreeclassifier&#x27;,\n",
       "                 DecisionTreeClassifier(max_depth=10, random_state=42))])</pre></div></div></div><div class=\"sk-serial\"><div class=\"sk-item\"><div class=\"sk-estimator sk-toggleable\"><input class=\"sk-toggleable__control sk-hidden--visually\" id=\"sk-estimator-id-5\" type=\"checkbox\" ><label for=\"sk-estimator-id-5\" class=\"sk-toggleable__label sk-toggleable__label-arrow\">OrdinalEncoder</label><div class=\"sk-toggleable__content\"><pre>OrdinalEncoder(cols=[&#x27;land_surface_condition&#x27;, &#x27;foundation_type&#x27;, &#x27;roof_type&#x27;,\n",
       "                     &#x27;ground_floor_type&#x27;, &#x27;other_floor_type&#x27;, &#x27;position&#x27;,\n",
       "                     &#x27;plan_configuration&#x27;, &#x27;superstructure&#x27;],\n",
       "               mapping=[{&#x27;col&#x27;: &#x27;land_surface_condition&#x27;,\n",
       "                         &#x27;data_type&#x27;: dtype(&#x27;O&#x27;),\n",
       "                         &#x27;mapping&#x27;: Flat              1\n",
       "Steep slope       2\n",
       "Moderate slope    3\n",
       "NaN              -2\n",
       "dtype: int64},\n",
       "                        {&#x27;col&#x27;: &#x27;foundation_type&#x27;, &#x27;data_type&#x27;: dtype(&#x27;O&#x27;),\n",
       "                         &#x27;mapping&#x27;: Mud mo...\n",
       "                        {&#x27;col&#x27;: &#x27;plan_configuration&#x27;, &#x27;data_type&#x27;: dtype(&#x27;O&#x27;),\n",
       "                         &#x27;mapping&#x27;: Rectangular        1\n",
       "L-shape            2\n",
       "Square             3\n",
       "Multi-projected    4\n",
       "T-shape            5\n",
       "H-shape            6\n",
       "U-shape            7\n",
       "Others             8\n",
       "E-shape            9\n",
       "NaN               -2\n",
       "dtype: int64},\n",
       "                        {&#x27;col&#x27;: &#x27;superstructure&#x27;, &#x27;data_type&#x27;: dtype(&#x27;O&#x27;),\n",
       "                         &#x27;mapping&#x27;: Stone, mud mortar        1\n",
       "Adobe/mud                2\n",
       "RC, non-engineered       3\n",
       "Brick, cement mortar     4\n",
       "Brick, mud mortar        5\n",
       "RC, engineered           6\n",
       "Bamboo                   7\n",
       "Timber                   8\n",
       "Other                    9\n",
       "Stone                   10\n",
       "Stone, cement mortar    11\n",
       "NaN                     -2\n",
       "dtype: int64}])</pre></div></div></div><div class=\"sk-item\"><div class=\"sk-estimator sk-toggleable\"><input class=\"sk-toggleable__control sk-hidden--visually\" id=\"sk-estimator-id-6\" type=\"checkbox\" ><label for=\"sk-estimator-id-6\" class=\"sk-toggleable__label sk-toggleable__label-arrow\">DecisionTreeClassifier</label><div class=\"sk-toggleable__content\"><pre>DecisionTreeClassifier(max_depth=10, random_state=42)</pre></div></div></div></div></div></div></div>"
      ],
      "text/plain": [
       "Pipeline(steps=[('ordinalencoder',\n",
       "                 OrdinalEncoder(cols=['land_surface_condition',\n",
       "                                      'foundation_type', 'roof_type',\n",
       "                                      'ground_floor_type', 'other_floor_type',\n",
       "                                      'position', 'plan_configuration',\n",
       "                                      'superstructure'],\n",
       "                                mapping=[{'col': 'land_surface_condition',\n",
       "                                          'data_type': dtype('O'),\n",
       "                                          'mapping': Flat              1\n",
       "Steep slope       2\n",
       "Moderate slope    3\n",
       "NaN              -2\n",
       "dtype: int64},\n",
       "                                         {'col': 'foundation_type',\n",
       "                                          'dat...\n",
       "T-shape            5\n",
       "H-shape            6\n",
       "U-shape            7\n",
       "Others             8\n",
       "E-shape            9\n",
       "NaN               -2\n",
       "dtype: int64},\n",
       "                                         {'col': 'superstructure',\n",
       "                                          'data_type': dtype('O'),\n",
       "                                          'mapping': Stone, mud mortar        1\n",
       "Adobe/mud                2\n",
       "RC, non-engineered       3\n",
       "Brick, cement mortar     4\n",
       "Brick, mud mortar        5\n",
       "RC, engineered           6\n",
       "Bamboo                   7\n",
       "Timber                   8\n",
       "Other                    9\n",
       "Stone                   10\n",
       "Stone, cement mortar    11\n",
       "NaN                     -2\n",
       "dtype: int64}])),\n",
       "                ('decisiontreeclassifier',\n",
       "                 DecisionTreeClassifier(max_depth=10, random_state=42))])"
      ]
     },
     "execution_count": 40,
     "metadata": {},
     "output_type": "execute_result"
    }
   ],
   "source": [
    "final_model_dt = make_pipeline(\n",
    "OrdinalEncoder(),\n",
    "DecisionTreeClassifier(max_depth=10, random_state=42)\n",
    ")\n",
    "final_model_dt.fit(X_val,y_val)"
   ]
  },
  {
   "cell_type": "code",
   "execution_count": 41,
   "id": "2212ad7c-cb60-4d7a-aeb3-2a915436073d",
   "metadata": {
    "deletable": false,
    "editable": false
   },
   "outputs": [
    {
     "data": {
      "text/html": [
       "\n",
       "    <div class=\"wqet-result\">\n",
       "      <div class=\"animation\">\n",
       "        <svg class=\"checkmark\" xmlns=\"http://www.w3.org/2000/svg\" viewBox=\"0 0 52 52\">\n",
       "          <circle class=\"checkmark__circle\" cx=\"26\" cy=\"26\" r=\"25\" fill=\"none\"/>\n",
       "          <path class=\"checkmark__check\" fill=\"none\" d=\"M14.1 27.2l7.1 7.2 16.7-16.8\"/>\n",
       "        </svg>\n",
       "      </div>\n",
       "      <div class=\"details\">\n",
       "        <p class=\"title\"><p>Party time! 🎉🎉🎉</p></p>\n",
       "        <p>Score: 1</p>\n",
       "      </div>\n",
       "    </div>\n"
      ],
      "text/plain": [
       "<IPython.core.display.HTML object>"
      ]
     },
     "metadata": {},
     "output_type": "display_data"
    }
   ],
   "source": [
    "\n",
    "wqet_grader.grade(\"Project 4 Assessment\", \"Task 4.5.16\", final_model_dt)"
   ]
  },
  {
   "cell_type": "markdown",
   "id": "be7ec560-b79b-4fb1-9b86-350e26eed2f8",
   "metadata": {
    "deletable": false,
    "editable": false
   },
   "source": [
    "## Evaluate"
   ]
  },
  {
   "cell_type": "markdown",
   "id": "73082001-4b01-4aac-9c04-1d4d339d0d32",
   "metadata": {
    "deletable": false,
    "editable": false
   },
   "source": [
    "**Task 4.5.17:** How does your model perform on the test set? First, read the CSV file `\"data/kavrepalanchok-test-features.csv\"` into the DataFrame `X_test`. Next, use `final_model_dt` to generate a list of test predictions `y_test_pred`. Finally, submit your test predictions to the grader to see how your model performs.\n",
    "\n",
    "**Tip:** Make sure the order of the columns in `X_test` is the same as in your `X_train`. Otherwise, it could hurt your model's performance."
   ]
  },
  {
   "cell_type": "code",
   "execution_count": 42,
   "id": "8f3a24cf-7053-464a-a558-08eb34fe867a",
   "metadata": {
    "deletable": false
   },
   "outputs": [
    {
     "data": {
      "text/plain": [
       "array([1, 1, 1, 1, 0])"
      ]
     },
     "execution_count": 42,
     "metadata": {},
     "output_type": "execute_result"
    }
   ],
   "source": [
    "X_test = pd.read_csv(\"data/kavrepalanchok-test-features.csv\", index_col=\"b_id\")\n",
    "y_test_pred = final_model_dt.predict(X_test)\n",
    "y_test_pred[:5]"
   ]
  },
  {
   "cell_type": "code",
   "execution_count": 44,
   "id": "fdee354c-f7cf-4c64-819a-dc401e2040d8",
   "metadata": {
    "deletable": false,
    "editable": false
   },
   "outputs": [
    {
     "ename": "Exception",
     "evalue": "Could not grade submission: Could not verify access to this assessment: Received error from WQET submission API: You have already passed this course!",
     "output_type": "error",
     "traceback": [
      "\u001b[0;31m---------------------------------------------------------------------------\u001b[0m",
      "\u001b[0;31mException\u001b[0m                                 Traceback (most recent call last)",
      "Cell \u001b[0;32mIn [44], line 2\u001b[0m\n\u001b[1;32m      1\u001b[0m submission \u001b[38;5;241m=\u001b[39m pd\u001b[38;5;241m.\u001b[39mSeries(y_test_pred)\n\u001b[0;32m----> 2\u001b[0m wqet_grader\u001b[38;5;241m.\u001b[39mgrade(\u001b[38;5;124m\"\u001b[39m\u001b[38;5;124mProject 4 Assessment\u001b[39m\u001b[38;5;124m\"\u001b[39m, \u001b[38;5;124m\"\u001b[39m\u001b[38;5;124mTask 4.5.17\u001b[39m\u001b[38;5;124m\"\u001b[39m, submission)\n",
      "File \u001b[0;32m/opt/conda/lib/python3.9/site-packages/wqet_grader/__init__.py:182\u001b[0m, in \u001b[0;36mgrade\u001b[0;34m(assessment_id, question_id, submission)\u001b[0m\n\u001b[1;32m    177\u001b[0m \u001b[38;5;28;01mdef\u001b[39;00m \u001b[38;5;21mgrade\u001b[39m(assessment_id, question_id, submission):\n\u001b[1;32m    178\u001b[0m   submission_object \u001b[38;5;241m=\u001b[39m {\n\u001b[1;32m    179\u001b[0m     \u001b[38;5;124m'\u001b[39m\u001b[38;5;124mtype\u001b[39m\u001b[38;5;124m'\u001b[39m: \u001b[38;5;124m'\u001b[39m\u001b[38;5;124msimple\u001b[39m\u001b[38;5;124m'\u001b[39m,\n\u001b[1;32m    180\u001b[0m     \u001b[38;5;124m'\u001b[39m\u001b[38;5;124margument\u001b[39m\u001b[38;5;124m'\u001b[39m: [submission]\n\u001b[1;32m    181\u001b[0m   }\n\u001b[0;32m--> 182\u001b[0m   \u001b[38;5;28;01mreturn\u001b[39;00m show_score(\u001b[43mgrade_submission\u001b[49m\u001b[43m(\u001b[49m\u001b[43massessment_id\u001b[49m\u001b[43m,\u001b[49m\u001b[43m \u001b[49m\u001b[43mquestion_id\u001b[49m\u001b[43m,\u001b[49m\u001b[43m \u001b[49m\u001b[43msubmission_object\u001b[49m\u001b[43m)\u001b[49m)\n",
      "File \u001b[0;32m/opt/conda/lib/python3.9/site-packages/wqet_grader/transport.py:146\u001b[0m, in \u001b[0;36mgrade_submission\u001b[0;34m(assessment_id, question_id, submission_object)\u001b[0m\n\u001b[1;32m    144\u001b[0m     \u001b[38;5;28;01mraise\u001b[39;00m \u001b[38;5;167;01mException\u001b[39;00m(\u001b[38;5;124m'\u001b[39m\u001b[38;5;124mGrader raised error: \u001b[39m\u001b[38;5;132;01m{}\u001b[39;00m\u001b[38;5;124m'\u001b[39m\u001b[38;5;241m.\u001b[39mformat(error[\u001b[38;5;124m'\u001b[39m\u001b[38;5;124mmessage\u001b[39m\u001b[38;5;124m'\u001b[39m]))\n\u001b[1;32m    145\u001b[0m   \u001b[38;5;28;01melse\u001b[39;00m:\n\u001b[0;32m--> 146\u001b[0m     \u001b[38;5;28;01mraise\u001b[39;00m \u001b[38;5;167;01mException\u001b[39;00m(\u001b[38;5;124m'\u001b[39m\u001b[38;5;124mCould not grade submission: \u001b[39m\u001b[38;5;132;01m{}\u001b[39;00m\u001b[38;5;124m'\u001b[39m\u001b[38;5;241m.\u001b[39mformat(error[\u001b[38;5;124m'\u001b[39m\u001b[38;5;124mmessage\u001b[39m\u001b[38;5;124m'\u001b[39m]))\n\u001b[1;32m    147\u001b[0m result \u001b[38;5;241m=\u001b[39m envelope[\u001b[38;5;124m'\u001b[39m\u001b[38;5;124mdata\u001b[39m\u001b[38;5;124m'\u001b[39m][\u001b[38;5;124m'\u001b[39m\u001b[38;5;124mresult\u001b[39m\u001b[38;5;124m'\u001b[39m]\n\u001b[1;32m    149\u001b[0m \u001b[38;5;66;03m# Used only in testing\u001b[39;00m\n",
      "\u001b[0;31mException\u001b[0m: Could not grade submission: Could not verify access to this assessment: Received error from WQET submission API: You have already passed this course!"
     ]
    }
   ],
   "source": [
    "submission = pd.Series(y_test_pred)\n",
    "wqet_grader.grade(\"Project 4 Assessment\", \"Task 4.5.17\", submission)"
   ]
  },
  {
   "cell_type": "markdown",
   "id": "751232ec-054c-4773-a72f-7390481aefd8",
   "metadata": {
    "deletable": false,
    "editable": false
   },
   "source": [
    "# Communicate Results"
   ]
  },
  {
   "cell_type": "markdown",
   "id": "6a4ce549-358e-4b20-9471-027c24e8b2fb",
   "metadata": {
    "deletable": false,
    "editable": false
   },
   "source": [
    "**Task 4.5.18:** What are the most important features for `final_model_dt`? Create a Series Gini `feat_imp`, where the index labels are the feature names for your dataset and the values are the feature importances for your model. Be sure that the Series is sorted from smallest to largest feature importance. "
   ]
  },
  {
   "cell_type": "code",
   "execution_count": 45,
   "id": "1edbfa3e-c51b-438e-a000-d99d135715d2",
   "metadata": {
    "deletable": false
   },
   "outputs": [
    {
     "ename": "SyntaxError",
     "evalue": "invalid syntax (2869934220.py, line 2)",
     "output_type": "error",
     "traceback": [
      "\u001b[0;36m  Cell \u001b[0;32mIn [45], line 2\u001b[0;36m\u001b[0m\n\u001b[0;31m    importances = final_model_dt.named_steps[\"decisiontreeclassifier\"].\u001b[0m\n\u001b[0m                                                                       ^\u001b[0m\n\u001b[0;31mSyntaxError\u001b[0m\u001b[0;31m:\u001b[0m invalid syntax\n"
     ]
    }
   ],
   "source": [
    "features = X_train.columns\n",
    "importances = final_model_dt.named_steps[\"decisiontreeclassifier\"].feature_importances_\n",
    "feat_imp = pd.Series(importances, index=features).sort_values()\n",
    "feat_imp.head()"
   ]
  },
  {
   "cell_type": "code",
   "execution_count": null,
   "id": "9c605f43-e287-4f45-a73a-e9edfb7cc945",
   "metadata": {
    "deletable": false,
    "editable": false
   },
   "outputs": [],
   "source": [
    "\n",
    "wqet_grader.grade(\"Project 4 Assessment\", \"Task 4.5.18\", feat_imp)"
   ]
  },
  {
   "cell_type": "markdown",
   "id": "7be11cdd-a6dc-4fe2-bfea-2f8233640613",
   "metadata": {
    "deletable": false,
    "editable": false
   },
   "source": [
    "**Task 4.5.19:** Create a horizontal bar chart of `feat_imp`. Label your x-axis `\"Gini Importance\"` and your y-axis `\"Label\"`. Use the title `\"Kavrepalanchok Decision Tree, Feature Importance\"`.\n",
    "\n",
    "Do you see any relationship between this plot and the exploratory data analysis you did regarding roof type?"
   ]
  },
  {
   "cell_type": "code",
   "execution_count": null,
   "id": "43304b26-366c-4390-a581-bc049c9c6c86",
   "metadata": {
    "deletable": false
   },
   "outputs": [],
   "source": [
    "# Create horizontal bar chart of feature importances\n",
    "\n",
    "# Don't delete the code below 👇\n",
    "plt.tight_layout()\n",
    "plt.savefig(\"images/4-5-19.png\", dpi=150)\n"
   ]
  },
  {
   "cell_type": "code",
   "execution_count": null,
   "id": "69f13559-2a5a-468d-ae37-bfeb3715248b",
   "metadata": {
    "deletable": false,
    "editable": false
   },
   "outputs": [],
   "source": [
    "with open(\"images/4-5-19.png\", \"rb\") as file:\n",
    "    wqet_grader.grade(\"Project 4 Assessment\", \"Task 4.5.19\", file)"
   ]
  },
  {
   "cell_type": "markdown",
   "id": "8411d749-4338-4cc0-8bd3-6e3837a10435",
   "metadata": {
    "deletable": false,
    "editable": false
   },
   "source": [
    "Congratulations! You made it to the end of Project 4. 👏👏👏"
   ]
  },
  {
   "cell_type": "markdown",
   "id": "03da88f1",
   "metadata": {
    "deletable": false,
    "editable": false
   },
   "source": [
    "---\n",
    "Copyright 2022 WorldQuant University. This\n",
    "content is licensed solely for personal use. Redistribution or\n",
    "publication of this material is strictly prohibited.\n"
   ]
  }
 ],
 "metadata": {
  "kernelspec": {
   "display_name": "Python 3 (ipykernel)",
   "language": "python",
   "name": "python3"
  },
  "language_info": {
   "codemirror_mode": {
    "name": "ipython",
    "version": 3
   },
   "file_extension": ".py",
   "mimetype": "text/x-python",
   "name": "python",
   "nbconvert_exporter": "python",
   "pygments_lexer": "ipython3",
   "version": "3.9.6"
  },
  "toc-autonumbering": false
 },
 "nbformat": 4,
 "nbformat_minor": 5
}
